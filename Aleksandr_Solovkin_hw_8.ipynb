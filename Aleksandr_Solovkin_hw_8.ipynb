{
  "cells": [
    {
      "cell_type": "markdown",
      "id": "047674ee",
      "metadata": {
        "id": "047674ee"
      },
      "source": [
        "# Часть 1 Бустинг (5 баллов)"
      ]
    },
    {
      "cell_type": "markdown",
      "id": "d8461109",
      "metadata": {
        "id": "d8461109"
      },
      "source": [
        "В этой части будем предсказывать зарплату data scientist-ов в зависимости  от ряда факторов с помощью градиентного бустинга."
      ]
    },
    {
      "cell_type": "markdown",
      "id": "1651e8dd",
      "metadata": {
        "id": "1651e8dd"
      },
      "source": [
        "В датасете есть следующие признаки:\n",
        "\n",
        "\n",
        "\n",
        "* work_year: The number of years of work experience in the field of data science.\n",
        "\n",
        "* experience_level: The level of experience, such as Junior, Senior, or Lead.\n",
        "\n",
        "* employment_type: The type of employment, such as Full-time or Contract.\n",
        "\n",
        "* job_title: The specific job title or role, such as Data Analyst or Data Scientist.\n",
        "\n",
        "* salary: The salary amount for the given job.\n",
        "\n",
        "* salary_currency: The currency in which the salary is denoted.\n",
        "\n",
        "* salary_in_usd: The equivalent salary amount converted to US dollars (USD) for comparison purposes.\n",
        "\n",
        "* employee_residence: The country or region where the employee resides.\n",
        "\n",
        "* remote_ratio: The percentage of remote work offered in the job.\n",
        "\n",
        "* company_location: The location of the company or organization.\n",
        "\n",
        "* company_size: The company's size is categorized as Small, Medium, or Large."
      ]
    },
    {
      "cell_type": "code",
      "execution_count": 1,
      "id": "dbf7595c",
      "metadata": {
        "colab": {
          "base_uri": "https://localhost:8080/",
          "height": 484
        },
        "id": "dbf7595c",
        "outputId": "df485c34-f33e-401e-86eb-11e7842b5805"
      },
      "outputs": [
        {
          "output_type": "stream",
          "name": "stdout",
          "text": [
            "--2024-06-13 07:50:20--  https://github.com/hse-ds/iad-intro-ds/raw/master/2024/homeworks/hw08_boosting_clustering/ds_salaries.csv\n",
            "Resolving github.com (github.com)... 140.82.116.3\n",
            "Connecting to github.com (github.com)|140.82.116.3|:443... connected.\n",
            "HTTP request sent, awaiting response... 302 Found\n",
            "Location: https://raw.githubusercontent.com/hse-ds/iad-intro-ds/master/2024/homeworks/hw08_boosting_clustering/ds_salaries.csv [following]\n",
            "--2024-06-13 07:50:20--  https://raw.githubusercontent.com/hse-ds/iad-intro-ds/master/2024/homeworks/hw08_boosting_clustering/ds_salaries.csv\n",
            "Resolving raw.githubusercontent.com (raw.githubusercontent.com)... 185.199.108.133, 185.199.109.133, 185.199.110.133, ...\n",
            "Connecting to raw.githubusercontent.com (raw.githubusercontent.com)|185.199.108.133|:443... connected.\n",
            "HTTP request sent, awaiting response... 200 OK\n",
            "Length: 210076 (205K) [text/plain]\n",
            "Saving to: ‘ds_salaries.csv’\n",
            "\n",
            "ds_salaries.csv     100%[===================>] 205.15K  --.-KB/s    in 0.03s   \n",
            "\n",
            "2024-06-13 07:50:20 (7.37 MB/s) - ‘ds_salaries.csv’ saved [210076/210076]\n",
            "\n"
          ]
        },
        {
          "output_type": "execute_result",
          "data": {
            "text/plain": [
              "   work_year experience_level employment_type                 job_title  \\\n",
              "0       2023               SE              FT  Principal Data Scientist   \n",
              "1       2023               MI              CT               ML Engineer   \n",
              "2       2023               MI              CT               ML Engineer   \n",
              "3       2023               SE              FT            Data Scientist   \n",
              "4       2023               SE              FT            Data Scientist   \n",
              "\n",
              "   salary salary_currency  salary_in_usd employee_residence  remote_ratio  \\\n",
              "0   80000             EUR          85847                 ES           100   \n",
              "1   30000             USD          30000                 US           100   \n",
              "2   25500             USD          25500                 US           100   \n",
              "3  175000             USD         175000                 CA           100   \n",
              "4  120000             USD         120000                 CA           100   \n",
              "\n",
              "  company_location company_size  \n",
              "0               ES            L  \n",
              "1               US            S  \n",
              "2               US            S  \n",
              "3               CA            M  \n",
              "4               CA            M  "
            ],
            "text/html": [
              "\n",
              "  <div id=\"df-931daf77-8361-4446-8bb0-28dfd8afd32e\" class=\"colab-df-container\">\n",
              "    <div>\n",
              "<style scoped>\n",
              "    .dataframe tbody tr th:only-of-type {\n",
              "        vertical-align: middle;\n",
              "    }\n",
              "\n",
              "    .dataframe tbody tr th {\n",
              "        vertical-align: top;\n",
              "    }\n",
              "\n",
              "    .dataframe thead th {\n",
              "        text-align: right;\n",
              "    }\n",
              "</style>\n",
              "<table border=\"1\" class=\"dataframe\">\n",
              "  <thead>\n",
              "    <tr style=\"text-align: right;\">\n",
              "      <th></th>\n",
              "      <th>work_year</th>\n",
              "      <th>experience_level</th>\n",
              "      <th>employment_type</th>\n",
              "      <th>job_title</th>\n",
              "      <th>salary</th>\n",
              "      <th>salary_currency</th>\n",
              "      <th>salary_in_usd</th>\n",
              "      <th>employee_residence</th>\n",
              "      <th>remote_ratio</th>\n",
              "      <th>company_location</th>\n",
              "      <th>company_size</th>\n",
              "    </tr>\n",
              "  </thead>\n",
              "  <tbody>\n",
              "    <tr>\n",
              "      <th>0</th>\n",
              "      <td>2023</td>\n",
              "      <td>SE</td>\n",
              "      <td>FT</td>\n",
              "      <td>Principal Data Scientist</td>\n",
              "      <td>80000</td>\n",
              "      <td>EUR</td>\n",
              "      <td>85847</td>\n",
              "      <td>ES</td>\n",
              "      <td>100</td>\n",
              "      <td>ES</td>\n",
              "      <td>L</td>\n",
              "    </tr>\n",
              "    <tr>\n",
              "      <th>1</th>\n",
              "      <td>2023</td>\n",
              "      <td>MI</td>\n",
              "      <td>CT</td>\n",
              "      <td>ML Engineer</td>\n",
              "      <td>30000</td>\n",
              "      <td>USD</td>\n",
              "      <td>30000</td>\n",
              "      <td>US</td>\n",
              "      <td>100</td>\n",
              "      <td>US</td>\n",
              "      <td>S</td>\n",
              "    </tr>\n",
              "    <tr>\n",
              "      <th>2</th>\n",
              "      <td>2023</td>\n",
              "      <td>MI</td>\n",
              "      <td>CT</td>\n",
              "      <td>ML Engineer</td>\n",
              "      <td>25500</td>\n",
              "      <td>USD</td>\n",
              "      <td>25500</td>\n",
              "      <td>US</td>\n",
              "      <td>100</td>\n",
              "      <td>US</td>\n",
              "      <td>S</td>\n",
              "    </tr>\n",
              "    <tr>\n",
              "      <th>3</th>\n",
              "      <td>2023</td>\n",
              "      <td>SE</td>\n",
              "      <td>FT</td>\n",
              "      <td>Data Scientist</td>\n",
              "      <td>175000</td>\n",
              "      <td>USD</td>\n",
              "      <td>175000</td>\n",
              "      <td>CA</td>\n",
              "      <td>100</td>\n",
              "      <td>CA</td>\n",
              "      <td>M</td>\n",
              "    </tr>\n",
              "    <tr>\n",
              "      <th>4</th>\n",
              "      <td>2023</td>\n",
              "      <td>SE</td>\n",
              "      <td>FT</td>\n",
              "      <td>Data Scientist</td>\n",
              "      <td>120000</td>\n",
              "      <td>USD</td>\n",
              "      <td>120000</td>\n",
              "      <td>CA</td>\n",
              "      <td>100</td>\n",
              "      <td>CA</td>\n",
              "      <td>M</td>\n",
              "    </tr>\n",
              "  </tbody>\n",
              "</table>\n",
              "</div>\n",
              "    <div class=\"colab-df-buttons\">\n",
              "\n",
              "  <div class=\"colab-df-container\">\n",
              "    <button class=\"colab-df-convert\" onclick=\"convertToInteractive('df-931daf77-8361-4446-8bb0-28dfd8afd32e')\"\n",
              "            title=\"Convert this dataframe to an interactive table.\"\n",
              "            style=\"display:none;\">\n",
              "\n",
              "  <svg xmlns=\"http://www.w3.org/2000/svg\" height=\"24px\" viewBox=\"0 -960 960 960\">\n",
              "    <path d=\"M120-120v-720h720v720H120Zm60-500h600v-160H180v160Zm220 220h160v-160H400v160Zm0 220h160v-160H400v160ZM180-400h160v-160H180v160Zm440 0h160v-160H620v160ZM180-180h160v-160H180v160Zm440 0h160v-160H620v160Z\"/>\n",
              "  </svg>\n",
              "    </button>\n",
              "\n",
              "  <style>\n",
              "    .colab-df-container {\n",
              "      display:flex;\n",
              "      gap: 12px;\n",
              "    }\n",
              "\n",
              "    .colab-df-convert {\n",
              "      background-color: #E8F0FE;\n",
              "      border: none;\n",
              "      border-radius: 50%;\n",
              "      cursor: pointer;\n",
              "      display: none;\n",
              "      fill: #1967D2;\n",
              "      height: 32px;\n",
              "      padding: 0 0 0 0;\n",
              "      width: 32px;\n",
              "    }\n",
              "\n",
              "    .colab-df-convert:hover {\n",
              "      background-color: #E2EBFA;\n",
              "      box-shadow: 0px 1px 2px rgba(60, 64, 67, 0.3), 0px 1px 3px 1px rgba(60, 64, 67, 0.15);\n",
              "      fill: #174EA6;\n",
              "    }\n",
              "\n",
              "    .colab-df-buttons div {\n",
              "      margin-bottom: 4px;\n",
              "    }\n",
              "\n",
              "    [theme=dark] .colab-df-convert {\n",
              "      background-color: #3B4455;\n",
              "      fill: #D2E3FC;\n",
              "    }\n",
              "\n",
              "    [theme=dark] .colab-df-convert:hover {\n",
              "      background-color: #434B5C;\n",
              "      box-shadow: 0px 1px 3px 1px rgba(0, 0, 0, 0.15);\n",
              "      filter: drop-shadow(0px 1px 2px rgba(0, 0, 0, 0.3));\n",
              "      fill: #FFFFFF;\n",
              "    }\n",
              "  </style>\n",
              "\n",
              "    <script>\n",
              "      const buttonEl =\n",
              "        document.querySelector('#df-931daf77-8361-4446-8bb0-28dfd8afd32e button.colab-df-convert');\n",
              "      buttonEl.style.display =\n",
              "        google.colab.kernel.accessAllowed ? 'block' : 'none';\n",
              "\n",
              "      async function convertToInteractive(key) {\n",
              "        const element = document.querySelector('#df-931daf77-8361-4446-8bb0-28dfd8afd32e');\n",
              "        const dataTable =\n",
              "          await google.colab.kernel.invokeFunction('convertToInteractive',\n",
              "                                                    [key], {});\n",
              "        if (!dataTable) return;\n",
              "\n",
              "        const docLinkHtml = 'Like what you see? Visit the ' +\n",
              "          '<a target=\"_blank\" href=https://colab.research.google.com/notebooks/data_table.ipynb>data table notebook</a>'\n",
              "          + ' to learn more about interactive tables.';\n",
              "        element.innerHTML = '';\n",
              "        dataTable['output_type'] = 'display_data';\n",
              "        await google.colab.output.renderOutput(dataTable, element);\n",
              "        const docLink = document.createElement('div');\n",
              "        docLink.innerHTML = docLinkHtml;\n",
              "        element.appendChild(docLink);\n",
              "      }\n",
              "    </script>\n",
              "  </div>\n",
              "\n",
              "\n",
              "<div id=\"df-d13e0ff2-c5f2-4907-a7e0-0a70fe541235\">\n",
              "  <button class=\"colab-df-quickchart\" onclick=\"quickchart('df-d13e0ff2-c5f2-4907-a7e0-0a70fe541235')\"\n",
              "            title=\"Suggest charts\"\n",
              "            style=\"display:none;\">\n",
              "\n",
              "<svg xmlns=\"http://www.w3.org/2000/svg\" height=\"24px\"viewBox=\"0 0 24 24\"\n",
              "     width=\"24px\">\n",
              "    <g>\n",
              "        <path d=\"M19 3H5c-1.1 0-2 .9-2 2v14c0 1.1.9 2 2 2h14c1.1 0 2-.9 2-2V5c0-1.1-.9-2-2-2zM9 17H7v-7h2v7zm4 0h-2V7h2v10zm4 0h-2v-4h2v4z\"/>\n",
              "    </g>\n",
              "</svg>\n",
              "  </button>\n",
              "\n",
              "<style>\n",
              "  .colab-df-quickchart {\n",
              "      --bg-color: #E8F0FE;\n",
              "      --fill-color: #1967D2;\n",
              "      --hover-bg-color: #E2EBFA;\n",
              "      --hover-fill-color: #174EA6;\n",
              "      --disabled-fill-color: #AAA;\n",
              "      --disabled-bg-color: #DDD;\n",
              "  }\n",
              "\n",
              "  [theme=dark] .colab-df-quickchart {\n",
              "      --bg-color: #3B4455;\n",
              "      --fill-color: #D2E3FC;\n",
              "      --hover-bg-color: #434B5C;\n",
              "      --hover-fill-color: #FFFFFF;\n",
              "      --disabled-bg-color: #3B4455;\n",
              "      --disabled-fill-color: #666;\n",
              "  }\n",
              "\n",
              "  .colab-df-quickchart {\n",
              "    background-color: var(--bg-color);\n",
              "    border: none;\n",
              "    border-radius: 50%;\n",
              "    cursor: pointer;\n",
              "    display: none;\n",
              "    fill: var(--fill-color);\n",
              "    height: 32px;\n",
              "    padding: 0;\n",
              "    width: 32px;\n",
              "  }\n",
              "\n",
              "  .colab-df-quickchart:hover {\n",
              "    background-color: var(--hover-bg-color);\n",
              "    box-shadow: 0 1px 2px rgba(60, 64, 67, 0.3), 0 1px 3px 1px rgba(60, 64, 67, 0.15);\n",
              "    fill: var(--button-hover-fill-color);\n",
              "  }\n",
              "\n",
              "  .colab-df-quickchart-complete:disabled,\n",
              "  .colab-df-quickchart-complete:disabled:hover {\n",
              "    background-color: var(--disabled-bg-color);\n",
              "    fill: var(--disabled-fill-color);\n",
              "    box-shadow: none;\n",
              "  }\n",
              "\n",
              "  .colab-df-spinner {\n",
              "    border: 2px solid var(--fill-color);\n",
              "    border-color: transparent;\n",
              "    border-bottom-color: var(--fill-color);\n",
              "    animation:\n",
              "      spin 1s steps(1) infinite;\n",
              "  }\n",
              "\n",
              "  @keyframes spin {\n",
              "    0% {\n",
              "      border-color: transparent;\n",
              "      border-bottom-color: var(--fill-color);\n",
              "      border-left-color: var(--fill-color);\n",
              "    }\n",
              "    20% {\n",
              "      border-color: transparent;\n",
              "      border-left-color: var(--fill-color);\n",
              "      border-top-color: var(--fill-color);\n",
              "    }\n",
              "    30% {\n",
              "      border-color: transparent;\n",
              "      border-left-color: var(--fill-color);\n",
              "      border-top-color: var(--fill-color);\n",
              "      border-right-color: var(--fill-color);\n",
              "    }\n",
              "    40% {\n",
              "      border-color: transparent;\n",
              "      border-right-color: var(--fill-color);\n",
              "      border-top-color: var(--fill-color);\n",
              "    }\n",
              "    60% {\n",
              "      border-color: transparent;\n",
              "      border-right-color: var(--fill-color);\n",
              "    }\n",
              "    80% {\n",
              "      border-color: transparent;\n",
              "      border-right-color: var(--fill-color);\n",
              "      border-bottom-color: var(--fill-color);\n",
              "    }\n",
              "    90% {\n",
              "      border-color: transparent;\n",
              "      border-bottom-color: var(--fill-color);\n",
              "    }\n",
              "  }\n",
              "</style>\n",
              "\n",
              "  <script>\n",
              "    async function quickchart(key) {\n",
              "      const quickchartButtonEl =\n",
              "        document.querySelector('#' + key + ' button');\n",
              "      quickchartButtonEl.disabled = true;  // To prevent multiple clicks.\n",
              "      quickchartButtonEl.classList.add('colab-df-spinner');\n",
              "      try {\n",
              "        const charts = await google.colab.kernel.invokeFunction(\n",
              "            'suggestCharts', [key], {});\n",
              "      } catch (error) {\n",
              "        console.error('Error during call to suggestCharts:', error);\n",
              "      }\n",
              "      quickchartButtonEl.classList.remove('colab-df-spinner');\n",
              "      quickchartButtonEl.classList.add('colab-df-quickchart-complete');\n",
              "    }\n",
              "    (() => {\n",
              "      let quickchartButtonEl =\n",
              "        document.querySelector('#df-d13e0ff2-c5f2-4907-a7e0-0a70fe541235 button');\n",
              "      quickchartButtonEl.style.display =\n",
              "        google.colab.kernel.accessAllowed ? 'block' : 'none';\n",
              "    })();\n",
              "  </script>\n",
              "</div>\n",
              "    </div>\n",
              "  </div>\n"
            ],
            "application/vnd.google.colaboratory.intrinsic+json": {
              "type": "dataframe",
              "variable_name": "df",
              "summary": "{\n  \"name\": \"df\",\n  \"rows\": 3755,\n  \"fields\": [\n    {\n      \"column\": \"work_year\",\n      \"properties\": {\n        \"dtype\": \"number\",\n        \"std\": 0,\n        \"min\": 2020,\n        \"max\": 2023,\n        \"num_unique_values\": 4,\n        \"samples\": [\n          2022,\n          2021,\n          2023\n        ],\n        \"semantic_type\": \"\",\n        \"description\": \"\"\n      }\n    },\n    {\n      \"column\": \"experience_level\",\n      \"properties\": {\n        \"dtype\": \"category\",\n        \"num_unique_values\": 4,\n        \"samples\": [\n          \"MI\",\n          \"EX\",\n          \"SE\"\n        ],\n        \"semantic_type\": \"\",\n        \"description\": \"\"\n      }\n    },\n    {\n      \"column\": \"employment_type\",\n      \"properties\": {\n        \"dtype\": \"category\",\n        \"num_unique_values\": 4,\n        \"samples\": [\n          \"CT\",\n          \"PT\",\n          \"FT\"\n        ],\n        \"semantic_type\": \"\",\n        \"description\": \"\"\n      }\n    },\n    {\n      \"column\": \"job_title\",\n      \"properties\": {\n        \"dtype\": \"category\",\n        \"num_unique_values\": 93,\n        \"samples\": [\n          \"Cloud Database Engineer\",\n          \"Staff Data Analyst\",\n          \"Insight Analyst\"\n        ],\n        \"semantic_type\": \"\",\n        \"description\": \"\"\n      }\n    },\n    {\n      \"column\": \"salary\",\n      \"properties\": {\n        \"dtype\": \"number\",\n        \"std\": 671676,\n        \"min\": 6000,\n        \"max\": 30400000,\n        \"num_unique_values\": 815,\n        \"samples\": [\n          84570,\n          138000,\n          370000\n        ],\n        \"semantic_type\": \"\",\n        \"description\": \"\"\n      }\n    },\n    {\n      \"column\": \"salary_currency\",\n      \"properties\": {\n        \"dtype\": \"category\",\n        \"num_unique_values\": 20,\n        \"samples\": [\n          \"EUR\",\n          \"MXN\",\n          \"DKK\"\n        ],\n        \"semantic_type\": \"\",\n        \"description\": \"\"\n      }\n    },\n    {\n      \"column\": \"salary_in_usd\",\n      \"properties\": {\n        \"dtype\": \"number\",\n        \"std\": 63055,\n        \"min\": 5132,\n        \"max\": 450000,\n        \"num_unique_values\": 1035,\n        \"samples\": [\n          205600,\n          375000,\n          140700\n        ],\n        \"semantic_type\": \"\",\n        \"description\": \"\"\n      }\n    },\n    {\n      \"column\": \"employee_residence\",\n      \"properties\": {\n        \"dtype\": \"category\",\n        \"num_unique_values\": 78,\n        \"samples\": [\n          \"AR\",\n          \"ES\",\n          \"AM\"\n        ],\n        \"semantic_type\": \"\",\n        \"description\": \"\"\n      }\n    },\n    {\n      \"column\": \"remote_ratio\",\n      \"properties\": {\n        \"dtype\": \"number\",\n        \"std\": 48,\n        \"min\": 0,\n        \"max\": 100,\n        \"num_unique_values\": 3,\n        \"samples\": [\n          100,\n          0,\n          50\n        ],\n        \"semantic_type\": \"\",\n        \"description\": \"\"\n      }\n    },\n    {\n      \"column\": \"company_location\",\n      \"properties\": {\n        \"dtype\": \"category\",\n        \"num_unique_values\": 72,\n        \"samples\": [\n          \"GB\",\n          \"MY\",\n          \"SG\"\n        ],\n        \"semantic_type\": \"\",\n        \"description\": \"\"\n      }\n    },\n    {\n      \"column\": \"company_size\",\n      \"properties\": {\n        \"dtype\": \"category\",\n        \"num_unique_values\": 3,\n        \"samples\": [\n          \"L\",\n          \"S\",\n          \"M\"\n        ],\n        \"semantic_type\": \"\",\n        \"description\": \"\"\n      }\n    }\n  ]\n}"
            }
          },
          "metadata": {},
          "execution_count": 1
        }
      ],
      "source": [
        "import pandas as pd\n",
        "!wget https://github.com/hse-ds/iad-intro-ds/raw/master/2024/homeworks/hw08_boosting_clustering/ds_salaries.csv\n",
        "df = pd.read_csv(\"ds_salaries.csv\")\n",
        "df.head()"
      ]
    },
    {
      "cell_type": "markdown",
      "id": "6696e77a",
      "metadata": {
        "id": "6696e77a"
      },
      "source": [
        "## Задание 1 (0.5 балла) Подготовка"
      ]
    },
    {
      "cell_type": "markdown",
      "id": "0cb13dc7",
      "metadata": {
        "id": "0cb13dc7"
      },
      "source": [
        "\n",
        "\n",
        "*   Разделите выборку на train, val, test (80%, 10%, 10%)\n",
        "*   Выдерите salary_in_usd в качестве таргета\n",
        "*   Найдите и удалите признак, из-за которого возможен лик в данных\n"
      ]
    },
    {
      "cell_type": "code",
      "source": [
        "from sklearn.model_selection import train_test_split\n",
        "\n",
        "# Выделяем таргет.\n",
        "y = df['salary_in_usd']\n",
        "X = df.drop('salary_in_usd', axis=1)\n",
        "\n",
        "# Признаком, который может вызвать лик в данных является salary.\n",
        "# Если мы пытаемся предсказать зарплату в долларах data scientist-а, то вряд ли мы знаем его зарплату (пусть и возможно в другой валюте).\n",
        "X = X.drop('salary', axis=1)\n",
        "\n",
        "# Разделим выборку на обучающую и тестовую.\n",
        "X_train, X_tmp, y_train, y_tmp = train_test_split(X, y, test_size=0.2, random_state=7)\n",
        "X_val, X_test, y_val, y_test = train_test_split(X_tmp, y_tmp, test_size=0.5, random_state=7)"
      ],
      "metadata": {
        "id": "HJNGYRCjYG8A"
      },
      "id": "HJNGYRCjYG8A",
      "execution_count": 2,
      "outputs": []
    },
    {
      "cell_type": "markdown",
      "id": "f63cb01a",
      "metadata": {
        "id": "f63cb01a"
      },
      "source": [
        "## Задание 2 (0.5 балла) Линейная модель"
      ]
    },
    {
      "cell_type": "markdown",
      "id": "647a5cad",
      "metadata": {
        "id": "647a5cad"
      },
      "source": [
        "\n",
        "*   Закодируйте категориальные  признаки с помощью OneHotEncoder\n",
        "*   Обучите модель линейной регрессии\n",
        "*   Оцените  качество через MAPE и RMSE\n"
      ]
    },
    {
      "cell_type": "code",
      "source": [
        "from sklearn.linear_model import LinearRegression\n",
        "from sklearn.metrics import mean_absolute_percentage_error, mean_squared_error\n",
        "from sklearn.preprocessing import OneHotEncoder\n",
        "from math import sqrt\n",
        "\n",
        "# Сохраним исходные данные до OHE.\n",
        "X_train_original = X_train\n",
        "X_val_original = X_val\n",
        "X_test_original = X_test\n",
        "\n",
        "# Выделим категориальные признаки.\n",
        "categorical_features = X_train.columns[X_train.dtypes == \"object\"].values\n",
        "\n",
        "# Выделяем явно желаемые столбцы после OHE для устранения утечки данных.\n",
        "unique_values = {i: X_train[i].unique() for i in categorical_features}\n",
        "unique_values = [i for i in unique_values.values()]\n",
        "\n",
        "# OHE.\n",
        "encoder = OneHotEncoder(categories=unique_values, handle_unknown='ignore')\n",
        "\n",
        "# Преобразование X_train с помощью OneHotEncoder.\n",
        "tmp = encoder.fit_transform(X_train.select_dtypes(include=['object']))\n",
        "\n",
        "encoded_X_train = pd.DataFrame(tmp.toarray(), columns=encoder.get_feature_names_out())\n",
        "X_train = X_train.drop(categorical_features, axis=1).reset_index()\n",
        "X_train = pd.concat([X_train, encoded_X_train], axis=1)\n",
        "\n",
        "# Преобразование X_test с помощью OneHotEncoder.\n",
        "tmp = encoder.transform(X_test.select_dtypes(include=['object']))\n",
        "\n",
        "encoded_X_test = pd.DataFrame(tmp.toarray(), columns=encoder.get_feature_names_out())\n",
        "X_test = X_test.drop(categorical_features, axis=1).reset_index()\n",
        "X_test = pd.concat([X_test, encoded_X_test], axis=1)\n",
        "\n",
        "# Преобразование X_val с помощью OneHotEncoder.\n",
        "tmp = encoder.transform(X_val.select_dtypes(include=['object']))\n",
        "\n",
        "encoded_X_val = pd.DataFrame(tmp.toarray(), columns=encoder.get_feature_names_out())\n",
        "X_val = X_val.drop(categorical_features, axis=1).reset_index()\n",
        "X_val = pd.concat([X_val, encoded_X_val], axis=1)\n",
        "\n",
        "# Обучим линейную регрессию.\n",
        "linear_regression = LinearRegression().fit(X_train, y_train)\n",
        "\n",
        "# Оценим качество через MAPE и RMSE.\n",
        "print('MAPE: ', mean_absolute_percentage_error(linear_regression.predict(X_test), y_test))\n",
        "print('RMSE: ', sqrt(mean_squared_error(linear_regression.predict(X_test), y_test)))"
      ],
      "metadata": {
        "id": "DcfWqlvYk0ru",
        "colab": {
          "base_uri": "https://localhost:8080/"
        },
        "outputId": "b00e5057-3dae-41b9-f246-c1a23a5acd40"
      },
      "id": "DcfWqlvYk0ru",
      "execution_count": 3,
      "outputs": [
        {
          "output_type": "stream",
          "name": "stdout",
          "text": [
            "MAPE:  0.3023330202117983\n",
            "RMSE:  615794218626.4669\n"
          ]
        }
      ]
    },
    {
      "cell_type": "markdown",
      "id": "3578292c",
      "metadata": {
        "id": "3578292c"
      },
      "source": [
        "## Задание 3 (0.5 балла) XGboost"
      ]
    },
    {
      "cell_type": "markdown",
      "source": [
        "Начнем с библиотеки xgboost.\n",
        "\n",
        "Обучите модель `XGBRegressor` на тех же данных, что линейную модель, подобрав оптимальные гиперпараметры (`max_depth, learning_rate, n_estimators, gamma`, etc.) по валидационной выборке. Оцените качество итоговой модели (MAPE, RMSE), скорость обучения и скорость предсказания."
      ],
      "metadata": {
        "id": "3RJuwwoty9w1"
      },
      "id": "3RJuwwoty9w1"
    },
    {
      "cell_type": "code",
      "source": [
        "from xgboost.sklearn import XGBRegressor\n",
        "from sklearn.model_selection import GridSearchCV, PredefinedSplit\n",
        "import numpy as np\n",
        "\n",
        "# Головная боль для правильного подбора по валидационной выборке в GridSearchCV..\n",
        "X_train_val = pd.concat([X_train, X_val], axis=0)\n",
        "y_train_val = pd.concat([y_train, y_val], axis=0)\n",
        "train_indices = np.full((X_train.shape[0],), -1, dtype=int)\n",
        "val_indices = np.full((X_val.shape[0],), 0, dtype=int)\n",
        "tmp = np.append(train_indices, val_indices)\n",
        "ps = PredefinedSplit(tmp)\n",
        "ps.get_n_splits()\n",
        "\n",
        "# Подбираем гиперпараметры\n",
        "params = {\n",
        "    'learning_rate' : [0.01, 0.03, 0.05, 0.1],\n",
        "    'n_estimators' :  range(20, 120, 20),\n",
        "    'max_depth' : range(2, 10, 1),\n",
        "    'gamma' : [x / 10 for x in range(0, 11, 1)]\n",
        "}\n",
        "\n",
        "model_xgb = XGBRegressor(seed=7)\n",
        "\n",
        "# Создание экземпляра GridSearchCV для подбора гиперпараметров.\n",
        "grid_search = GridSearchCV(estimator=model_xgb, param_grid=params, cv=ps, scoring='neg_root_mean_squared_error', n_jobs=-1)\n",
        "\n",
        "# Подгонка модели на обучающих данных.\n",
        "grid_search.fit(X_train_val, y_train_val)\n",
        "\n",
        "# Вывод наилучших параметров.\n",
        "print(\"Наилучшие параметры:\", grid_search.best_params_)"
      ],
      "metadata": {
        "id": "qafqCyE6zGpE",
        "colab": {
          "base_uri": "https://localhost:8080/"
        },
        "outputId": "505a1433-460b-423c-f817-0284605b5bdb"
      },
      "id": "qafqCyE6zGpE",
      "execution_count": 4,
      "outputs": [
        {
          "output_type": "stream",
          "name": "stdout",
          "text": [
            "Наилучшие параметры: {'gamma': 0.0, 'learning_rate': 0.1, 'max_depth': 4, 'n_estimators': 100}\n"
          ]
        }
      ]
    },
    {
      "cell_type": "code",
      "source": [
        "%%timeit\n",
        "# Обучим XGB регрессию.\n",
        "XGBRegressor(seed=7, learning_rate=0.1, n_estimators=100, max_depth=4, gamma=0).fit(X_train, y_train) # Время выполнения."
      ],
      "metadata": {
        "colab": {
          "base_uri": "https://localhost:8080/"
        },
        "id": "37TpQRL35hqI",
        "outputId": "3a273c30-29df-4f54-c243-dd879ac71bbb"
      },
      "id": "37TpQRL35hqI",
      "execution_count": 43,
      "outputs": [
        {
          "output_type": "stream",
          "name": "stdout",
          "text": [
            "494 ms ± 201 ms per loop (mean ± std. dev. of 7 runs, 1 loop each)\n"
          ]
        }
      ]
    },
    {
      "cell_type": "code",
      "source": [
        "xgb_regression = XGBRegressor(seed=7, learning_rate=0.1, n_estimators=100, max_depth=4, gamma=0).fit(X_train, y_train)"
      ],
      "metadata": {
        "id": "ysL6M7cD0yZC"
      },
      "id": "ysL6M7cD0yZC",
      "execution_count": 44,
      "outputs": []
    },
    {
      "cell_type": "code",
      "source": [
        "%%timeit\n",
        "# Оценим качество через MAPE.\n",
        "mean_absolute_percentage_error(xgb_regression.predict(X_test), y_test) # Время выполнения."
      ],
      "metadata": {
        "colab": {
          "base_uri": "https://localhost:8080/"
        },
        "id": "-D40zwvf5hwh",
        "outputId": "ebbff5c1-87f1-4bab-b737-e1bb0bbe8cc8"
      },
      "id": "-D40zwvf5hwh",
      "execution_count": 45,
      "outputs": [
        {
          "output_type": "stream",
          "name": "stdout",
          "text": [
            "32.5 ms ± 1.11 ms per loop (mean ± std. dev. of 7 runs, 10 loops each)\n"
          ]
        }
      ]
    },
    {
      "cell_type": "code",
      "source": [
        "%%timeit\n",
        "# Оценим качество через RMSE.\n",
        "sqrt(mean_squared_error(xgb_regression.predict(X_test), y_test)) # Время выполнения."
      ],
      "metadata": {
        "id": "hvQr6Sw3VpbW",
        "colab": {
          "base_uri": "https://localhost:8080/"
        },
        "outputId": "411dba3d-7e3e-46c1-ffb2-0fd5a65dcc27"
      },
      "id": "hvQr6Sw3VpbW",
      "execution_count": 46,
      "outputs": [
        {
          "output_type": "stream",
          "name": "stdout",
          "text": [
            "33.2 ms ± 1.93 ms per loop (mean ± std. dev. of 7 runs, 10 loops each)\n"
          ]
        }
      ]
    },
    {
      "cell_type": "code",
      "source": [
        "print('MAPE: ', mean_absolute_percentage_error(xgb_regression.predict(X_test), y_test)) # Время выполнения.\n",
        "print('RMSE: ', sqrt(mean_squared_error(xgb_regression.predict(X_test), y_test))) # Время выполнения."
      ],
      "metadata": {
        "colab": {
          "base_uri": "https://localhost:8080/"
        },
        "id": "dSKPaTqr5-SE",
        "outputId": "9b0be874-99e5-40df-bdc9-bbc69edb3089"
      },
      "id": "dSKPaTqr5-SE",
      "execution_count": 47,
      "outputs": [
        {
          "output_type": "stream",
          "name": "stdout",
          "text": [
            "MAPE:  0.2595506174224954\n",
            "RMSE:  45447.21158031558\n"
          ]
        }
      ]
    },
    {
      "cell_type": "markdown",
      "source": [
        "## Задание 4 (1 балл) CatBoost"
      ],
      "metadata": {
        "id": "RmWp9wxu318i"
      },
      "id": "RmWp9wxu318i"
    },
    {
      "cell_type": "markdown",
      "source": [
        "Теперь библиотека CatBoost.\n",
        "\n",
        "Обучите модель `CatBoostRegressor`, подобрав оптимальные гиперпараметры (`depth, learning_rate, iterations`, etc.) по валидационной выборке. Оцените качество итоговой модели (MAPE, RMSE), скорость обучения и скорость предсказания."
      ],
      "metadata": {
        "id": "bDWqieZk3-rv"
      },
      "id": "bDWqieZk3-rv"
    },
    {
      "cell_type": "code",
      "source": [
        "from catboost import CatBoostRegressor # !pip3 install catboost, если нет catboost\n",
        "\n",
        "params = {\n",
        "    'depth' : range(2, 10, 1) ,\n",
        "    'learning_rate' : [0.01, 0.05, 0.1, 0.5, 1],\n",
        "    'iterations' : [10, 20, 50, 75, 100, 200] ,\n",
        "}\n",
        "\n",
        "model_cb = CatBoostRegressor(random_seed=7, verbose=False)\n",
        "\n",
        "# Создание экземпляра GridSearchCV для подбора гиперпараметров.\n",
        "grid_search = GridSearchCV(estimator=model_cb, param_grid=params, cv=ps, scoring='neg_root_mean_squared_error', n_jobs=-1)\n",
        "\n",
        "# Подгонка модели на обучающих данных.\n",
        "grid_search.fit(X_train_val, y_train_val)\n",
        "\n",
        "# Вывод наилучших параметров.\n",
        "print(\"Наилучшие параметры:\", grid_search.best_params_)"
      ],
      "metadata": {
        "id": "mbhrOOPJ4X9C",
        "colab": {
          "base_uri": "https://localhost:8080/"
        },
        "outputId": "d0413c69-c27a-433e-ccea-89a0daae8867"
      },
      "id": "mbhrOOPJ4X9C",
      "execution_count": 14,
      "outputs": [
        {
          "output_type": "stream",
          "name": "stdout",
          "text": [
            "Наилучшие параметры: {'depth': 8, 'iterations': 200, 'learning_rate': 0.1}\n"
          ]
        }
      ]
    },
    {
      "cell_type": "code",
      "source": [
        "%%timeit\n",
        "# Обучим CatBoost регрессию.\n",
        "CatBoostRegressor(random_state=7, learning_rate=0.1, iterations=200, depth=8, verbose=False).fit(X_train, y_train) # Время выполнения."
      ],
      "metadata": {
        "colab": {
          "base_uri": "https://localhost:8080/"
        },
        "id": "Sp2wZRS6iNUH",
        "outputId": "642198cd-3217-421b-f3a8-dc1b75ca7d63"
      },
      "id": "Sp2wZRS6iNUH",
      "execution_count": 48,
      "outputs": [
        {
          "output_type": "stream",
          "name": "stdout",
          "text": [
            "969 ms ± 284 ms per loop (mean ± std. dev. of 7 runs, 1 loop each)\n"
          ]
        }
      ]
    },
    {
      "cell_type": "code",
      "source": [
        "cb_regression = CatBoostRegressor(random_state=7, learning_rate=0.1, iterations=200, depth=8, verbose=False).fit(X_train, y_train)"
      ],
      "metadata": {
        "id": "TrORlScwiNgx"
      },
      "id": "TrORlScwiNgx",
      "execution_count": 52,
      "outputs": []
    },
    {
      "cell_type": "code",
      "source": [
        "%%timeit\n",
        "# Оценим качество через MAPE.\n",
        "mean_absolute_percentage_error(cb_regression.predict(X_test), y_test) # Время выполнения."
      ],
      "metadata": {
        "colab": {
          "base_uri": "https://localhost:8080/"
        },
        "id": "CpCet2ECiNlp",
        "outputId": "df8fd573-8aac-402b-8adc-6a0bd0cc2851"
      },
      "id": "CpCet2ECiNlp",
      "execution_count": 50,
      "outputs": [
        {
          "output_type": "stream",
          "name": "stdout",
          "text": [
            "6.87 ms ± 71.3 µs per loop (mean ± std. dev. of 7 runs, 100 loops each)\n"
          ]
        }
      ]
    },
    {
      "cell_type": "code",
      "source": [
        "%%timeit\n",
        "# Оценим качество через RMSE.\n",
        "sqrt(mean_squared_error(cb_regression.predict(X_test), y_test)) # Время выполнения."
      ],
      "metadata": {
        "colab": {
          "base_uri": "https://localhost:8080/"
        },
        "id": "z9H5T-WoiNpM",
        "outputId": "b36e9760-5801-4a33-9ff4-2f2c86593524"
      },
      "id": "z9H5T-WoiNpM",
      "execution_count": 51,
      "outputs": [
        {
          "output_type": "stream",
          "name": "stdout",
          "text": [
            "6.79 ms ± 226 µs per loop (mean ± std. dev. of 7 runs, 100 loops each)\n"
          ]
        }
      ]
    },
    {
      "cell_type": "code",
      "source": [
        "print('MAPE: ', mean_absolute_percentage_error(cb_regression.predict(X_test), y_test))\n",
        "print('RMSE: ', sqrt(mean_squared_error(cb_regression.predict(X_test), y_test)))"
      ],
      "metadata": {
        "id": "Ztdt39FZVruJ",
        "colab": {
          "base_uri": "https://localhost:8080/"
        },
        "outputId": "1d53a0d7-4d75-46b6-fa41-0dd833cdaf93"
      },
      "id": "Ztdt39FZVruJ",
      "execution_count": 53,
      "outputs": [
        {
          "output_type": "stream",
          "name": "stdout",
          "text": [
            "MAPE:  0.27575814403311466\n",
            "RMSE:  45974.699194474575\n"
          ]
        }
      ]
    },
    {
      "cell_type": "markdown",
      "source": [
        "Для применения catboost моделей не обязательно сначала кодировать категориальные признаки, модель может кодировать их сама. Обучите catboost с подбором оптимальных гиперпараметров снова, используя pool для передачи данных в модель с указанием какие признаки категориальные, а какие нет с помощью параметра cat_features. Оцените качество и время. Стало ли лучше?"
      ],
      "metadata": {
        "id": "ruUNeGOk4lho"
      },
      "id": "ruUNeGOk4lho"
    },
    {
      "cell_type": "code",
      "source": [
        "from catboost import Pool\n",
        "\n",
        "params = {\n",
        "    'depth' : range(2, 10, 1) ,\n",
        "    'learning_rate' : [0.01, 0.05, 0.1, 0.5, 1],\n",
        "    'iterations' : [10, 20, 50, 75, 100, 200] ,\n",
        "}\n",
        "\n",
        "# Подбираем гиперпараметры в циклах (для передачи Pool не нашел альтернативы)\n",
        "pool = Pool(data=X_train_original, label=y_train, cat_features=categorical_features)\n",
        "\n",
        "\n",
        "best_depth = 0\n",
        "best_learning_rate = 0\n",
        "best_iterations = 0\n",
        "rmse = -1\n",
        "\n",
        "# Подбор гиперпараметров.\n",
        "for depth in params['depth']:\n",
        "    for learning_rate in params['learning_rate']:\n",
        "        for iterations in params['iterations']:\n",
        "          model_cb = CatBoostRegressor(depth=depth, learning_rate=learning_rate, iterations=iterations, random_seed=7, verbose=False)\n",
        "          model_cb.fit(pool)\n",
        "          y_pred = model_cb.predict(X_val_original)\n",
        "          if (sqrt(mean_squared_error(y_val, y_pred)) < rmse or rmse == -1):\n",
        "              rmse = sqrt(mean_squared_error(y_val, y_pred))\n",
        "              best_depth = depth\n",
        "              best_learning_rate = learning_rate\n",
        "              best_iterations = iterations\n",
        "\n",
        "best_params = {'depth': best_depth, 'iterations': best_iterations, 'learning_rate': best_learning_rate}\n",
        "\n",
        "# Вывод наилучших параметров.\n",
        "print(\"Наилучшие параметры:\", best_params)"
      ],
      "metadata": {
        "id": "5vQr1f9P6cQ5",
        "colab": {
          "base_uri": "https://localhost:8080/"
        },
        "outputId": "93501c5a-fb2a-40f3-ed33-f60ce7080172"
      },
      "id": "5vQr1f9P6cQ5",
      "execution_count": 54,
      "outputs": [
        {
          "output_type": "stream",
          "name": "stdout",
          "text": [
            "Наилучшие параметры: {'depth': 7, 'iterations': 200, 'learning_rate': 0.1}\n"
          ]
        }
      ]
    },
    {
      "cell_type": "code",
      "source": [
        "%%timeit\n",
        "# Обучим CatBoost регрессию.\n",
        "CatBoostRegressor(random_state=7, learning_rate=0.1, iterations=200, depth=7, verbose=False).fit(pool) # Время выполнения."
      ],
      "metadata": {
        "colab": {
          "base_uri": "https://localhost:8080/"
        },
        "id": "DhawkD8ttxu1",
        "outputId": "b23092c8-8579-483f-a72f-6ad2bd51c7aa"
      },
      "id": "DhawkD8ttxu1",
      "execution_count": 55,
      "outputs": [
        {
          "output_type": "stream",
          "name": "stdout",
          "text": [
            "2.27 s ± 824 ms per loop (mean ± std. dev. of 7 runs, 1 loop each)\n"
          ]
        }
      ]
    },
    {
      "cell_type": "code",
      "source": [
        "cb_regression = CatBoostRegressor(random_state=7, learning_rate=0.1, iterations=200, depth=7, verbose=False).fit(pool)"
      ],
      "metadata": {
        "id": "OetpnMn6tx2K"
      },
      "id": "OetpnMn6tx2K",
      "execution_count": 59,
      "outputs": []
    },
    {
      "cell_type": "code",
      "source": [
        "%%timeit\n",
        "# Оценим качество через MAPE.\n",
        "mean_absolute_percentage_error(cb_regression.predict(X_test_original), y_test) # Время выполнения."
      ],
      "metadata": {
        "colab": {
          "base_uri": "https://localhost:8080/"
        },
        "id": "iRG5o2oVtx9-",
        "outputId": "d873dd13-54d6-45f6-ad62-2aa08cac6933"
      },
      "id": "iRG5o2oVtx9-",
      "execution_count": 57,
      "outputs": [
        {
          "output_type": "stream",
          "name": "stdout",
          "text": [
            "2.26 ms ± 92.8 µs per loop (mean ± std. dev. of 7 runs, 100 loops each)\n"
          ]
        }
      ]
    },
    {
      "cell_type": "code",
      "source": [
        "%%timeit\n",
        "# Оценим качество через RMSE.\n",
        "sqrt(mean_squared_error(cb_regression.predict(X_test_original), y_test)) # Время выполнения."
      ],
      "metadata": {
        "colab": {
          "base_uri": "https://localhost:8080/"
        },
        "id": "XhAEv1yrtyEL",
        "outputId": "aa0fe20a-bc08-4017-8e56-b44294d83b6e"
      },
      "id": "XhAEv1yrtyEL",
      "execution_count": 58,
      "outputs": [
        {
          "output_type": "stream",
          "name": "stdout",
          "text": [
            "3.48 ms ± 975 µs per loop (mean ± std. dev. of 7 runs, 100 loops each)\n"
          ]
        }
      ]
    },
    {
      "cell_type": "code",
      "source": [
        "print('MAPE: ', mean_absolute_percentage_error(cb_regression.predict(X_test_original), y_test))\n",
        "print('RMSE: ', sqrt(mean_squared_error(cb_regression.predict(X_test_original), y_test)))"
      ],
      "metadata": {
        "colab": {
          "base_uri": "https://localhost:8080/"
        },
        "id": "woi50ri-tyKL",
        "outputId": "89460dee-3225-4301-e78b-dbd47b8c1e87"
      },
      "id": "woi50ri-tyKL",
      "execution_count": 60,
      "outputs": [
        {
          "output_type": "stream",
          "name": "stdout",
          "text": [
            "MAPE:  0.2655158144247137\n",
            "RMSE:  45372.420063759164\n"
          ]
        }
      ]
    },
    {
      "cell_type": "markdown",
      "source": [
        "**Ответ:** при использовании Pool для передачи данных в CatBoostRegressor качество модели на тестовой выборке улучшилось (RMSE уменьшилась на ≈602), скорость предсказания осталась такой же низкой (чуть-чуть меньше, чем было), а вот скорость обучения увеличилась в два раза (выполняется больше двух секунд). В целом, можно говорить, что качество модели улучшилось ценой скорости обучения."
      ],
      "metadata": {
        "id": "eA0djixU7L8c"
      },
      "id": "eA0djixU7L8c"
    },
    {
      "cell_type": "markdown",
      "id": "a881ad9d",
      "metadata": {
        "id": "a881ad9d"
      },
      "source": [
        "## Задание 5 (0.5 балла) LightGBM"
      ]
    },
    {
      "cell_type": "markdown",
      "id": "a35f87a6",
      "metadata": {
        "id": "a35f87a6"
      },
      "source": [
        "И наконец библиотека LightGBM - используйте `LGBMRegressor`, снова подберите гиперпараметры, оцените качество и скорость.\n"
      ]
    },
    {
      "cell_type": "code",
      "source": [
        "from lightgbm import LGBMRegressor\n",
        "\n",
        "# Подбираем гиперпараметры\n",
        "params = {\n",
        "    'max_depth' : range(2, 10, 1),\n",
        "    'learning_rate' : [0.01, 0.05, 0.1, 0.5, 1],\n",
        "    'n_estimators' :  range(20, 220, 20)\n",
        "}\n",
        "\n",
        "model_lgb = LGBMRegressor(num_leaves=31, random_state=7, verbose=-1)\n",
        "\n",
        "# Создание экземпляра GridSearchCV для подбора гиперпараметров.\n",
        "grid_search = GridSearchCV(estimator=model_lgb, param_grid=params, cv=ps, scoring='neg_root_mean_squared_error', n_jobs=-1)\n",
        "\n",
        "# Подгонка модели на обучающих данных.\n",
        "grid_search.fit(X_train_val, y_train_val)\n",
        "\n",
        "# Вывод наилучших параметров.\n",
        "print(\"Наилучшие параметры:\", grid_search.best_params_)"
      ],
      "metadata": {
        "id": "pMxY8Owp78Ow",
        "colab": {
          "base_uri": "https://localhost:8080/"
        },
        "outputId": "cd716c7e-3e7e-45b2-d15f-40134508c2e8"
      },
      "id": "pMxY8Owp78Ow",
      "execution_count": 62,
      "outputs": [
        {
          "output_type": "stream",
          "name": "stdout",
          "text": [
            "Наилучшие параметры: {'learning_rate': 0.1, 'max_depth': 9, 'n_estimators': 60}\n"
          ]
        }
      ]
    },
    {
      "cell_type": "code",
      "source": [
        "%%timeit\n",
        "# Обучим LGBM регрессию.\n",
        "LGBMRegressor(num_leaves=31, random_state=7, learning_rate=0.1, n_estimators=60, max_depth=9, verbose=-1).fit(X_train, y_train) # Время выполнения."
      ],
      "metadata": {
        "colab": {
          "base_uri": "https://localhost:8080/"
        },
        "id": "1gv0QRwNY7cT",
        "outputId": "e901b383-22bb-4f09-f4bb-e6c1d6d0404c"
      },
      "id": "1gv0QRwNY7cT",
      "execution_count": 63,
      "outputs": [
        {
          "output_type": "stream",
          "name": "stdout",
          "text": [
            "77.1 ms ± 8.57 ms per loop (mean ± std. dev. of 7 runs, 10 loops each)\n"
          ]
        }
      ]
    },
    {
      "cell_type": "code",
      "source": [
        "lgb_regression = LGBMRegressor(num_leaves=31, random_state=7, learning_rate=0.1, n_estimators=60, max_depth=9, verbose=-1).fit(X_train, y_train)"
      ],
      "metadata": {
        "id": "fa6XmijIZABH"
      },
      "id": "fa6XmijIZABH",
      "execution_count": 64,
      "outputs": []
    },
    {
      "cell_type": "code",
      "source": [
        "%%timeit\n",
        "# Оценим качество через MAPE.\n",
        "mean_absolute_percentage_error(lgb_regression.predict(X_test), y_test) # Время выполнения."
      ],
      "metadata": {
        "colab": {
          "base_uri": "https://localhost:8080/"
        },
        "id": "jhD8ZkXYZAGM",
        "outputId": "fcc24df9-5488-437a-e0b9-26cfe29d5ab3"
      },
      "id": "jhD8ZkXYZAGM",
      "execution_count": 65,
      "outputs": [
        {
          "output_type": "stream",
          "name": "stdout",
          "text": [
            "5.13 ms ± 716 µs per loop (mean ± std. dev. of 7 runs, 100 loops each)\n"
          ]
        }
      ]
    },
    {
      "cell_type": "code",
      "source": [
        "%%timeit\n",
        "# Оценим качество через RMSE.\n",
        "sqrt(mean_squared_error(lgb_regression.predict(X_test), y_test)) # Время выполнения."
      ],
      "metadata": {
        "colab": {
          "base_uri": "https://localhost:8080/"
        },
        "id": "mSuAS_GsZAL9",
        "outputId": "58446be2-76df-4ed8-fdeb-3f3cc820631c"
      },
      "id": "mSuAS_GsZAL9",
      "execution_count": 66,
      "outputs": [
        {
          "output_type": "stream",
          "name": "stdout",
          "text": [
            "4.71 ms ± 74.7 µs per loop (mean ± std. dev. of 7 runs, 100 loops each)\n"
          ]
        }
      ]
    },
    {
      "cell_type": "code",
      "source": [
        "print('MAPE: ', mean_absolute_percentage_error(lgb_regression.predict(X_test), y_test))\n",
        "print('RMSE: ', sqrt(mean_squared_error(lgb_regression.predict(X_test), y_test)))"
      ],
      "metadata": {
        "id": "M2-WvfIrV556",
        "colab": {
          "base_uri": "https://localhost:8080/"
        },
        "outputId": "3a8a5ade-c177-44e0-dcbb-b411ef7ebca7"
      },
      "id": "M2-WvfIrV556",
      "execution_count": 67,
      "outputs": [
        {
          "output_type": "stream",
          "name": "stdout",
          "text": [
            "MAPE:  0.2631934943136412\n",
            "RMSE:  46356.16057321415\n"
          ]
        }
      ]
    },
    {
      "cell_type": "markdown",
      "id": "7c56d873",
      "metadata": {
        "id": "7c56d873"
      },
      "source": [
        "## Задание 6 (2 балла) Сравнение и выводы"
      ]
    },
    {
      "cell_type": "markdown",
      "id": "3a2c1148",
      "metadata": {
        "id": "3a2c1148"
      },
      "source": [
        "Сравните модели бустинга и сделайте про них выводы, какая из моделей показала лучший/худший результат по качеству, скорости обучения и скорости предсказания? Как отличаются гиперпараметры для разных моделей?"
      ]
    },
    {
      "cell_type": "markdown",
      "source": [
        "**Ответ:** В ходе анализа качественных и временных показателей построенных моделей градиентного бустинга было выявлено, что LightGBM имеет лучшие временные показатели по скорости обучения (77ms) по сравнению с XGBoost и двумя версиями CatBoost, но немного уступает версии CatBoost c Pool по времени предсказания (хотя там речь идет буквально об одной миллисикунде, что вряд ли можно выделить в преимущество). Эта же версия CatBoost стала худшей по времени обучения (2.27s), а XgBoost - худшим по времени предсказания (33ms против ≈6ms у остальных). Лучшей по качеству моделью стал CatBoost c Pool с RMSE = 45372, а худшей - LightGBM с RMSE = 46356. Можно говорить о том, что чем выше скорость обучения, тем хуже качество модели. Что касается гиперпараметров, то все модели выбрали маленький learning_rate (0.1). Кроме того, XGBoost в качестве гиперпараметра взял маленькую глубину - 4, в то время как этот же гиперпараметр у других моделей больше 7. LightGBM взял маленькое количество деревьев (60), а XGBoost - максимальное доступное (100) (тем не менее качественный показатель у последнего лучше). CatBoost-ы, несмотря на большое выбранное количество итераций (200) показывают наилучшее качество, что говорит об устойчивости данной модели к переобучению."
      ],
      "metadata": {
        "id": "gzelUdAl-V9u"
      },
      "id": "gzelUdAl-V9u"
    },
    {
      "cell_type": "markdown",
      "source": [
        "# Часть 2 Кластеризация (5 баллов)"
      ],
      "metadata": {
        "id": "fokm4x1WmxQr"
      },
      "id": "fokm4x1WmxQr"
    },
    {
      "cell_type": "markdown",
      "source": [
        "Будем работать с данными о том, каких исполнителей слушают пользователи музыкального сервиса.\n",
        "\n",
        "Каждая строка таблицы - информация об одном пользователе. Каждый столбец - это исполнитель (The Beatles, Radiohead, etc.)\n",
        "\n",
        "Для каждой пары (пользователь, исполнитель) в таблице стоит число - доля прослушивания этого исполнителя этим пользователем.\n"
      ],
      "metadata": {
        "id": "UZBpHMoNm1Sa"
      },
      "id": "UZBpHMoNm1Sa"
    },
    {
      "cell_type": "code",
      "source": [
        "import pandas as pd\n",
        "ratings = pd.read_excel(\"https://github.com/evgpat/edu_stepik_rec_sys/blob/main/datasets/sample_matrix.xlsx?raw=true\", engine='openpyxl')\n",
        "ratings.head()"
      ],
      "metadata": {
        "colab": {
          "base_uri": "https://localhost:8080/",
          "height": 253
        },
        "id": "nGa-xYikoogL",
        "outputId": "2b2a7f33-202f-4bc7-e0d5-453d4a6dbcaa"
      },
      "id": "nGa-xYikoogL",
      "execution_count": 32,
      "outputs": [
        {
          "output_type": "execute_result",
          "data": {
            "text/plain": [
              "   user  the beatles  radiohead  deathcab for cutie  coldplay  modest mouse  \\\n",
              "0     0          NaN   0.020417                 NaN       NaN           NaN   \n",
              "1     1          NaN   0.184962            0.024561       NaN           NaN   \n",
              "2     2          NaN        NaN            0.028635       NaN           NaN   \n",
              "3     3          NaN        NaN                 NaN       NaN           NaN   \n",
              "4     4     0.043529   0.086281            0.034590  0.016712      0.015935   \n",
              "\n",
              "   sufjan stevens  dylan. bob  red hot clili peppers  pink fluid  ...  \\\n",
              "0             NaN         NaN               0.030496         NaN  ...   \n",
              "1        0.136341         NaN                    NaN         NaN  ...   \n",
              "2             NaN    0.024559                    NaN         NaN  ...   \n",
              "3             NaN         NaN                    NaN         NaN  ...   \n",
              "4             NaN         NaN                    NaN         NaN  ...   \n",
              "\n",
              "   municipal waste  townes van zandt  curtis mayfield  jewel  lamb  \\\n",
              "0              NaN               NaN              NaN    NaN   NaN   \n",
              "1              NaN               NaN              NaN    NaN   NaN   \n",
              "2              NaN               NaN              NaN    NaN   NaN   \n",
              "3              NaN               NaN              NaN    NaN   NaN   \n",
              "4              NaN               NaN              NaN    NaN   NaN   \n",
              "\n",
              "   michal w. smith  群星  agalloch  meshuggah  yellowcard  \n",
              "0              NaN NaN       NaN        NaN         NaN  \n",
              "1              NaN NaN       NaN        NaN         NaN  \n",
              "2              NaN NaN       NaN        NaN         NaN  \n",
              "3              NaN NaN       NaN        NaN         NaN  \n",
              "4              NaN NaN       NaN        NaN         NaN  \n",
              "\n",
              "[5 rows x 1001 columns]"
            ],
            "text/html": [
              "\n",
              "  <div id=\"df-2fb8e808-632b-4fd0-a17d-49762081e1c1\" class=\"colab-df-container\">\n",
              "    <div>\n",
              "<style scoped>\n",
              "    .dataframe tbody tr th:only-of-type {\n",
              "        vertical-align: middle;\n",
              "    }\n",
              "\n",
              "    .dataframe tbody tr th {\n",
              "        vertical-align: top;\n",
              "    }\n",
              "\n",
              "    .dataframe thead th {\n",
              "        text-align: right;\n",
              "    }\n",
              "</style>\n",
              "<table border=\"1\" class=\"dataframe\">\n",
              "  <thead>\n",
              "    <tr style=\"text-align: right;\">\n",
              "      <th></th>\n",
              "      <th>user</th>\n",
              "      <th>the beatles</th>\n",
              "      <th>radiohead</th>\n",
              "      <th>deathcab for cutie</th>\n",
              "      <th>coldplay</th>\n",
              "      <th>modest mouse</th>\n",
              "      <th>sufjan stevens</th>\n",
              "      <th>dylan. bob</th>\n",
              "      <th>red hot clili peppers</th>\n",
              "      <th>pink fluid</th>\n",
              "      <th>...</th>\n",
              "      <th>municipal waste</th>\n",
              "      <th>townes van zandt</th>\n",
              "      <th>curtis mayfield</th>\n",
              "      <th>jewel</th>\n",
              "      <th>lamb</th>\n",
              "      <th>michal w. smith</th>\n",
              "      <th>群星</th>\n",
              "      <th>agalloch</th>\n",
              "      <th>meshuggah</th>\n",
              "      <th>yellowcard</th>\n",
              "    </tr>\n",
              "  </thead>\n",
              "  <tbody>\n",
              "    <tr>\n",
              "      <th>0</th>\n",
              "      <td>0</td>\n",
              "      <td>NaN</td>\n",
              "      <td>0.020417</td>\n",
              "      <td>NaN</td>\n",
              "      <td>NaN</td>\n",
              "      <td>NaN</td>\n",
              "      <td>NaN</td>\n",
              "      <td>NaN</td>\n",
              "      <td>0.030496</td>\n",
              "      <td>NaN</td>\n",
              "      <td>...</td>\n",
              "      <td>NaN</td>\n",
              "      <td>NaN</td>\n",
              "      <td>NaN</td>\n",
              "      <td>NaN</td>\n",
              "      <td>NaN</td>\n",
              "      <td>NaN</td>\n",
              "      <td>NaN</td>\n",
              "      <td>NaN</td>\n",
              "      <td>NaN</td>\n",
              "      <td>NaN</td>\n",
              "    </tr>\n",
              "    <tr>\n",
              "      <th>1</th>\n",
              "      <td>1</td>\n",
              "      <td>NaN</td>\n",
              "      <td>0.184962</td>\n",
              "      <td>0.024561</td>\n",
              "      <td>NaN</td>\n",
              "      <td>NaN</td>\n",
              "      <td>0.136341</td>\n",
              "      <td>NaN</td>\n",
              "      <td>NaN</td>\n",
              "      <td>NaN</td>\n",
              "      <td>...</td>\n",
              "      <td>NaN</td>\n",
              "      <td>NaN</td>\n",
              "      <td>NaN</td>\n",
              "      <td>NaN</td>\n",
              "      <td>NaN</td>\n",
              "      <td>NaN</td>\n",
              "      <td>NaN</td>\n",
              "      <td>NaN</td>\n",
              "      <td>NaN</td>\n",
              "      <td>NaN</td>\n",
              "    </tr>\n",
              "    <tr>\n",
              "      <th>2</th>\n",
              "      <td>2</td>\n",
              "      <td>NaN</td>\n",
              "      <td>NaN</td>\n",
              "      <td>0.028635</td>\n",
              "      <td>NaN</td>\n",
              "      <td>NaN</td>\n",
              "      <td>NaN</td>\n",
              "      <td>0.024559</td>\n",
              "      <td>NaN</td>\n",
              "      <td>NaN</td>\n",
              "      <td>...</td>\n",
              "      <td>NaN</td>\n",
              "      <td>NaN</td>\n",
              "      <td>NaN</td>\n",
              "      <td>NaN</td>\n",
              "      <td>NaN</td>\n",
              "      <td>NaN</td>\n",
              "      <td>NaN</td>\n",
              "      <td>NaN</td>\n",
              "      <td>NaN</td>\n",
              "      <td>NaN</td>\n",
              "    </tr>\n",
              "    <tr>\n",
              "      <th>3</th>\n",
              "      <td>3</td>\n",
              "      <td>NaN</td>\n",
              "      <td>NaN</td>\n",
              "      <td>NaN</td>\n",
              "      <td>NaN</td>\n",
              "      <td>NaN</td>\n",
              "      <td>NaN</td>\n",
              "      <td>NaN</td>\n",
              "      <td>NaN</td>\n",
              "      <td>NaN</td>\n",
              "      <td>...</td>\n",
              "      <td>NaN</td>\n",
              "      <td>NaN</td>\n",
              "      <td>NaN</td>\n",
              "      <td>NaN</td>\n",
              "      <td>NaN</td>\n",
              "      <td>NaN</td>\n",
              "      <td>NaN</td>\n",
              "      <td>NaN</td>\n",
              "      <td>NaN</td>\n",
              "      <td>NaN</td>\n",
              "    </tr>\n",
              "    <tr>\n",
              "      <th>4</th>\n",
              "      <td>4</td>\n",
              "      <td>0.043529</td>\n",
              "      <td>0.086281</td>\n",
              "      <td>0.034590</td>\n",
              "      <td>0.016712</td>\n",
              "      <td>0.015935</td>\n",
              "      <td>NaN</td>\n",
              "      <td>NaN</td>\n",
              "      <td>NaN</td>\n",
              "      <td>NaN</td>\n",
              "      <td>...</td>\n",
              "      <td>NaN</td>\n",
              "      <td>NaN</td>\n",
              "      <td>NaN</td>\n",
              "      <td>NaN</td>\n",
              "      <td>NaN</td>\n",
              "      <td>NaN</td>\n",
              "      <td>NaN</td>\n",
              "      <td>NaN</td>\n",
              "      <td>NaN</td>\n",
              "      <td>NaN</td>\n",
              "    </tr>\n",
              "  </tbody>\n",
              "</table>\n",
              "<p>5 rows × 1001 columns</p>\n",
              "</div>\n",
              "    <div class=\"colab-df-buttons\">\n",
              "\n",
              "  <div class=\"colab-df-container\">\n",
              "    <button class=\"colab-df-convert\" onclick=\"convertToInteractive('df-2fb8e808-632b-4fd0-a17d-49762081e1c1')\"\n",
              "            title=\"Convert this dataframe to an interactive table.\"\n",
              "            style=\"display:none;\">\n",
              "\n",
              "  <svg xmlns=\"http://www.w3.org/2000/svg\" height=\"24px\" viewBox=\"0 -960 960 960\">\n",
              "    <path d=\"M120-120v-720h720v720H120Zm60-500h600v-160H180v160Zm220 220h160v-160H400v160Zm0 220h160v-160H400v160ZM180-400h160v-160H180v160Zm440 0h160v-160H620v160ZM180-180h160v-160H180v160Zm440 0h160v-160H620v160Z\"/>\n",
              "  </svg>\n",
              "    </button>\n",
              "\n",
              "  <style>\n",
              "    .colab-df-container {\n",
              "      display:flex;\n",
              "      gap: 12px;\n",
              "    }\n",
              "\n",
              "    .colab-df-convert {\n",
              "      background-color: #E8F0FE;\n",
              "      border: none;\n",
              "      border-radius: 50%;\n",
              "      cursor: pointer;\n",
              "      display: none;\n",
              "      fill: #1967D2;\n",
              "      height: 32px;\n",
              "      padding: 0 0 0 0;\n",
              "      width: 32px;\n",
              "    }\n",
              "\n",
              "    .colab-df-convert:hover {\n",
              "      background-color: #E2EBFA;\n",
              "      box-shadow: 0px 1px 2px rgba(60, 64, 67, 0.3), 0px 1px 3px 1px rgba(60, 64, 67, 0.15);\n",
              "      fill: #174EA6;\n",
              "    }\n",
              "\n",
              "    .colab-df-buttons div {\n",
              "      margin-bottom: 4px;\n",
              "    }\n",
              "\n",
              "    [theme=dark] .colab-df-convert {\n",
              "      background-color: #3B4455;\n",
              "      fill: #D2E3FC;\n",
              "    }\n",
              "\n",
              "    [theme=dark] .colab-df-convert:hover {\n",
              "      background-color: #434B5C;\n",
              "      box-shadow: 0px 1px 3px 1px rgba(0, 0, 0, 0.15);\n",
              "      filter: drop-shadow(0px 1px 2px rgba(0, 0, 0, 0.3));\n",
              "      fill: #FFFFFF;\n",
              "    }\n",
              "  </style>\n",
              "\n",
              "    <script>\n",
              "      const buttonEl =\n",
              "        document.querySelector('#df-2fb8e808-632b-4fd0-a17d-49762081e1c1 button.colab-df-convert');\n",
              "      buttonEl.style.display =\n",
              "        google.colab.kernel.accessAllowed ? 'block' : 'none';\n",
              "\n",
              "      async function convertToInteractive(key) {\n",
              "        const element = document.querySelector('#df-2fb8e808-632b-4fd0-a17d-49762081e1c1');\n",
              "        const dataTable =\n",
              "          await google.colab.kernel.invokeFunction('convertToInteractive',\n",
              "                                                    [key], {});\n",
              "        if (!dataTable) return;\n",
              "\n",
              "        const docLinkHtml = 'Like what you see? Visit the ' +\n",
              "          '<a target=\"_blank\" href=https://colab.research.google.com/notebooks/data_table.ipynb>data table notebook</a>'\n",
              "          + ' to learn more about interactive tables.';\n",
              "        element.innerHTML = '';\n",
              "        dataTable['output_type'] = 'display_data';\n",
              "        await google.colab.output.renderOutput(dataTable, element);\n",
              "        const docLink = document.createElement('div');\n",
              "        docLink.innerHTML = docLinkHtml;\n",
              "        element.appendChild(docLink);\n",
              "      }\n",
              "    </script>\n",
              "  </div>\n",
              "\n",
              "\n",
              "<div id=\"df-db7d0c8f-76bc-4f33-bf8c-61d6c8c5a097\">\n",
              "  <button class=\"colab-df-quickchart\" onclick=\"quickchart('df-db7d0c8f-76bc-4f33-bf8c-61d6c8c5a097')\"\n",
              "            title=\"Suggest charts\"\n",
              "            style=\"display:none;\">\n",
              "\n",
              "<svg xmlns=\"http://www.w3.org/2000/svg\" height=\"24px\"viewBox=\"0 0 24 24\"\n",
              "     width=\"24px\">\n",
              "    <g>\n",
              "        <path d=\"M19 3H5c-1.1 0-2 .9-2 2v14c0 1.1.9 2 2 2h14c1.1 0 2-.9 2-2V5c0-1.1-.9-2-2-2zM9 17H7v-7h2v7zm4 0h-2V7h2v10zm4 0h-2v-4h2v4z\"/>\n",
              "    </g>\n",
              "</svg>\n",
              "  </button>\n",
              "\n",
              "<style>\n",
              "  .colab-df-quickchart {\n",
              "      --bg-color: #E8F0FE;\n",
              "      --fill-color: #1967D2;\n",
              "      --hover-bg-color: #E2EBFA;\n",
              "      --hover-fill-color: #174EA6;\n",
              "      --disabled-fill-color: #AAA;\n",
              "      --disabled-bg-color: #DDD;\n",
              "  }\n",
              "\n",
              "  [theme=dark] .colab-df-quickchart {\n",
              "      --bg-color: #3B4455;\n",
              "      --fill-color: #D2E3FC;\n",
              "      --hover-bg-color: #434B5C;\n",
              "      --hover-fill-color: #FFFFFF;\n",
              "      --disabled-bg-color: #3B4455;\n",
              "      --disabled-fill-color: #666;\n",
              "  }\n",
              "\n",
              "  .colab-df-quickchart {\n",
              "    background-color: var(--bg-color);\n",
              "    border: none;\n",
              "    border-radius: 50%;\n",
              "    cursor: pointer;\n",
              "    display: none;\n",
              "    fill: var(--fill-color);\n",
              "    height: 32px;\n",
              "    padding: 0;\n",
              "    width: 32px;\n",
              "  }\n",
              "\n",
              "  .colab-df-quickchart:hover {\n",
              "    background-color: var(--hover-bg-color);\n",
              "    box-shadow: 0 1px 2px rgba(60, 64, 67, 0.3), 0 1px 3px 1px rgba(60, 64, 67, 0.15);\n",
              "    fill: var(--button-hover-fill-color);\n",
              "  }\n",
              "\n",
              "  .colab-df-quickchart-complete:disabled,\n",
              "  .colab-df-quickchart-complete:disabled:hover {\n",
              "    background-color: var(--disabled-bg-color);\n",
              "    fill: var(--disabled-fill-color);\n",
              "    box-shadow: none;\n",
              "  }\n",
              "\n",
              "  .colab-df-spinner {\n",
              "    border: 2px solid var(--fill-color);\n",
              "    border-color: transparent;\n",
              "    border-bottom-color: var(--fill-color);\n",
              "    animation:\n",
              "      spin 1s steps(1) infinite;\n",
              "  }\n",
              "\n",
              "  @keyframes spin {\n",
              "    0% {\n",
              "      border-color: transparent;\n",
              "      border-bottom-color: var(--fill-color);\n",
              "      border-left-color: var(--fill-color);\n",
              "    }\n",
              "    20% {\n",
              "      border-color: transparent;\n",
              "      border-left-color: var(--fill-color);\n",
              "      border-top-color: var(--fill-color);\n",
              "    }\n",
              "    30% {\n",
              "      border-color: transparent;\n",
              "      border-left-color: var(--fill-color);\n",
              "      border-top-color: var(--fill-color);\n",
              "      border-right-color: var(--fill-color);\n",
              "    }\n",
              "    40% {\n",
              "      border-color: transparent;\n",
              "      border-right-color: var(--fill-color);\n",
              "      border-top-color: var(--fill-color);\n",
              "    }\n",
              "    60% {\n",
              "      border-color: transparent;\n",
              "      border-right-color: var(--fill-color);\n",
              "    }\n",
              "    80% {\n",
              "      border-color: transparent;\n",
              "      border-right-color: var(--fill-color);\n",
              "      border-bottom-color: var(--fill-color);\n",
              "    }\n",
              "    90% {\n",
              "      border-color: transparent;\n",
              "      border-bottom-color: var(--fill-color);\n",
              "    }\n",
              "  }\n",
              "</style>\n",
              "\n",
              "  <script>\n",
              "    async function quickchart(key) {\n",
              "      const quickchartButtonEl =\n",
              "        document.querySelector('#' + key + ' button');\n",
              "      quickchartButtonEl.disabled = true;  // To prevent multiple clicks.\n",
              "      quickchartButtonEl.classList.add('colab-df-spinner');\n",
              "      try {\n",
              "        const charts = await google.colab.kernel.invokeFunction(\n",
              "            'suggestCharts', [key], {});\n",
              "      } catch (error) {\n",
              "        console.error('Error during call to suggestCharts:', error);\n",
              "      }\n",
              "      quickchartButtonEl.classList.remove('colab-df-spinner');\n",
              "      quickchartButtonEl.classList.add('colab-df-quickchart-complete');\n",
              "    }\n",
              "    (() => {\n",
              "      let quickchartButtonEl =\n",
              "        document.querySelector('#df-db7d0c8f-76bc-4f33-bf8c-61d6c8c5a097 button');\n",
              "      quickchartButtonEl.style.display =\n",
              "        google.colab.kernel.accessAllowed ? 'block' : 'none';\n",
              "    })();\n",
              "  </script>\n",
              "</div>\n",
              "    </div>\n",
              "  </div>\n"
            ],
            "application/vnd.google.colaboratory.intrinsic+json": {
              "type": "dataframe",
              "variable_name": "ratings"
            }
          },
          "metadata": {},
          "execution_count": 32
        }
      ]
    },
    {
      "cell_type": "markdown",
      "source": [
        "Будем строить кластеризацию исполнителей: если двух исполнителей слушало много людей примерно одинаковую долю своего времени (то есть векторы близки в пространстве), то, возможно исполнители похожи. Эта информация может быть полезна при построении рекомендательных систем."
      ],
      "metadata": {
        "id": "sGeCPjTAoxWs"
      },
      "id": "sGeCPjTAoxWs"
    },
    {
      "cell_type": "markdown",
      "source": [
        "## Задание 1 (0.5 балла) Подготовка"
      ],
      "metadata": {
        "id": "R37mE-R2_3Wj"
      },
      "id": "R37mE-R2_3Wj"
    },
    {
      "cell_type": "markdown",
      "source": [
        "Транспонируем матрицу ratings, чтобы по строкам стояли исполнители."
      ],
      "metadata": {
        "id": "orn7K6q8plA5"
      },
      "id": "orn7K6q8plA5"
    },
    {
      "cell_type": "code",
      "source": [
        "# -- YOUR CODE HERE --"
      ],
      "metadata": {
        "id": "KU6ljPlCpiwH"
      },
      "id": "KU6ljPlCpiwH",
      "execution_count": 33,
      "outputs": []
    },
    {
      "cell_type": "markdown",
      "source": [
        "Выкиньте строку под названием `user`."
      ],
      "metadata": {
        "id": "WEKrlEhMpkhF"
      },
      "id": "WEKrlEhMpkhF"
    },
    {
      "cell_type": "code",
      "source": [
        "# -- YOUR CODE HERE --"
      ],
      "metadata": {
        "id": "yAaV1q9TpuMh"
      },
      "id": "yAaV1q9TpuMh",
      "execution_count": 34,
      "outputs": []
    },
    {
      "cell_type": "markdown",
      "source": [
        "В таблице много пропусков, так как пользователи слушают не всех-всех исполнителей, чья музыка представлена в сервисе, а некоторое подмножество (обычно около 30 исполнителей)\n",
        "\n",
        "\n",
        "Доля исполнителя в музыке, прослушанной  пользователем, равна 0, если пользователь никогда не слушал музыку данного музыканта, поэтому заполните пропуски нулями.\n",
        "\n"
      ],
      "metadata": {
        "id": "Z823IqqPpv_s"
      },
      "id": "Z823IqqPpv_s"
    },
    {
      "cell_type": "code",
      "source": [
        "# -- YOUR CODE HERE --\n",
        "ratings.sample()"
      ],
      "metadata": {
        "colab": {
          "base_uri": "https://localhost:8080/",
          "height": 127
        },
        "id": "XRdHzXJUsOeS",
        "outputId": "89c4dc2d-812c-49ee-8667-f39c1064689b"
      },
      "id": "XRdHzXJUsOeS",
      "execution_count": 35,
      "outputs": [
        {
          "output_type": "execute_result",
          "data": {
            "text/plain": [
              "     user  the beatles  radiohead  deathcab for cutie  coldplay  modest mouse  \\\n",
              "433   433     0.024531   0.027371            0.072818  0.036925           NaN   \n",
              "\n",
              "     sufjan stevens  dylan. bob  red hot clili peppers  pink fluid  ...  \\\n",
              "433        0.031331         NaN                    NaN         NaN  ...   \n",
              "\n",
              "     municipal waste  townes van zandt  curtis mayfield  jewel  lamb  \\\n",
              "433              NaN               NaN              NaN    NaN   NaN   \n",
              "\n",
              "     michal w. smith  群星  agalloch  meshuggah  yellowcard  \n",
              "433              NaN NaN       NaN        NaN         NaN  \n",
              "\n",
              "[1 rows x 1001 columns]"
            ],
            "text/html": [
              "\n",
              "  <div id=\"df-9fdd539b-9aff-4982-87d4-c831aafe8d34\" class=\"colab-df-container\">\n",
              "    <div>\n",
              "<style scoped>\n",
              "    .dataframe tbody tr th:only-of-type {\n",
              "        vertical-align: middle;\n",
              "    }\n",
              "\n",
              "    .dataframe tbody tr th {\n",
              "        vertical-align: top;\n",
              "    }\n",
              "\n",
              "    .dataframe thead th {\n",
              "        text-align: right;\n",
              "    }\n",
              "</style>\n",
              "<table border=\"1\" class=\"dataframe\">\n",
              "  <thead>\n",
              "    <tr style=\"text-align: right;\">\n",
              "      <th></th>\n",
              "      <th>user</th>\n",
              "      <th>the beatles</th>\n",
              "      <th>radiohead</th>\n",
              "      <th>deathcab for cutie</th>\n",
              "      <th>coldplay</th>\n",
              "      <th>modest mouse</th>\n",
              "      <th>sufjan stevens</th>\n",
              "      <th>dylan. bob</th>\n",
              "      <th>red hot clili peppers</th>\n",
              "      <th>pink fluid</th>\n",
              "      <th>...</th>\n",
              "      <th>municipal waste</th>\n",
              "      <th>townes van zandt</th>\n",
              "      <th>curtis mayfield</th>\n",
              "      <th>jewel</th>\n",
              "      <th>lamb</th>\n",
              "      <th>michal w. smith</th>\n",
              "      <th>群星</th>\n",
              "      <th>agalloch</th>\n",
              "      <th>meshuggah</th>\n",
              "      <th>yellowcard</th>\n",
              "    </tr>\n",
              "  </thead>\n",
              "  <tbody>\n",
              "    <tr>\n",
              "      <th>433</th>\n",
              "      <td>433</td>\n",
              "      <td>0.024531</td>\n",
              "      <td>0.027371</td>\n",
              "      <td>0.072818</td>\n",
              "      <td>0.036925</td>\n",
              "      <td>NaN</td>\n",
              "      <td>0.031331</td>\n",
              "      <td>NaN</td>\n",
              "      <td>NaN</td>\n",
              "      <td>NaN</td>\n",
              "      <td>...</td>\n",
              "      <td>NaN</td>\n",
              "      <td>NaN</td>\n",
              "      <td>NaN</td>\n",
              "      <td>NaN</td>\n",
              "      <td>NaN</td>\n",
              "      <td>NaN</td>\n",
              "      <td>NaN</td>\n",
              "      <td>NaN</td>\n",
              "      <td>NaN</td>\n",
              "      <td>NaN</td>\n",
              "    </tr>\n",
              "  </tbody>\n",
              "</table>\n",
              "<p>1 rows × 1001 columns</p>\n",
              "</div>\n",
              "    <div class=\"colab-df-buttons\">\n",
              "\n",
              "  <div class=\"colab-df-container\">\n",
              "    <button class=\"colab-df-convert\" onclick=\"convertToInteractive('df-9fdd539b-9aff-4982-87d4-c831aafe8d34')\"\n",
              "            title=\"Convert this dataframe to an interactive table.\"\n",
              "            style=\"display:none;\">\n",
              "\n",
              "  <svg xmlns=\"http://www.w3.org/2000/svg\" height=\"24px\" viewBox=\"0 -960 960 960\">\n",
              "    <path d=\"M120-120v-720h720v720H120Zm60-500h600v-160H180v160Zm220 220h160v-160H400v160Zm0 220h160v-160H400v160ZM180-400h160v-160H180v160Zm440 0h160v-160H620v160ZM180-180h160v-160H180v160Zm440 0h160v-160H620v160Z\"/>\n",
              "  </svg>\n",
              "    </button>\n",
              "\n",
              "  <style>\n",
              "    .colab-df-container {\n",
              "      display:flex;\n",
              "      gap: 12px;\n",
              "    }\n",
              "\n",
              "    .colab-df-convert {\n",
              "      background-color: #E8F0FE;\n",
              "      border: none;\n",
              "      border-radius: 50%;\n",
              "      cursor: pointer;\n",
              "      display: none;\n",
              "      fill: #1967D2;\n",
              "      height: 32px;\n",
              "      padding: 0 0 0 0;\n",
              "      width: 32px;\n",
              "    }\n",
              "\n",
              "    .colab-df-convert:hover {\n",
              "      background-color: #E2EBFA;\n",
              "      box-shadow: 0px 1px 2px rgba(60, 64, 67, 0.3), 0px 1px 3px 1px rgba(60, 64, 67, 0.15);\n",
              "      fill: #174EA6;\n",
              "    }\n",
              "\n",
              "    .colab-df-buttons div {\n",
              "      margin-bottom: 4px;\n",
              "    }\n",
              "\n",
              "    [theme=dark] .colab-df-convert {\n",
              "      background-color: #3B4455;\n",
              "      fill: #D2E3FC;\n",
              "    }\n",
              "\n",
              "    [theme=dark] .colab-df-convert:hover {\n",
              "      background-color: #434B5C;\n",
              "      box-shadow: 0px 1px 3px 1px rgba(0, 0, 0, 0.15);\n",
              "      filter: drop-shadow(0px 1px 2px rgba(0, 0, 0, 0.3));\n",
              "      fill: #FFFFFF;\n",
              "    }\n",
              "  </style>\n",
              "\n",
              "    <script>\n",
              "      const buttonEl =\n",
              "        document.querySelector('#df-9fdd539b-9aff-4982-87d4-c831aafe8d34 button.colab-df-convert');\n",
              "      buttonEl.style.display =\n",
              "        google.colab.kernel.accessAllowed ? 'block' : 'none';\n",
              "\n",
              "      async function convertToInteractive(key) {\n",
              "        const element = document.querySelector('#df-9fdd539b-9aff-4982-87d4-c831aafe8d34');\n",
              "        const dataTable =\n",
              "          await google.colab.kernel.invokeFunction('convertToInteractive',\n",
              "                                                    [key], {});\n",
              "        if (!dataTable) return;\n",
              "\n",
              "        const docLinkHtml = 'Like what you see? Visit the ' +\n",
              "          '<a target=\"_blank\" href=https://colab.research.google.com/notebooks/data_table.ipynb>data table notebook</a>'\n",
              "          + ' to learn more about interactive tables.';\n",
              "        element.innerHTML = '';\n",
              "        dataTable['output_type'] = 'display_data';\n",
              "        await google.colab.output.renderOutput(dataTable, element);\n",
              "        const docLink = document.createElement('div');\n",
              "        docLink.innerHTML = docLinkHtml;\n",
              "        element.appendChild(docLink);\n",
              "      }\n",
              "    </script>\n",
              "  </div>\n",
              "\n",
              "    </div>\n",
              "  </div>\n"
            ],
            "application/vnd.google.colaboratory.intrinsic+json": {
              "type": "dataframe"
            }
          },
          "metadata": {},
          "execution_count": 35
        }
      ]
    },
    {
      "cell_type": "markdown",
      "source": [
        "## Задание 2 (0.5 балла) Первая кластеризация"
      ],
      "metadata": {
        "id": "0_1D0JnmAAjL"
      },
      "id": "0_1D0JnmAAjL"
    },
    {
      "cell_type": "markdown",
      "source": [
        "Примените KMeans с 5ю кластерами, сохраните полученные лейблы"
      ],
      "metadata": {
        "id": "ARuDv5grstBl"
      },
      "id": "ARuDv5grstBl"
    },
    {
      "cell_type": "code",
      "source": [
        "from sklearn.cluster import KMeans\n",
        "\n",
        "# -- YOUR CODE HERE --"
      ],
      "metadata": {
        "id": "r2HxwIN5ssoO"
      },
      "id": "r2HxwIN5ssoO",
      "execution_count": 36,
      "outputs": []
    },
    {
      "cell_type": "markdown",
      "source": [
        "Выведите размеры кластеров. Полезной ли получилась кластеризация? Почему KMeans может выдать такой результат?"
      ],
      "metadata": {
        "id": "aoWre3460SVi"
      },
      "id": "aoWre3460SVi"
    },
    {
      "cell_type": "code",
      "source": [
        "# -- YOUR CODE HERE --"
      ],
      "metadata": {
        "id": "zsGGw7ha1OhP"
      },
      "id": "zsGGw7ha1OhP",
      "execution_count": 37,
      "outputs": []
    },
    {
      "cell_type": "markdown",
      "source": [
        "**Ответ:** # -- YOUR ANSWER HERE --"
      ],
      "metadata": {
        "id": "lCcSpb2o11nZ"
      },
      "id": "lCcSpb2o11nZ"
    },
    {
      "cell_type": "markdown",
      "source": [
        "## Задание 3 (0.5 балла) Объяснение результатов"
      ],
      "metadata": {
        "id": "HDLIxdWBAMql"
      },
      "id": "HDLIxdWBAMql"
    },
    {
      "cell_type": "markdown",
      "source": [
        "При кластеризации получилось $\\geq 1$ кластера размера 1. Выведите исполнителей, которые составляют такие кластеры. Среди них должна быть группа The Beatles."
      ],
      "metadata": {
        "id": "Z0LPwxlK6PX3"
      },
      "id": "Z0LPwxlK6PX3"
    },
    {
      "cell_type": "code",
      "source": [
        "# -- YOUR CODE HERE --"
      ],
      "metadata": {
        "id": "GpopP65iUXiJ"
      },
      "id": "GpopP65iUXiJ",
      "execution_count": 38,
      "outputs": []
    },
    {
      "cell_type": "markdown",
      "source": [
        "Изучите данные, почему именно The Beatles выделяется?\n",
        "\n",
        "Подсказка: посмотрите на долю пользователей, которые слушают каждого исполнителя, среднюю долю прослушивания."
      ],
      "metadata": {
        "id": "brfvihta6yyG"
      },
      "id": "brfvihta6yyG"
    },
    {
      "cell_type": "code",
      "source": [
        "# -- YOUR CODE HERE --"
      ],
      "metadata": {
        "id": "xnK6DL-aUdPi"
      },
      "id": "xnK6DL-aUdPi",
      "execution_count": 39,
      "outputs": []
    },
    {
      "cell_type": "markdown",
      "source": [
        "**Ответ:** # -- YOUR ANSWER HERE --"
      ],
      "metadata": {
        "id": "QzYYFir870jG"
      },
      "id": "QzYYFir870jG"
    },
    {
      "cell_type": "markdown",
      "source": [
        "## Задание 4 (0.5 балла) Улучшение кластеризации"
      ],
      "metadata": {
        "id": "faW2kZFjAS9X"
      },
      "id": "faW2kZFjAS9X"
    },
    {
      "cell_type": "markdown",
      "source": [
        "Попытаемся избавиться от этой проблемы: нормализуйте данные при помощи `normalize`."
      ],
      "metadata": {
        "id": "Yzz3BbBw9KKt"
      },
      "id": "Yzz3BbBw9KKt"
    },
    {
      "cell_type": "code",
      "source": [
        "from sklearn.preprocessing import normalize\n",
        "\n",
        "# -- YOUR CODE HERE --"
      ],
      "metadata": {
        "id": "zg_crbGI9RNG"
      },
      "id": "zg_crbGI9RNG",
      "execution_count": 40,
      "outputs": []
    },
    {
      "cell_type": "markdown",
      "source": [
        "Примените KMeans с 5ю кластерами на преобразованной матрице, посмотрите на их размеры. Стало ли лучше? Может ли кластеризация быть полезной теперь?"
      ],
      "metadata": {
        "id": "vFlwI4ec-SuY"
      },
      "id": "vFlwI4ec-SuY"
    },
    {
      "cell_type": "code",
      "source": [
        "# -- YOUR CODE HERE --"
      ],
      "metadata": {
        "id": "6ic3WvMdUfwb"
      },
      "id": "6ic3WvMdUfwb",
      "execution_count": 41,
      "outputs": []
    },
    {
      "cell_type": "markdown",
      "source": [
        "**Ответ** # -- YOUR ANSWER HERE --"
      ],
      "metadata": {
        "id": "Xj9fyDKd-bzk"
      },
      "id": "Xj9fyDKd-bzk"
    },
    {
      "cell_type": "markdown",
      "source": [
        "## Задание 5 (1 балл) Центроиды"
      ],
      "metadata": {
        "id": "zFsXACPxAhyv"
      },
      "id": "zFsXACPxAhyv"
    },
    {
      "cell_type": "markdown",
      "source": [
        "Выведите для каждого кластера названия топ-10 исполнителей, ближайших к центроиду по косинусной мере. Проинтерпретируйте результат. Что можно сказать о смысле кластеров?"
      ],
      "metadata": {
        "id": "qG5cISdzu7Jh"
      },
      "id": "qG5cISdzu7Jh"
    },
    {
      "cell_type": "code",
      "source": [
        "from scipy.spatial.distance import cosine\n",
        "\n",
        "\n",
        "centroids = km.cluster_centers_\n",
        "\n",
        "# -- YOUR CODE HERE --"
      ],
      "metadata": {
        "id": "CtDNl9cH0aVR"
      },
      "id": "CtDNl9cH0aVR",
      "execution_count": null,
      "outputs": []
    },
    {
      "cell_type": "markdown",
      "source": [
        "**Ответ:** # -- YOUR ANSWER HERE --"
      ],
      "metadata": {
        "id": "GwioYtvAxqxT"
      },
      "id": "GwioYtvAxqxT"
    },
    {
      "cell_type": "markdown",
      "source": [
        "## Задание 6 (1 балл) Визуализация"
      ],
      "metadata": {
        "id": "TkBh9Dk2C_el"
      },
      "id": "TkBh9Dk2C_el"
    },
    {
      "cell_type": "markdown",
      "source": [
        "Хотелось бы как-то визуализировать полученную кластеризацию. Постройте точечные графики `plt.scatter` для нескольких пар признаков исполнителей, покрасив точки в цвета кластеров. Почему визуализации получились такими? Хорошо ли они отражают разделение на кластеры? Почему?"
      ],
      "metadata": {
        "id": "GzP-OoAZDony"
      },
      "id": "GzP-OoAZDony"
    },
    {
      "cell_type": "code",
      "source": [
        "import matplotlib.pyplot as plt\n",
        "\n",
        "# -- YOUR CODE HERE --"
      ],
      "metadata": {
        "id": "HyVqnEQ3DWgm"
      },
      "id": "HyVqnEQ3DWgm",
      "execution_count": null,
      "outputs": []
    },
    {
      "cell_type": "markdown",
      "source": [
        "**Ответ:** # -- YOUR ANSWER HERE --"
      ],
      "metadata": {
        "id": "O5t7YabAFPe4"
      },
      "id": "O5t7YabAFPe4"
    },
    {
      "cell_type": "markdown",
      "source": [
        "Для визуализации данных высокой размерности существует метод t-SNE (стохастическое вложение соседей с t-распределением). Данный метод является нелинейным методом снижения размерности: каждый объект высокой размерности будет моделироваться объектов более низкой (например, 2) размерности таким образом, чтобы похожие объекты моделировались близкими, непохожие - далекими с большой вероятностью.\n",
        "\n",
        "Примените `TSNE` из библиотеки `sklearn` и визуализируйте полученные объекты, покрасив их в цвета их кластеров"
      ],
      "metadata": {
        "id": "ZuPjFHu4GuHK"
      },
      "id": "ZuPjFHu4GuHK"
    },
    {
      "cell_type": "code",
      "source": [
        "from sklearn.manifold import TSNE\n",
        "\n",
        "# -- YOUR CODE HERE --"
      ],
      "metadata": {
        "id": "CVNPXKvcH7uV"
      },
      "id": "CVNPXKvcH7uV",
      "execution_count": null,
      "outputs": []
    },
    {
      "cell_type": "markdown",
      "source": [
        "## Задание 7 (1 балл) Подбор гиперпараметров"
      ],
      "metadata": {
        "id": "Mi1frYgFJCrT"
      },
      "id": "Mi1frYgFJCrT"
    },
    {
      "cell_type": "markdown",
      "source": [
        "Подберите оптимальное количество кластеров (максимум 100 кластеров) с использованием индекса Силуэта. Зафиксируйте `random_state=42`"
      ],
      "metadata": {
        "id": "7UKDZt-bAokD"
      },
      "id": "7UKDZt-bAokD"
    },
    {
      "cell_type": "code",
      "source": [
        "from sklearn.metrics import silhouette_score\n",
        "\n",
        "# -- YOUR CODE HERE --"
      ],
      "metadata": {
        "id": "S4CxV_XJAy0A"
      },
      "id": "S4CxV_XJAy0A",
      "execution_count": null,
      "outputs": []
    },
    {
      "cell_type": "markdown",
      "source": [
        "Выведите исполнителей, ближайших с центроидам (аналогично заданию 5). Как соотносятся результаты? Остался ли смысл кластеров прежним? Расскажите про смысл 1-2 интересных кластеров, если он изменился и кластеров слишком много, чтобы рассказать про все."
      ],
      "metadata": {
        "id": "J81KdOFtJORV"
      },
      "id": "J81KdOFtJORV"
    },
    {
      "cell_type": "code",
      "source": [
        "# -- YOUR CODE HERE --"
      ],
      "metadata": {
        "id": "HMY-058kBqO0"
      },
      "id": "HMY-058kBqO0",
      "execution_count": null,
      "outputs": []
    },
    {
      "cell_type": "markdown",
      "source": [
        "**Ответ:** # -- YOUR ANSWER HERE --"
      ],
      "metadata": {
        "id": "LeWEK2QsJkiX"
      },
      "id": "LeWEK2QsJkiX"
    },
    {
      "cell_type": "markdown",
      "source": [
        "Сделайте t-SNE визуализацию полученной кластеризации."
      ],
      "metadata": {
        "id": "YluT0kiGPe4j"
      },
      "id": "YluT0kiGPe4j"
    },
    {
      "cell_type": "code",
      "source": [
        "# -- YOUR CODE HERE --"
      ],
      "metadata": {
        "id": "00rY7Z6XPfPa"
      },
      "id": "00rY7Z6XPfPa",
      "execution_count": null,
      "outputs": []
    },
    {
      "cell_type": "markdown",
      "source": [
        "Если кластеров получилось слишком много и визуально цвета плохо отличаются, покрасьте только какой-нибудь интересный кластер из задания выше (`c = (labels == i)`). Хорошо ли этот кластер отражается в визуализации?"
      ],
      "metadata": {
        "id": "Eo8H1sNqQqiF"
      },
      "id": "Eo8H1sNqQqiF"
    },
    {
      "cell_type": "code",
      "source": [
        "# -- YOUR CODE HERE --"
      ],
      "metadata": {
        "id": "E4oXA3qTQwWT"
      },
      "id": "E4oXA3qTQwWT",
      "execution_count": null,
      "outputs": []
    },
    {
      "cell_type": "markdown",
      "source": [
        "**Ответ:** # -- YOUR ANSWER HERE --"
      ],
      "metadata": {
        "id": "SHxur6z7Q0fu"
      },
      "id": "SHxur6z7Q0fu"
    }
  ],
  "metadata": {
    "kernelspec": {
      "display_name": "Python 3 (ipykernel)",
      "language": "python",
      "name": "python3"
    },
    "language_info": {
      "codemirror_mode": {
        "name": "ipython",
        "version": 3
      },
      "file_extension": ".py",
      "mimetype": "text/x-python",
      "name": "python",
      "nbconvert_exporter": "python",
      "pygments_lexer": "ipython3",
      "version": "3.9.1"
    },
    "colab": {
      "provenance": []
    }
  },
  "nbformat": 4,
  "nbformat_minor": 5
}