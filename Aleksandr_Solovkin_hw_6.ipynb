{
  "cells": [
    {
      "cell_type": "markdown",
      "metadata": {
        "id": "Ffq6A2-ifzAA"
      },
      "source": [
        "# Интеллектуальный анализ данных – весна 2024\n",
        "# Домашнее задание 6: классификация текстов"
      ]
    },
    {
      "cell_type": "markdown",
      "source": [
        "Правила:\n",
        "\n",
        "\n",
        "\n",
        "*   Домашнее задание оценивается в 10 баллов.\n",
        "*   Можно использовать без доказательства любые результаты, встречавшиеся на лекциях или семинарах по курсу, если получение этих результатов не является вопросом задания.\n",
        "*  Можно использовать любые свободные источники с *обязательным* указанием ссылки на них.\n",
        "*  Плагиат не допускается. При обнаружении случаев списывания, 0 за работу выставляется всем участникам нарушения, даже если можно установить, кто у кого списал.\n",
        "*  Старайтесь сделать код как можно более оптимальным. В частности, будет штрафоваться использование циклов в тех случаях, когда операцию можно совершить при помощи инструментов библиотек, о которых рассказывалось в курсе."
      ],
      "metadata": {
        "id": "EPcxtekTA1Sm"
      }
    },
    {
      "cell_type": "markdown",
      "metadata": {
        "id": "itRtFtrOf0_b"
      },
      "source": [
        "В этом домашнем задании вам предстоит построить классификатор текстов.\n",
        "\n",
        "Будем предсказывать эмоциональную окраску твиттов о коронавирусе.\n",
        "\n"
      ]
    },
    {
      "cell_type": "code",
      "execution_count": 2,
      "metadata": {
        "id": "tNGRVO7_g9mz"
      },
      "outputs": [],
      "source": [
        "import numpy as np\n",
        "import pandas as pd\n",
        "from typing import  List\n",
        "import matplotlib.pyplot as plt\n",
        "import seaborn as sns\n",
        "from string import punctuation"
      ]
    },
    {
      "cell_type": "code",
      "execution_count": 9,
      "metadata": {
        "id": "zOy8iHJQg_Ss",
        "colab": {
          "base_uri": "https://localhost:8080/",
          "height": 175
        },
        "outputId": "22e13111-d774-4ce8-a096-e54c44158c82"
      },
      "outputs": [
        {
          "output_type": "execute_result",
          "data": {
            "text/plain": [
              "       UserName  ScreenName             Location     TweetAt  \\\n",
              "12570     19037       63989  North West, England  22-03-2020   \n",
              "17684     25308       70260                  NaN  25-03-2020   \n",
              "29424     39919       84871           Dallas, TX  09-04-2020   \n",
              "3675       8260       53212      Kampala, Uganda  18-03-2020   \n",
              "\n",
              "                                           OriginalTweet           Sentiment  \n",
              "12570  People are being told only to go to the superm...            Positive  \n",
              "17684  COVID 19 As you rush to stock food amp drive u...            Positive  \n",
              "29424  Watch out for coronavirus scams!\\r\\r\\nEven in ...  Extremely Negative  \n",
              "3675   Order sanitizers online from They ve a great w...  Extremely Positive  "
            ],
            "text/html": [
              "\n",
              "  <div id=\"df-d9a5d062-55d1-4bb1-b422-9c84be0fe591\" class=\"colab-df-container\">\n",
              "    <div>\n",
              "<style scoped>\n",
              "    .dataframe tbody tr th:only-of-type {\n",
              "        vertical-align: middle;\n",
              "    }\n",
              "\n",
              "    .dataframe tbody tr th {\n",
              "        vertical-align: top;\n",
              "    }\n",
              "\n",
              "    .dataframe thead th {\n",
              "        text-align: right;\n",
              "    }\n",
              "</style>\n",
              "<table border=\"1\" class=\"dataframe\">\n",
              "  <thead>\n",
              "    <tr style=\"text-align: right;\">\n",
              "      <th></th>\n",
              "      <th>UserName</th>\n",
              "      <th>ScreenName</th>\n",
              "      <th>Location</th>\n",
              "      <th>TweetAt</th>\n",
              "      <th>OriginalTweet</th>\n",
              "      <th>Sentiment</th>\n",
              "    </tr>\n",
              "  </thead>\n",
              "  <tbody>\n",
              "    <tr>\n",
              "      <th>12570</th>\n",
              "      <td>19037</td>\n",
              "      <td>63989</td>\n",
              "      <td>North West, England</td>\n",
              "      <td>22-03-2020</td>\n",
              "      <td>People are being told only to go to the superm...</td>\n",
              "      <td>Positive</td>\n",
              "    </tr>\n",
              "    <tr>\n",
              "      <th>17684</th>\n",
              "      <td>25308</td>\n",
              "      <td>70260</td>\n",
              "      <td>NaN</td>\n",
              "      <td>25-03-2020</td>\n",
              "      <td>COVID 19 As you rush to stock food amp drive u...</td>\n",
              "      <td>Positive</td>\n",
              "    </tr>\n",
              "    <tr>\n",
              "      <th>29424</th>\n",
              "      <td>39919</td>\n",
              "      <td>84871</td>\n",
              "      <td>Dallas, TX</td>\n",
              "      <td>09-04-2020</td>\n",
              "      <td>Watch out for coronavirus scams!\\r\\r\\nEven in ...</td>\n",
              "      <td>Extremely Negative</td>\n",
              "    </tr>\n",
              "    <tr>\n",
              "      <th>3675</th>\n",
              "      <td>8260</td>\n",
              "      <td>53212</td>\n",
              "      <td>Kampala, Uganda</td>\n",
              "      <td>18-03-2020</td>\n",
              "      <td>Order sanitizers online from They ve a great w...</td>\n",
              "      <td>Extremely Positive</td>\n",
              "    </tr>\n",
              "  </tbody>\n",
              "</table>\n",
              "</div>\n",
              "    <div class=\"colab-df-buttons\">\n",
              "\n",
              "  <div class=\"colab-df-container\">\n",
              "    <button class=\"colab-df-convert\" onclick=\"convertToInteractive('df-d9a5d062-55d1-4bb1-b422-9c84be0fe591')\"\n",
              "            title=\"Convert this dataframe to an interactive table.\"\n",
              "            style=\"display:none;\">\n",
              "\n",
              "  <svg xmlns=\"http://www.w3.org/2000/svg\" height=\"24px\" viewBox=\"0 -960 960 960\">\n",
              "    <path d=\"M120-120v-720h720v720H120Zm60-500h600v-160H180v160Zm220 220h160v-160H400v160Zm0 220h160v-160H400v160ZM180-400h160v-160H180v160Zm440 0h160v-160H620v160ZM180-180h160v-160H180v160Zm440 0h160v-160H620v160Z\"/>\n",
              "  </svg>\n",
              "    </button>\n",
              "\n",
              "  <style>\n",
              "    .colab-df-container {\n",
              "      display:flex;\n",
              "      gap: 12px;\n",
              "    }\n",
              "\n",
              "    .colab-df-convert {\n",
              "      background-color: #E8F0FE;\n",
              "      border: none;\n",
              "      border-radius: 50%;\n",
              "      cursor: pointer;\n",
              "      display: none;\n",
              "      fill: #1967D2;\n",
              "      height: 32px;\n",
              "      padding: 0 0 0 0;\n",
              "      width: 32px;\n",
              "    }\n",
              "\n",
              "    .colab-df-convert:hover {\n",
              "      background-color: #E2EBFA;\n",
              "      box-shadow: 0px 1px 2px rgba(60, 64, 67, 0.3), 0px 1px 3px 1px rgba(60, 64, 67, 0.15);\n",
              "      fill: #174EA6;\n",
              "    }\n",
              "\n",
              "    .colab-df-buttons div {\n",
              "      margin-bottom: 4px;\n",
              "    }\n",
              "\n",
              "    [theme=dark] .colab-df-convert {\n",
              "      background-color: #3B4455;\n",
              "      fill: #D2E3FC;\n",
              "    }\n",
              "\n",
              "    [theme=dark] .colab-df-convert:hover {\n",
              "      background-color: #434B5C;\n",
              "      box-shadow: 0px 1px 3px 1px rgba(0, 0, 0, 0.15);\n",
              "      filter: drop-shadow(0px 1px 2px rgba(0, 0, 0, 0.3));\n",
              "      fill: #FFFFFF;\n",
              "    }\n",
              "  </style>\n",
              "\n",
              "    <script>\n",
              "      const buttonEl =\n",
              "        document.querySelector('#df-d9a5d062-55d1-4bb1-b422-9c84be0fe591 button.colab-df-convert');\n",
              "      buttonEl.style.display =\n",
              "        google.colab.kernel.accessAllowed ? 'block' : 'none';\n",
              "\n",
              "      async function convertToInteractive(key) {\n",
              "        const element = document.querySelector('#df-d9a5d062-55d1-4bb1-b422-9c84be0fe591');\n",
              "        const dataTable =\n",
              "          await google.colab.kernel.invokeFunction('convertToInteractive',\n",
              "                                                    [key], {});\n",
              "        if (!dataTable) return;\n",
              "\n",
              "        const docLinkHtml = 'Like what you see? Visit the ' +\n",
              "          '<a target=\"_blank\" href=https://colab.research.google.com/notebooks/data_table.ipynb>data table notebook</a>'\n",
              "          + ' to learn more about interactive tables.';\n",
              "        element.innerHTML = '';\n",
              "        dataTable['output_type'] = 'display_data';\n",
              "        await google.colab.output.renderOutput(dataTable, element);\n",
              "        const docLink = document.createElement('div');\n",
              "        docLink.innerHTML = docLinkHtml;\n",
              "        element.appendChild(docLink);\n",
              "      }\n",
              "    </script>\n",
              "  </div>\n",
              "\n",
              "\n",
              "<div id=\"df-d0e7a9b6-b783-4297-930a-b7afdf187532\">\n",
              "  <button class=\"colab-df-quickchart\" onclick=\"quickchart('df-d0e7a9b6-b783-4297-930a-b7afdf187532')\"\n",
              "            title=\"Suggest charts\"\n",
              "            style=\"display:none;\">\n",
              "\n",
              "<svg xmlns=\"http://www.w3.org/2000/svg\" height=\"24px\"viewBox=\"0 0 24 24\"\n",
              "     width=\"24px\">\n",
              "    <g>\n",
              "        <path d=\"M19 3H5c-1.1 0-2 .9-2 2v14c0 1.1.9 2 2 2h14c1.1 0 2-.9 2-2V5c0-1.1-.9-2-2-2zM9 17H7v-7h2v7zm4 0h-2V7h2v10zm4 0h-2v-4h2v4z\"/>\n",
              "    </g>\n",
              "</svg>\n",
              "  </button>\n",
              "\n",
              "<style>\n",
              "  .colab-df-quickchart {\n",
              "      --bg-color: #E8F0FE;\n",
              "      --fill-color: #1967D2;\n",
              "      --hover-bg-color: #E2EBFA;\n",
              "      --hover-fill-color: #174EA6;\n",
              "      --disabled-fill-color: #AAA;\n",
              "      --disabled-bg-color: #DDD;\n",
              "  }\n",
              "\n",
              "  [theme=dark] .colab-df-quickchart {\n",
              "      --bg-color: #3B4455;\n",
              "      --fill-color: #D2E3FC;\n",
              "      --hover-bg-color: #434B5C;\n",
              "      --hover-fill-color: #FFFFFF;\n",
              "      --disabled-bg-color: #3B4455;\n",
              "      --disabled-fill-color: #666;\n",
              "  }\n",
              "\n",
              "  .colab-df-quickchart {\n",
              "    background-color: var(--bg-color);\n",
              "    border: none;\n",
              "    border-radius: 50%;\n",
              "    cursor: pointer;\n",
              "    display: none;\n",
              "    fill: var(--fill-color);\n",
              "    height: 32px;\n",
              "    padding: 0;\n",
              "    width: 32px;\n",
              "  }\n",
              "\n",
              "  .colab-df-quickchart:hover {\n",
              "    background-color: var(--hover-bg-color);\n",
              "    box-shadow: 0 1px 2px rgba(60, 64, 67, 0.3), 0 1px 3px 1px rgba(60, 64, 67, 0.15);\n",
              "    fill: var(--button-hover-fill-color);\n",
              "  }\n",
              "\n",
              "  .colab-df-quickchart-complete:disabled,\n",
              "  .colab-df-quickchart-complete:disabled:hover {\n",
              "    background-color: var(--disabled-bg-color);\n",
              "    fill: var(--disabled-fill-color);\n",
              "    box-shadow: none;\n",
              "  }\n",
              "\n",
              "  .colab-df-spinner {\n",
              "    border: 2px solid var(--fill-color);\n",
              "    border-color: transparent;\n",
              "    border-bottom-color: var(--fill-color);\n",
              "    animation:\n",
              "      spin 1s steps(1) infinite;\n",
              "  }\n",
              "\n",
              "  @keyframes spin {\n",
              "    0% {\n",
              "      border-color: transparent;\n",
              "      border-bottom-color: var(--fill-color);\n",
              "      border-left-color: var(--fill-color);\n",
              "    }\n",
              "    20% {\n",
              "      border-color: transparent;\n",
              "      border-left-color: var(--fill-color);\n",
              "      border-top-color: var(--fill-color);\n",
              "    }\n",
              "    30% {\n",
              "      border-color: transparent;\n",
              "      border-left-color: var(--fill-color);\n",
              "      border-top-color: var(--fill-color);\n",
              "      border-right-color: var(--fill-color);\n",
              "    }\n",
              "    40% {\n",
              "      border-color: transparent;\n",
              "      border-right-color: var(--fill-color);\n",
              "      border-top-color: var(--fill-color);\n",
              "    }\n",
              "    60% {\n",
              "      border-color: transparent;\n",
              "      border-right-color: var(--fill-color);\n",
              "    }\n",
              "    80% {\n",
              "      border-color: transparent;\n",
              "      border-right-color: var(--fill-color);\n",
              "      border-bottom-color: var(--fill-color);\n",
              "    }\n",
              "    90% {\n",
              "      border-color: transparent;\n",
              "      border-bottom-color: var(--fill-color);\n",
              "    }\n",
              "  }\n",
              "</style>\n",
              "\n",
              "  <script>\n",
              "    async function quickchart(key) {\n",
              "      const quickchartButtonEl =\n",
              "        document.querySelector('#' + key + ' button');\n",
              "      quickchartButtonEl.disabled = true;  // To prevent multiple clicks.\n",
              "      quickchartButtonEl.classList.add('colab-df-spinner');\n",
              "      try {\n",
              "        const charts = await google.colab.kernel.invokeFunction(\n",
              "            'suggestCharts', [key], {});\n",
              "      } catch (error) {\n",
              "        console.error('Error during call to suggestCharts:', error);\n",
              "      }\n",
              "      quickchartButtonEl.classList.remove('colab-df-spinner');\n",
              "      quickchartButtonEl.classList.add('colab-df-quickchart-complete');\n",
              "    }\n",
              "    (() => {\n",
              "      let quickchartButtonEl =\n",
              "        document.querySelector('#df-d0e7a9b6-b783-4297-930a-b7afdf187532 button');\n",
              "      quickchartButtonEl.style.display =\n",
              "        google.colab.kernel.accessAllowed ? 'block' : 'none';\n",
              "    })();\n",
              "  </script>\n",
              "</div>\n",
              "    </div>\n",
              "  </div>\n"
            ],
            "application/vnd.google.colaboratory.intrinsic+json": {
              "type": "dataframe",
              "repr_error": "0"
            }
          },
          "metadata": {},
          "execution_count": 9
        }
      ],
      "source": [
        "df = pd.read_csv('/content/tweets_coronavirus.csv', encoding='latin-1')\n",
        "df.sample(4)"
      ]
    },
    {
      "cell_type": "markdown",
      "metadata": {
        "id": "m2OiDog9ZBlS"
      },
      "source": [
        "Для каждого твитта указано:\n",
        "\n",
        "\n",
        "*   UserName - имя пользователя, заменено на целое число для анонимности\n",
        "*   ScreenName - отображающееся имя пользователя, заменено на целое число для анонимности\n",
        "*   Location - местоположение\n",
        "*   TweetAt - дата создания твитта\n",
        "*   OriginalTweet - текст твитта\n",
        "*   Sentiment - эмоциональная окраска твитта (целевая переменная)\n",
        "\n"
      ]
    },
    {
      "cell_type": "markdown",
      "metadata": {
        "id": "pZTMseDkhTC7"
      },
      "source": [
        "## Задание 1 Подготовка (0.5 балла)"
      ]
    },
    {
      "cell_type": "markdown",
      "metadata": {
        "id": "Xx2-odn9hdAW"
      },
      "source": [
        "Целевая переменная находится в колонке `Sentiment`.  Преобразуйте ее таким образом, чтобы она стала бинарной: 1 - если у твитта положительная эмоциональная окраска и 0 - если отрицательная."
      ]
    },
    {
      "cell_type": "code",
      "execution_count": 10,
      "metadata": {
        "id": "ZaQKQ1zEjP15",
        "colab": {
          "base_uri": "https://localhost:8080/",
          "height": 192
        },
        "outputId": "d6c91950-24a8-4f49-c7ff-e8bf20d8699d"
      },
      "outputs": [
        {
          "output_type": "stream",
          "name": "stdout",
          "text": [
            "['Positive' 'Extremely Negative' 'Negative' 'Extremely Positive']\n"
          ]
        },
        {
          "output_type": "execute_result",
          "data": {
            "text/plain": [
              "       UserName  ScreenName       Location     TweetAt  \\\n",
              "29792     40375       85327            NaN  09-04-2020   \n",
              "27173     37118       82070            NaN  07-04-2020   \n",
              "20608     28949       73901  United States  30-03-2020   \n",
              "7427      12820       57772            NaN  20-03-2020   \n",
              "\n",
              "                                           OriginalTweet  Sentiment  \n",
              "29792  Cell Is this how you and keep yourselves profi...          1  \n",
              "27173  prices eased from a 4 week high as and global ...          1  \n",
              "20608  PEOPLE stop #Hoarding! No shortage except mask...          0  \n",
              "7427   Sorry to say but we as Muslims are the worst h...          0  "
            ],
            "text/html": [
              "\n",
              "  <div id=\"df-e40c89a1-3352-4c13-8d94-cc30fa8de0c0\" class=\"colab-df-container\">\n",
              "    <div>\n",
              "<style scoped>\n",
              "    .dataframe tbody tr th:only-of-type {\n",
              "        vertical-align: middle;\n",
              "    }\n",
              "\n",
              "    .dataframe tbody tr th {\n",
              "        vertical-align: top;\n",
              "    }\n",
              "\n",
              "    .dataframe thead th {\n",
              "        text-align: right;\n",
              "    }\n",
              "</style>\n",
              "<table border=\"1\" class=\"dataframe\">\n",
              "  <thead>\n",
              "    <tr style=\"text-align: right;\">\n",
              "      <th></th>\n",
              "      <th>UserName</th>\n",
              "      <th>ScreenName</th>\n",
              "      <th>Location</th>\n",
              "      <th>TweetAt</th>\n",
              "      <th>OriginalTweet</th>\n",
              "      <th>Sentiment</th>\n",
              "    </tr>\n",
              "  </thead>\n",
              "  <tbody>\n",
              "    <tr>\n",
              "      <th>29792</th>\n",
              "      <td>40375</td>\n",
              "      <td>85327</td>\n",
              "      <td>NaN</td>\n",
              "      <td>09-04-2020</td>\n",
              "      <td>Cell Is this how you and keep yourselves profi...</td>\n",
              "      <td>1</td>\n",
              "    </tr>\n",
              "    <tr>\n",
              "      <th>27173</th>\n",
              "      <td>37118</td>\n",
              "      <td>82070</td>\n",
              "      <td>NaN</td>\n",
              "      <td>07-04-2020</td>\n",
              "      <td>prices eased from a 4 week high as and global ...</td>\n",
              "      <td>1</td>\n",
              "    </tr>\n",
              "    <tr>\n",
              "      <th>20608</th>\n",
              "      <td>28949</td>\n",
              "      <td>73901</td>\n",
              "      <td>United States</td>\n",
              "      <td>30-03-2020</td>\n",
              "      <td>PEOPLE stop #Hoarding! No shortage except mask...</td>\n",
              "      <td>0</td>\n",
              "    </tr>\n",
              "    <tr>\n",
              "      <th>7427</th>\n",
              "      <td>12820</td>\n",
              "      <td>57772</td>\n",
              "      <td>NaN</td>\n",
              "      <td>20-03-2020</td>\n",
              "      <td>Sorry to say but we as Muslims are the worst h...</td>\n",
              "      <td>0</td>\n",
              "    </tr>\n",
              "  </tbody>\n",
              "</table>\n",
              "</div>\n",
              "    <div class=\"colab-df-buttons\">\n",
              "\n",
              "  <div class=\"colab-df-container\">\n",
              "    <button class=\"colab-df-convert\" onclick=\"convertToInteractive('df-e40c89a1-3352-4c13-8d94-cc30fa8de0c0')\"\n",
              "            title=\"Convert this dataframe to an interactive table.\"\n",
              "            style=\"display:none;\">\n",
              "\n",
              "  <svg xmlns=\"http://www.w3.org/2000/svg\" height=\"24px\" viewBox=\"0 -960 960 960\">\n",
              "    <path d=\"M120-120v-720h720v720H120Zm60-500h600v-160H180v160Zm220 220h160v-160H400v160Zm0 220h160v-160H400v160ZM180-400h160v-160H180v160Zm440 0h160v-160H620v160ZM180-180h160v-160H180v160Zm440 0h160v-160H620v160Z\"/>\n",
              "  </svg>\n",
              "    </button>\n",
              "\n",
              "  <style>\n",
              "    .colab-df-container {\n",
              "      display:flex;\n",
              "      gap: 12px;\n",
              "    }\n",
              "\n",
              "    .colab-df-convert {\n",
              "      background-color: #E8F0FE;\n",
              "      border: none;\n",
              "      border-radius: 50%;\n",
              "      cursor: pointer;\n",
              "      display: none;\n",
              "      fill: #1967D2;\n",
              "      height: 32px;\n",
              "      padding: 0 0 0 0;\n",
              "      width: 32px;\n",
              "    }\n",
              "\n",
              "    .colab-df-convert:hover {\n",
              "      background-color: #E2EBFA;\n",
              "      box-shadow: 0px 1px 2px rgba(60, 64, 67, 0.3), 0px 1px 3px 1px rgba(60, 64, 67, 0.15);\n",
              "      fill: #174EA6;\n",
              "    }\n",
              "\n",
              "    .colab-df-buttons div {\n",
              "      margin-bottom: 4px;\n",
              "    }\n",
              "\n",
              "    [theme=dark] .colab-df-convert {\n",
              "      background-color: #3B4455;\n",
              "      fill: #D2E3FC;\n",
              "    }\n",
              "\n",
              "    [theme=dark] .colab-df-convert:hover {\n",
              "      background-color: #434B5C;\n",
              "      box-shadow: 0px 1px 3px 1px rgba(0, 0, 0, 0.15);\n",
              "      filter: drop-shadow(0px 1px 2px rgba(0, 0, 0, 0.3));\n",
              "      fill: #FFFFFF;\n",
              "    }\n",
              "  </style>\n",
              "\n",
              "    <script>\n",
              "      const buttonEl =\n",
              "        document.querySelector('#df-e40c89a1-3352-4c13-8d94-cc30fa8de0c0 button.colab-df-convert');\n",
              "      buttonEl.style.display =\n",
              "        google.colab.kernel.accessAllowed ? 'block' : 'none';\n",
              "\n",
              "      async function convertToInteractive(key) {\n",
              "        const element = document.querySelector('#df-e40c89a1-3352-4c13-8d94-cc30fa8de0c0');\n",
              "        const dataTable =\n",
              "          await google.colab.kernel.invokeFunction('convertToInteractive',\n",
              "                                                    [key], {});\n",
              "        if (!dataTable) return;\n",
              "\n",
              "        const docLinkHtml = 'Like what you see? Visit the ' +\n",
              "          '<a target=\"_blank\" href=https://colab.research.google.com/notebooks/data_table.ipynb>data table notebook</a>'\n",
              "          + ' to learn more about interactive tables.';\n",
              "        element.innerHTML = '';\n",
              "        dataTable['output_type'] = 'display_data';\n",
              "        await google.colab.output.renderOutput(dataTable, element);\n",
              "        const docLink = document.createElement('div');\n",
              "        docLink.innerHTML = docLinkHtml;\n",
              "        element.appendChild(docLink);\n",
              "      }\n",
              "    </script>\n",
              "  </div>\n",
              "\n",
              "\n",
              "<div id=\"df-07e83505-acb6-428a-b56c-1d11511b6a85\">\n",
              "  <button class=\"colab-df-quickchart\" onclick=\"quickchart('df-07e83505-acb6-428a-b56c-1d11511b6a85')\"\n",
              "            title=\"Suggest charts\"\n",
              "            style=\"display:none;\">\n",
              "\n",
              "<svg xmlns=\"http://www.w3.org/2000/svg\" height=\"24px\"viewBox=\"0 0 24 24\"\n",
              "     width=\"24px\">\n",
              "    <g>\n",
              "        <path d=\"M19 3H5c-1.1 0-2 .9-2 2v14c0 1.1.9 2 2 2h14c1.1 0 2-.9 2-2V5c0-1.1-.9-2-2-2zM9 17H7v-7h2v7zm4 0h-2V7h2v10zm4 0h-2v-4h2v4z\"/>\n",
              "    </g>\n",
              "</svg>\n",
              "  </button>\n",
              "\n",
              "<style>\n",
              "  .colab-df-quickchart {\n",
              "      --bg-color: #E8F0FE;\n",
              "      --fill-color: #1967D2;\n",
              "      --hover-bg-color: #E2EBFA;\n",
              "      --hover-fill-color: #174EA6;\n",
              "      --disabled-fill-color: #AAA;\n",
              "      --disabled-bg-color: #DDD;\n",
              "  }\n",
              "\n",
              "  [theme=dark] .colab-df-quickchart {\n",
              "      --bg-color: #3B4455;\n",
              "      --fill-color: #D2E3FC;\n",
              "      --hover-bg-color: #434B5C;\n",
              "      --hover-fill-color: #FFFFFF;\n",
              "      --disabled-bg-color: #3B4455;\n",
              "      --disabled-fill-color: #666;\n",
              "  }\n",
              "\n",
              "  .colab-df-quickchart {\n",
              "    background-color: var(--bg-color);\n",
              "    border: none;\n",
              "    border-radius: 50%;\n",
              "    cursor: pointer;\n",
              "    display: none;\n",
              "    fill: var(--fill-color);\n",
              "    height: 32px;\n",
              "    padding: 0;\n",
              "    width: 32px;\n",
              "  }\n",
              "\n",
              "  .colab-df-quickchart:hover {\n",
              "    background-color: var(--hover-bg-color);\n",
              "    box-shadow: 0 1px 2px rgba(60, 64, 67, 0.3), 0 1px 3px 1px rgba(60, 64, 67, 0.15);\n",
              "    fill: var(--button-hover-fill-color);\n",
              "  }\n",
              "\n",
              "  .colab-df-quickchart-complete:disabled,\n",
              "  .colab-df-quickchart-complete:disabled:hover {\n",
              "    background-color: var(--disabled-bg-color);\n",
              "    fill: var(--disabled-fill-color);\n",
              "    box-shadow: none;\n",
              "  }\n",
              "\n",
              "  .colab-df-spinner {\n",
              "    border: 2px solid var(--fill-color);\n",
              "    border-color: transparent;\n",
              "    border-bottom-color: var(--fill-color);\n",
              "    animation:\n",
              "      spin 1s steps(1) infinite;\n",
              "  }\n",
              "\n",
              "  @keyframes spin {\n",
              "    0% {\n",
              "      border-color: transparent;\n",
              "      border-bottom-color: var(--fill-color);\n",
              "      border-left-color: var(--fill-color);\n",
              "    }\n",
              "    20% {\n",
              "      border-color: transparent;\n",
              "      border-left-color: var(--fill-color);\n",
              "      border-top-color: var(--fill-color);\n",
              "    }\n",
              "    30% {\n",
              "      border-color: transparent;\n",
              "      border-left-color: var(--fill-color);\n",
              "      border-top-color: var(--fill-color);\n",
              "      border-right-color: var(--fill-color);\n",
              "    }\n",
              "    40% {\n",
              "      border-color: transparent;\n",
              "      border-right-color: var(--fill-color);\n",
              "      border-top-color: var(--fill-color);\n",
              "    }\n",
              "    60% {\n",
              "      border-color: transparent;\n",
              "      border-right-color: var(--fill-color);\n",
              "    }\n",
              "    80% {\n",
              "      border-color: transparent;\n",
              "      border-right-color: var(--fill-color);\n",
              "      border-bottom-color: var(--fill-color);\n",
              "    }\n",
              "    90% {\n",
              "      border-color: transparent;\n",
              "      border-bottom-color: var(--fill-color);\n",
              "    }\n",
              "  }\n",
              "</style>\n",
              "\n",
              "  <script>\n",
              "    async function quickchart(key) {\n",
              "      const quickchartButtonEl =\n",
              "        document.querySelector('#' + key + ' button');\n",
              "      quickchartButtonEl.disabled = true;  // To prevent multiple clicks.\n",
              "      quickchartButtonEl.classList.add('colab-df-spinner');\n",
              "      try {\n",
              "        const charts = await google.colab.kernel.invokeFunction(\n",
              "            'suggestCharts', [key], {});\n",
              "      } catch (error) {\n",
              "        console.error('Error during call to suggestCharts:', error);\n",
              "      }\n",
              "      quickchartButtonEl.classList.remove('colab-df-spinner');\n",
              "      quickchartButtonEl.classList.add('colab-df-quickchart-complete');\n",
              "    }\n",
              "    (() => {\n",
              "      let quickchartButtonEl =\n",
              "        document.querySelector('#df-07e83505-acb6-428a-b56c-1d11511b6a85 button');\n",
              "      quickchartButtonEl.style.display =\n",
              "        google.colab.kernel.accessAllowed ? 'block' : 'none';\n",
              "    })();\n",
              "  </script>\n",
              "</div>\n",
              "    </div>\n",
              "  </div>\n"
            ],
            "application/vnd.google.colaboratory.intrinsic+json": {
              "type": "dataframe",
              "summary": "{\n  \"name\": \"df\",\n  \"rows\": 4,\n  \"fields\": [\n    {\n      \"column\": \"UserName\",\n      \"properties\": {\n        \"dtype\": \"number\",\n        \"std\": 12307,\n        \"min\": 12820,\n        \"max\": 40375,\n        \"num_unique_values\": 4,\n        \"samples\": [\n          37118,\n          12820,\n          40375\n        ],\n        \"semantic_type\": \"\",\n        \"description\": \"\"\n      }\n    },\n    {\n      \"column\": \"ScreenName\",\n      \"properties\": {\n        \"dtype\": \"number\",\n        \"std\": 12307,\n        \"min\": 57772,\n        \"max\": 85327,\n        \"num_unique_values\": 4,\n        \"samples\": [\n          82070,\n          57772,\n          85327\n        ],\n        \"semantic_type\": \"\",\n        \"description\": \"\"\n      }\n    },\n    {\n      \"column\": \"Location\",\n      \"properties\": {\n        \"dtype\": \"category\",\n        \"num_unique_values\": 1,\n        \"samples\": [\n          \"United States\"\n        ],\n        \"semantic_type\": \"\",\n        \"description\": \"\"\n      }\n    },\n    {\n      \"column\": \"TweetAt\",\n      \"properties\": {\n        \"dtype\": \"string\",\n        \"num_unique_values\": 4,\n        \"samples\": [\n          \"07-04-2020\"\n        ],\n        \"semantic_type\": \"\",\n        \"description\": \"\"\n      }\n    },\n    {\n      \"column\": \"OriginalTweet\",\n      \"properties\": {\n        \"dtype\": \"string\",\n        \"num_unique_values\": 4,\n        \"samples\": [\n          \"prices eased from a 4 week high as and global equities strengthened on signs of a slowdown in related deaths Here s more \"\n        ],\n        \"semantic_type\": \"\",\n        \"description\": \"\"\n      }\n    },\n    {\n      \"column\": \"Sentiment\",\n      \"properties\": {\n        \"dtype\": \"number\",\n        \"std\": 0,\n        \"min\": 0,\n        \"max\": 1,\n        \"num_unique_values\": 2,\n        \"samples\": [\n          0\n        ],\n        \"semantic_type\": \"\",\n        \"description\": \"\"\n      }\n    }\n  ]\n}"
            }
          },
          "metadata": {},
          "execution_count": 10
        }
      ],
      "source": [
        "# Изучим возможные значения столбца Sentiment.\n",
        "print(df[\"Sentiment\"].unique())\n",
        "\n",
        "# Преобразуем целевую переменную в бинарный вид.\n",
        "df[\"Sentiment\"] = df[\"Sentiment\"].apply(lambda res: 1 if res == \"Extremely Positive\" or res == \"Positive\" else 0)\n",
        "df.sample(4)"
      ]
    },
    {
      "cell_type": "markdown",
      "metadata": {
        "id": "pGq1FxJ-kBo5"
      },
      "source": [
        "Сбалансированы ли классы?"
      ]
    },
    {
      "cell_type": "code",
      "execution_count": 11,
      "metadata": {
        "id": "a7gdNtxckK5V",
        "colab": {
          "base_uri": "https://localhost:8080/"
        },
        "outputId": "d06624d1-0bc4-452a-9597-2019885014ca"
      },
      "outputs": [
        {
          "output_type": "execute_result",
          "data": {
            "text/plain": [
              "Sentiment\n",
              "1    18046\n",
              "0    15398\n",
              "Name: count, dtype: int64"
            ]
          },
          "metadata": {},
          "execution_count": 11
        }
      ],
      "source": [
        "df[\"Sentiment\"].value_counts() # Количество наблюдений."
      ]
    },
    {
      "cell_type": "code",
      "source": [
        "round((df[\"Sentiment\"].value_counts().max() - df[\"Sentiment\"].value_counts().min()) / df[\"Sentiment\"].value_counts().max() * 100) # Считаем искомую разницу в процентах."
      ],
      "metadata": {
        "colab": {
          "base_uri": "https://localhost:8080/"
        },
        "id": "xTWoCBBYEnhh",
        "outputId": "6da3d1b7-2b6d-46c4-b115-0d927f5c013d"
      },
      "execution_count": 12,
      "outputs": [
        {
          "output_type": "execute_result",
          "data": {
            "text/plain": [
              "15"
            ]
          },
          "metadata": {},
          "execution_count": 12
        }
      ]
    },
    {
      "cell_type": "markdown",
      "metadata": {
        "id": "Ng8BCelMkWb0"
      },
      "source": [
        "**Ответ:** Разница в количестве наблюдений - 15% ⇒ классы сбалансированы."
      ]
    },
    {
      "cell_type": "markdown",
      "metadata": {
        "id": "qmSIBSsLk5Zz"
      },
      "source": [
        "Выведете на экран информацию о пропусках в данных. Если пропуски присутствуют заполните их строкой 'Unknown'."
      ]
    },
    {
      "cell_type": "code",
      "source": [
        "print(df.isna().sum()) # В столбце Location присутствуют пропуски, заполним их строкой 'Unknown'.\n",
        "\n",
        "df = df.fillna(\"Unknown\")"
      ],
      "metadata": {
        "colab": {
          "base_uri": "https://localhost:8080/"
        },
        "id": "x_qm56qRIj8N",
        "outputId": "0e4c9d0f-5ce4-4f98-9f0c-16232b3acd49"
      },
      "execution_count": 13,
      "outputs": [
        {
          "output_type": "stream",
          "name": "stdout",
          "text": [
            "UserName            0\n",
            "ScreenName          0\n",
            "Location         7049\n",
            "TweetAt             0\n",
            "OriginalTweet       0\n",
            "Sentiment           0\n",
            "dtype: int64\n"
          ]
        }
      ]
    },
    {
      "cell_type": "markdown",
      "metadata": {
        "id": "1tzt27tfjUpq"
      },
      "source": [
        "Разделите данные на обучающие и тестовые в соотношении 7 : 3 и `random_state=0`"
      ]
    },
    {
      "cell_type": "code",
      "execution_count": 14,
      "metadata": {
        "id": "xSLOA9tIj9Z6"
      },
      "outputs": [],
      "source": [
        "from sklearn.model_selection import train_test_split\n",
        "\n",
        "train, test = train_test_split(df, test_size=0.3, random_state=0)"
      ]
    },
    {
      "cell_type": "markdown",
      "metadata": {
        "id": "J9RrPUsJlL60"
      },
      "source": [
        "## Задание 2 Токенизация (3 балла)"
      ]
    },
    {
      "cell_type": "markdown",
      "metadata": {
        "id": "2Dz_b7Xopc_R"
      },
      "source": [
        "Постройте словарь на основе обучающей выборки и посчитайте количество встреч каждого токена с использованием самой простой токенизации - деления текстов по пробельным символам и приведение токенов в нижний регистр"
      ]
    },
    {
      "cell_type": "code",
      "source": [
        "words = \" \".join(train[\"OriginalTweet\"]).lower().split()\n",
        "dictionary = {}\n",
        "\n",
        "for w in words:\n",
        "  dictionary[w] = dictionary.get(w, 0) + 1"
      ],
      "metadata": {
        "id": "xPJZmkoTULlH"
      },
      "execution_count": 15,
      "outputs": []
    },
    {
      "cell_type": "markdown",
      "metadata": {
        "id": "Pe0h2Jqkpnao"
      },
      "source": [
        "Какой размер словаря получился?"
      ]
    },
    {
      "cell_type": "code",
      "execution_count": 16,
      "metadata": {
        "id": "umyENA7EpokD",
        "colab": {
          "base_uri": "https://localhost:8080/"
        },
        "outputId": "c2fd01c5-0a4e-4796-b7c7-3366fb4b6273"
      },
      "outputs": [
        {
          "output_type": "execute_result",
          "data": {
            "text/plain": [
              "79755"
            ]
          },
          "metadata": {},
          "execution_count": 16
        }
      ],
      "source": [
        "len(dictionary)"
      ]
    },
    {
      "cell_type": "markdown",
      "metadata": {
        "id": "0d2G1Z-Qpqkd"
      },
      "source": [
        "Выведите 10 самых популярных токенов с количеством встреч каждого из них. Объясните, почему именно эти токены в топе"
      ]
    },
    {
      "cell_type": "code",
      "execution_count": 17,
      "metadata": {
        "id": "Impi32a_pssg",
        "colab": {
          "base_uri": "https://localhost:8080/"
        },
        "outputId": "7855e09a-895f-42e4-c074-ac78718d7068"
      },
      "outputs": [
        {
          "output_type": "stream",
          "name": "stdout",
          "text": [
            "the: 26815\n",
            "to: 23373\n",
            "and: 14684\n",
            "of: 13012\n",
            "a: 11737\n",
            "in: 11198\n",
            "for: 8566\n",
            "#coronavirus: 8223\n",
            "is: 7383\n",
            "are: 7050\n"
          ]
        }
      ],
      "source": [
        "# Получаем 10 самых популярных токенов.\n",
        "top10 = sorted(dictionary, key=dictionary.get, reverse=True)[:10]\n",
        "\n",
        "for i in top10:\n",
        "  print(i, \": \", dictionary[i], sep=\"\")"
      ]
    },
    {
      "cell_type": "markdown",
      "metadata": {
        "id": "ZtuJCD0ApuFd"
      },
      "source": [
        "**Ответ:** 9 из 10 самых популярных токенов являются стоп-словами (встречаются практически в любом тексте и играют роль шума), поэтому они часто встречаются. Исключением среди популярных токенов является слово #coronavirus, его популярность обусловлена тем, что все твиты из датасета посвящены тематике коронавируса."
      ]
    },
    {
      "cell_type": "markdown",
      "metadata": {
        "id": "T7DTQDkWsVYp"
      },
      "source": [
        "Удалите стоп-слова из словаря и выведите новый топ-10 токенов (и количество встреч) по популярности.  Что можно сказать  о нем?"
      ]
    },
    {
      "cell_type": "code",
      "source": [
        "import nltk\n",
        "from nltk.corpus import stopwords\n",
        "nltk.download(\"stopwords\", quiet=True)\n",
        "\n",
        "# Удаляем стоп-слова.\n",
        "for word in stopwords.words(\"english\"):\n",
        "  dictionary.pop(word, None)\n",
        "\n",
        "# Получаем 10 самых популярных токенов.\n",
        "top10 = sorted(dictionary, key=dictionary.get, reverse=True)[:10]\n",
        "\n",
        "for i in top10:\n",
        "  print(i, \": \", dictionary[i], sep=\"\")"
      ],
      "metadata": {
        "colab": {
          "base_uri": "https://localhost:8080/"
        },
        "id": "FvK49RT9raKV",
        "outputId": "b151a419-3920-4145-fcd5-b5e6bf64fb14"
      },
      "execution_count": 18,
      "outputs": [
        {
          "output_type": "stream",
          "name": "stdout",
          "text": [
            "#coronavirus: 8223\n",
            "prices: 3891\n",
            "food: 3820\n",
            "grocery: 3469\n",
            "supermarket: 3288\n",
            "people: 3175\n",
            "covid-19: 3173\n",
            "store: 3155\n",
            "#covid19: 2471\n",
            "&amp;: 2314\n"
          ]
        }
      ]
    },
    {
      "cell_type": "markdown",
      "metadata": {
        "id": "LZH0x2Lzs-Dh"
      },
      "source": [
        "**Ответ:**  Новые популярные токены больше относятся к тематике ковида и к тому, что волновало людей в период пандемии. Исключением из этих слов является токен \\&amp; который отвечает за символ амперсанда."
      ]
    },
    {
      "cell_type": "markdown",
      "metadata": {
        "id": "TKSGRyI-uor0"
      },
      "source": [
        "Также выведите 20 самых непопулярных слов (если самых непопулярных слов больше выведите любые 20 из них) Почему эти токены непопулярны, требуется ли как-то дополнительно работать с ними?"
      ]
    },
    {
      "cell_type": "code",
      "execution_count": 19,
      "metadata": {
        "id": "moArbwfvun9t",
        "colab": {
          "base_uri": "https://localhost:8080/"
        },
        "outputId": "b2a57fe6-fd3a-40ef-d699-e9c1b92d2986"
      },
      "outputs": [
        {
          "output_type": "stream",
          "name": "stdout",
          "text": [
            "https://t.co/1m881cwfuv: 1\n",
            "happy..: 1\n",
            "https://t.co/z0intks34x: 1\n",
            "mnuchinãâs: 1\n",
            "brink.: 1\n",
            "https://t.co/jmobv8z0u0: 1\n",
            "university's: 1\n",
            "teaching.): 1\n",
            "@catholicpres: 1\n",
            "@catholicuniv: 1\n",
            "https://t.co/evqby035wf: 1\n",
            "https://t.co/riqrhxxeim: 1\n",
            "@@ballardspahrll: 1\n",
            "#aca: 1\n",
            "easier...take: 1\n",
            "ãânecessaryãâ: 1\n",
            "https://t.co/0fmsmlgepm: 1\n",
            "husted:: 1\n",
            "irishman: 1\n",
            "#happystpatricksday!: 1\n"
          ]
        }
      ],
      "source": [
        "# Получаем 20 самых непопулярных токенов.\n",
        "bottom20 = sorted(dictionary, key=dictionary.get, reverse=False)[:20]\n",
        "\n",
        "for i in bottom20:\n",
        "  print(i, \": \", dictionary[i], sep=\"\")"
      ]
    },
    {
      "cell_type": "markdown",
      "metadata": {
        "id": "uRp3J1gQunlR"
      },
      "source": [
        "**Ответ:** К наименее популярным токенам помимо просто редких в упоминании слов и (или словосочетаний как easier...take) также относятся ссылки, упоминания и хештеги, не относящиеся к теме ковида и слова с символами юникода не из первой половины ascii-таблицы.\n",
        "\n"
      ]
    },
    {
      "cell_type": "markdown",
      "metadata": {
        "id": "wx9LQOSPzvjV"
      },
      "source": [
        "Теперь воспользуемся токенайзером получше - TweetTokenizer из библиотеки nltk. Примените его и посмотрите на топ-10 популярных слов. Чем он отличается от топа, который получался раньше? Почему?"
      ]
    },
    {
      "cell_type": "code",
      "execution_count": 20,
      "metadata": {
        "id": "2G1UkyVxzvFY",
        "colab": {
          "base_uri": "https://localhost:8080/"
        },
        "outputId": "8e6c676c-738e-46ab-d992-394b49b4fdc7"
      },
      "outputs": [
        {
          "output_type": "stream",
          "name": "stdout",
          "text": [
            "the: 26993\n",
            ".: 24108\n",
            "to: 23478\n",
            ",: 17571\n",
            "and: 14825\n",
            "of: 13044\n",
            "a: 11891\n",
            "in: 11348\n",
            "?: 9524\n",
            "#coronavirus: 8808\n"
          ]
        }
      ],
      "source": [
        "from nltk.tokenize import TweetTokenizer\n",
        "\n",
        "tw = TweetTokenizer()\n",
        "words = tw.tokenize(\" \".join(train[\"OriginalTweet\"]).lower())\n",
        "dictionary = {}\n",
        "\n",
        "for w in words:\n",
        "  dictionary[w] = dictionary.get(w, 0) + 1\n",
        "\n",
        "# Получаем 10 самых популярных токенов.\n",
        "top10 = sorted(dictionary, key=dictionary.get, reverse=True)[:10]\n",
        "\n",
        "for i in top10:\n",
        "  print(i, \": \", dictionary[i], sep=\"\")"
      ]
    },
    {
      "cell_type": "markdown",
      "metadata": {
        "id": "50eVUnJN1Zxl"
      },
      "source": [
        "**Ответ:** В топ-10 самых популярных токенов появились знаки препинания, так как TweetTokenizer отделяет знаки препинания в самостоятельные токены."
      ]
    },
    {
      "cell_type": "markdown",
      "metadata": {
        "id": "1gqQgiMs11bs"
      },
      "source": [
        "Удалите из словаря стоп-слова и пунктуацию, посмотрите на новый топ-10 слов с количеством встреч, есть ли теперь в нем что-то не похожее на слова?"
      ]
    },
    {
      "cell_type": "code",
      "execution_count": 21,
      "metadata": {
        "id": "0yHWdFrp0Mup",
        "colab": {
          "base_uri": "https://localhost:8080/"
        },
        "outputId": "1b0d8feb-d308-4dcf-fc57-108ac645e181"
      },
      "outputs": [
        {
          "output_type": "stream",
          "name": "stdout",
          "text": [
            "#coronavirus: 8808\n",
            "â: 7415\n",
            ": 7311\n",
            "19: 7167\n",
            "covid: 6253\n",
            "prices: 4601\n",
            ": 4372\n",
            "food: 4367\n",
            "store: 3877\n",
            "supermarket: 3805\n"
          ]
        }
      ],
      "source": [
        "from string import punctuation\n",
        "\n",
        "# Определяем шум (токены для удаления из словаря).\n",
        "noise = stopwords.words(\"english\") + list(punctuation)\n",
        "\n",
        "# Удаляем стоп-слова и пунктуацию.\n",
        "for word in noise:\n",
        "  dictionary.pop(word, None)\n",
        "\n",
        "# Получаем 10 самых популярных  токенов.\n",
        "top10 = sorted(dictionary, key=dictionary.get, reverse=True)[:10]\n",
        "\n",
        "for i in top10:\n",
        "  print(i, \": \", dictionary[i], sep=\"\")"
      ]
    },
    {
      "cell_type": "markdown",
      "metadata": {
        "id": "8ZJqXELP_Yxy"
      },
      "source": [
        "**Ответ:** В токенах помимо привычных слов и тега есть односимвольные токены из символов юникода не из первой половины ascii-таблицы."
      ]
    },
    {
      "cell_type": "markdown",
      "metadata": {
        "id": "rzXjMsSB_kXB"
      },
      "source": [
        "Удалите из словаря токены из одного символа, с позицией в таблице Unicode 128 и более (`ord(x) >= 128`)\n",
        "\n",
        "Выведите топ-10 самых популярных и топ-20 непопулярных слов. Чем полученные топы отличаются от итоговых топов, полученных при использовании токенизации по пробелам? Что теперь лучше, а что хуже?"
      ]
    },
    {
      "cell_type": "code",
      "execution_count": 22,
      "metadata": {
        "id": "1695hlkS_1-J"
      },
      "outputs": [],
      "source": [
        "# Удаляем из словаря токены из одного символа, с позицией в таблице Unicode 128 и более.\n",
        "keys = dictionary.copy().keys()\n",
        "for key in keys:\n",
        "  if (len(key) == 1 and ord(key[0]) >= 128):\n",
        "    dictionary.pop(key, None)"
      ]
    },
    {
      "cell_type": "code",
      "source": [
        "# Получаем 10 самых популярных токенов.\n",
        "top10 = sorted(dictionary, key=dictionary.get, reverse=True)[:10]\n",
        "\n",
        "for i in top10:\n",
        "  print(i, \": \", dictionary[i], sep=\"\")"
      ],
      "metadata": {
        "colab": {
          "base_uri": "https://localhost:8080/"
        },
        "id": "KkVbzvexpemK",
        "outputId": "4a9f7345-a92a-4bfe-fced-687450577316"
      },
      "execution_count": 23,
      "outputs": [
        {
          "output_type": "stream",
          "name": "stdout",
          "text": [
            "#coronavirus: 8808\n",
            "19: 7167\n",
            "covid: 6253\n",
            "prices: 4601\n",
            "food: 4367\n",
            "store: 3877\n",
            "supermarket: 3805\n",
            "grocery: 3523\n",
            "people: 3463\n",
            "#covid19: 2589\n"
          ]
        }
      ]
    },
    {
      "cell_type": "code",
      "source": [
        "# Получаем 20 самых непопулярных токенов.\n",
        "bottom20 = sorted(dictionary, key=dictionary.get, reverse=False)[:20]\n",
        "\n",
        "for i in bottom20:\n",
        "  print(i, \": \", dictionary[i], sep=\"\")"
      ],
      "metadata": {
        "colab": {
          "base_uri": "https://localhost:8080/"
        },
        "id": "DksY35r2pe1m",
        "outputId": "ef9a7732-ce2b-4a8d-884f-af95753c0d4e"
      },
      "execution_count": 24,
      "outputs": [
        {
          "output_type": "stream",
          "name": "stdout",
          "text": [
            "https://t.co/1m881cwfuv: 1\n",
            "https://t.co/z0intks34x: 1\n",
            "mnuchinã: 1\n",
            "https://t.co/jmobv8z0u0: 1\n",
            "university's: 1\n",
            "@catholicpres: 1\n",
            "@catholicuniv: 1\n",
            "https://t.co/evqby035wf: 1\n",
            "https://t.co/riqrhxxeim: 1\n",
            "@ballardspahrll: 1\n",
            "#aca: 1\n",
            "https://t.co/0fmsmlgepm: 1\n",
            "irishman: 1\n",
            "#happystpatricksday: 1\n",
            "guiness: 1\n",
            "https://t.co/18v0pyhwb7: 1\n",
            "https://t.co/ls0g86i8pu: 1\n",
            "https://t.co/ofvkejff23: 1\n",
            "https://t.co/xoodgd2ulx: 1\n",
            "lifestyles: 1\n"
          ]
        }
      ]
    },
    {
      "cell_type": "markdown",
      "metadata": {
        "id": "KzjHAKIlDvc6"
      },
      "source": [
        "**Ответ:** Что касается наиболее популярных токенов, то оба способа токенизации показывают хороший результат за исключением того, что TweetTokenizer разделил слово covid-19 по дефису на несколько токенов из-за чего теряется его смысл и говорит о лучшей работе первого способа токенизации. Структура наименее популярных токенов у обоих способов токенизации также схожа: ссылки, упоминания и теги, но из второго было произведено разделение по пункутации, что является его плюсом перед токенизацией по пробелу."
      ]
    },
    {
      "cell_type": "markdown",
      "metadata": {
        "id": "EcDf9_6HB2zm"
      },
      "source": [
        "Выведите топ-10 популярных хештегов с количеством встреч. Что можно сказать о них?"
      ]
    },
    {
      "cell_type": "code",
      "execution_count": 25,
      "metadata": {
        "id": "zk4fygCUBw3l",
        "colab": {
          "base_uri": "https://localhost:8080/"
        },
        "outputId": "ae8da386-10cc-422d-a2a7-abdbc30d83a0"
      },
      "outputs": [
        {
          "output_type": "stream",
          "name": "stdout",
          "text": [
            "#coronavirus: 8808\n",
            "#covid19: 2589\n",
            "#covid_19: 1734\n",
            "#covid2019: 946\n",
            "#toiletpaper: 744\n",
            "#covid: 641\n",
            "#socialdistancing: 465\n",
            "#coronacrisis: 448\n",
            "#pandemic: 257\n",
            "#coronaviruspandemic: 249\n"
          ]
        }
      ],
      "source": [
        "# Берем все хештеги из словаря.\n",
        "dict_hashtags = {}\n",
        "for key in dictionary.keys():\n",
        "  if (\"#\" in key):\n",
        "    dict_hashtags[key] = dictionary[key]\n",
        "\n",
        "# Получаем 10 самых популярных хештегов.\n",
        "top10 = sorted(dict_hashtags, key=dictionary.get, reverse=True)[:10]\n",
        "\n",
        "for i in top10:\n",
        "  print(i, \": \", dictionary[i], sep=\"\")"
      ]
    },
    {
      "cell_type": "markdown",
      "metadata": {
        "id": "-6NeNWBkDxM7"
      },
      "source": [
        "**Ответ:** Самые популярные хештеги напрямую относятся к тематике коронавируса."
      ]
    },
    {
      "cell_type": "markdown",
      "metadata": {
        "id": "LLYBg7caD5GA"
      },
      "source": [
        "То же самое проделайте для ссылок на сайт https://t.co Сравнима ли популярность ссылок с популярностью хештегов? Будет ли информация о ссылке на конкретную страницу полезна?"
      ]
    },
    {
      "cell_type": "code",
      "execution_count": 26,
      "metadata": {
        "id": "MXbm1oeaCK9S",
        "colab": {
          "base_uri": "https://localhost:8080/"
        },
        "outputId": "15a95eba-f4b4-42e0-bd11-b55052337e7c"
      },
      "outputs": [
        {
          "output_type": "stream",
          "name": "stdout",
          "text": [
            "https://t.co/oxa7swtond: 5\n",
            "https://t.co/gp3eusapl8: 4\n",
            "https://t.co/deftrui1pfãâ: 3\n",
            "https://t.co/wrlhyzizaa: 3\n",
            "https://t.co/kuwipf1kqw: 3\n",
            "https://t.co/zjnrx6dkkn: 3\n",
            "https://t.co/3gbbdpdjat: 3\n",
            "https://t.co/e2znxajpre: 3\n",
            "https://t.co/catkegayoy: 3\n",
            "https://t.co/g63rp042ho: 3\n"
          ]
        }
      ],
      "source": [
        "# Берем все ссылки из словаря.\n",
        "dict_links = {}\n",
        "for key in dictionary.keys():\n",
        "  if (\"https://t.co\" in key):\n",
        "    dict_links[key] = dictionary[key]\n",
        "\n",
        "# Получаем 10 самых популярных ссылок.\n",
        "top10 = sorted(dict_links, key=dictionary.get, reverse=True)[:10]\n",
        "\n",
        "for i in top10:\n",
        "  print(i, \": \", dictionary[i], sep=\"\")"
      ]
    },
    {
      "cell_type": "markdown",
      "metadata": {
        "id": "at6lRYZ8A07N"
      },
      "source": [
        "**Ответ:** # Ссылки гораздо менее популярны чем хештеги (популярность хештегов измеряется сотнями, а ссылок - единицами). Из этого можно сделать вывод, что токены, которые содержат ссылки, не имеют большого веса при принятии решения."
      ]
    },
    {
      "cell_type": "markdown",
      "metadata": {
        "id": "IOGdUU1kBU1D"
      },
      "source": [
        "Используем опыт предыдущих экспериментов и напишем собственный токенайзер, улучшив TweetTokenizer. Функция tokenize должна:\n",
        "\n",
        "\n",
        "\n",
        "*   Привести текст в нижний регистр\n",
        "*   Применить TweetTokenizer для изначального выделения токенов\n",
        "*   Удалить стоп-слова, пунктуацию, токены из одного символа, с позицией в таблице Unicode 128 и более и ссылки на t.co\n",
        "\n"
      ]
    },
    {
      "cell_type": "code",
      "source": [
        "def custom_tokenizer(text):\n",
        "  tw = TweetTokenizer()\n",
        "  words = tw.tokenize(text.lower())\n",
        "  tokens = []\n",
        "\n",
        "  # Определяем шум.\n",
        "  noise = stopwords.words(\"english\") + list(punctuation)\n",
        "\n",
        "  # Удаляем шум, токены из одного символа, с позицией в таблице Unicode 128 и более и ссылки.\n",
        "  for word in words:\n",
        "    if (not ((len(word) == 1 and ord(word[0]) >= 128) or (\"https://t.co\" in word and word[0:12] == \"https://t.co\") or word in noise)):\n",
        "      tokens.append(word)\n",
        "\n",
        "  return tokens"
      ],
      "metadata": {
        "id": "g4olq5kZyT-0"
      },
      "execution_count": 27,
      "outputs": []
    },
    {
      "cell_type": "code",
      "execution_count": 28,
      "metadata": {
        "colab": {
          "base_uri": "https://localhost:8080/"
        },
        "id": "XwbgtYkJGYym",
        "outputId": "aa675087-5c02-46aa-cd89-78c259f60b70"
      },
      "outputs": [
        {
          "output_type": "execute_result",
          "data": {
            "text/plain": [
              "['sample', 'text', '@sample_text', '#sampletext']"
            ]
          },
          "metadata": {},
          "execution_count": 28
        }
      ],
      "source": [
        "custom_tokenizer('This is sample text!!!! @Sample_text I, \\x92\\x92 https://t.co/sample  #sampletext')"
      ]
    },
    {
      "cell_type": "markdown",
      "metadata": {
        "id": "wURVABmXHk97"
      },
      "source": [
        "## Задание 3 Векторизация текстов (2 балла)"
      ]
    },
    {
      "cell_type": "markdown",
      "metadata": {
        "id": "H44iXkoHIQfN"
      },
      "source": [
        "Обучите CountVectorizer с использованием custom_tokenizer в качестве токенайзера. Как размер полученного словаря соотносится с размером изначального словаря из начала задания 2?"
      ]
    },
    {
      "cell_type": "code",
      "source": [
        "from sklearn.feature_extraction.text import CountVectorizer\n",
        "\n",
        "cv = CountVectorizer(tokenizer=custom_tokenizer)\n",
        "\n",
        "X = cv.fit_transform(train[\"OriginalTweet\"])\n",
        "\n",
        "print(len(cv.vocabulary_))"
      ],
      "metadata": {
        "colab": {
          "base_uri": "https://localhost:8080/"
        },
        "id": "gHn_limQl3BI",
        "outputId": "9a5e87ec-8a4a-483d-ecda-e1911a2f2439"
      },
      "execution_count": 29,
      "outputs": [
        {
          "output_type": "stream",
          "name": "stderr",
          "text": [
            "/usr/local/lib/python3.10/dist-packages/sklearn/feature_extraction/text.py:528: UserWarning: The parameter 'token_pattern' will not be used since 'tokenizer' is not None'\n",
            "  warnings.warn(\n"
          ]
        },
        {
          "output_type": "stream",
          "name": "stdout",
          "text": [
            "45308\n"
          ]
        }
      ]
    },
    {
      "cell_type": "markdown",
      "metadata": {
        "id": "gsfmaSGoItUm"
      },
      "source": [
        "**Ответ:** Размер словаря уменьшился почти в два раза (very ultra nice!)."
      ]
    },
    {
      "cell_type": "markdown",
      "metadata": {
        "id": "lm6UHNmqKZT0"
      },
      "source": [
        "Посмотрим на какой-нибудь конкретный твитт:"
      ]
    },
    {
      "cell_type": "code",
      "execution_count": 30,
      "metadata": {
        "id": "aJVjjfqOJh8m",
        "colab": {
          "base_uri": "https://localhost:8080/"
        },
        "outputId": "b1a06119-f845-400c-8c0b-02efa849066f"
      },
      "outputs": [
        {
          "output_type": "execute_result",
          "data": {
            "text/plain": [
              "('Nice one @SkyNews lets not panic but show ppl in france queueing for food!!! #CoronavirusOutbreak #COVID2019 brainless!! Ffs',\n",
              " 0)"
            ]
          },
          "metadata": {},
          "execution_count": 30
        }
      ],
      "source": [
        "ind = 9023\n",
        "train.iloc[ind]['OriginalTweet'], train.iloc[ind]['Sentiment']"
      ]
    },
    {
      "cell_type": "markdown",
      "metadata": {
        "id": "PBMIHBI5KdaS"
      },
      "source": [
        "Автор твитта не доволен ситуацией с едой во Франции и текст имеет резко негативную окраску.\n",
        "\n",
        "Примените обученный CountVectorizer для векторизации данного текста, и попытайтесь определить самый важный токен и самый неважный токен (токен, компонента которого в векторе максимальна/минимальна, без учета 0). Хорошо ли они определились, почему?"
      ]
    },
    {
      "cell_type": "code",
      "execution_count": 31,
      "metadata": {
        "id": "7NcAllaEKsJj",
        "colab": {
          "base_uri": "https://localhost:8080/"
        },
        "outputId": "f7b4e229-d093-4503-b799-52b1ad6f2c89"
      },
      "outputs": [
        {
          "output_type": "stream",
          "name": "stdout",
          "text": [
            "#coronavirusoutbreak\n",
            "#coronavirusoutbreak\n"
          ]
        }
      ],
      "source": [
        "# Определяем самый важный и самый неважный токены.\n",
        "tmp = list(enumerate(X[ind].toarray()[0]))\n",
        "max_value = cv.get_feature_names_out()[max(tmp, key = lambda x: x[1])[0]]\n",
        "min_value = cv.get_feature_names_out()[min(filter(lambda x: tmp[x[0]][1] != 0, tmp), key = lambda x: x[1])[0]]\n",
        "\n",
        "print(max_value)\n",
        "print(min_value)"
      ]
    },
    {
      "cell_type": "markdown",
      "metadata": {
        "id": "TpEsl1k_NF4T"
      },
      "source": [
        "**Ответ:** При использовании CountVectorizer плохо определились самый важный и самый неважный токены, так как он считает встречаемость только в конкретном твитте."
      ]
    },
    {
      "cell_type": "markdown",
      "metadata": {
        "id": "w4DsEQpLO3J6"
      },
      "source": [
        "Теперь примените TfidfVectorizer и  определите самый важный/неважный токены. Хорошо ли определились, почему?"
      ]
    },
    {
      "cell_type": "code",
      "execution_count": 32,
      "metadata": {
        "id": "uSNzdK3ENGB3",
        "colab": {
          "base_uri": "https://localhost:8080/"
        },
        "outputId": "b2d76aac-2d9a-402a-b2d2-3be9b1cedaa0"
      },
      "outputs": [
        {
          "output_type": "stream",
          "name": "stdout",
          "text": [
            "brainless\n",
            "food\n"
          ]
        }
      ],
      "source": [
        "from sklearn.feature_extraction.text import TfidfVectorizer\n",
        "\n",
        "# Применим TfidfVectorizer.\n",
        "tfidf_vec = TfidfVectorizer(tokenizer=custom_tokenizer)\n",
        "\n",
        "X = tfidf_vec.fit_transform(train[\"OriginalTweet\"])\n",
        "\n",
        "# Определяем самый важный и самый неважный токены.\n",
        "tmp = list(enumerate(X[ind].toarray()[0]))\n",
        "max_value = tfidf_vec.get_feature_names_out()[max(tmp, key = lambda x: x[1])[0]]\n",
        "min_value = tfidf_vec.get_feature_names_out()[min(filter(lambda x: tmp[x[0]][1] != 0, tmp), key = lambda x: x[1])[0]]\n",
        "\n",
        "print(max_value)\n",
        "print(min_value)"
      ]
    },
    {
      "cell_type": "markdown",
      "metadata": {
        "id": "NYao_UhqQADm"
      },
      "source": [
        "**Ответ:** При использовании TfidfVectorizer получен более осмысленный результат для самого важного и самого неважного токенов, так как он считает важность конкретного слова для данного твитта (слово brainless имеет негативный смысловой оттенок, его выбор в качестве самого важного токена оправдано)."
      ]
    },
    {
      "cell_type": "markdown",
      "metadata": {
        "id": "LGRJPqfWSesQ"
      },
      "source": [
        "Найдите какой-нибудь положительно окрашенный твитт, где TfidfVectorizer хорошо (полезно для определения окраски) выделяет важный токен, поясните пример.\n",
        "\n",
        "*Подсказка:* явно положительные твитты можно искать при помощи положительных слов (good, great, amazing и т. д.)"
      ]
    },
    {
      "cell_type": "code",
      "execution_count": 33,
      "metadata": {
        "id": "bRbQ2CHiSuJI",
        "colab": {
          "base_uri": "https://localhost:8080/",
          "height": 771
        },
        "outputId": "8ec87440-c5cb-4031-ea8f-7e3233e2dbbc"
      },
      "outputs": [
        {
          "output_type": "execute_result",
          "data": {
            "text/plain": [
              "       UserName  ScreenName                       Location     TweetAt  \\\n",
              "663        4588       49540                            954  17-03-2020   \n",
              "27905     38011       82963            Bafoussam, Cameroon  08-04-2020   \n",
              "1640       5793       50745                         Global  17-03-2020   \n",
              "28104     38260       83212                        Unknown  08-04-2020   \n",
              "30507     41316       86268                 Campbell River  10-04-2020   \n",
              "4139       8832       53784                        Unknown  18-03-2020   \n",
              "17274     24818       69770                        Unknown  25-03-2020   \n",
              "16392     23760       68712                New Orleans, LA  24-03-2020   \n",
              "12783     19296       64248                 Essen, Germany  22-03-2020   \n",
              "10890     17009       61961      Wellington, FL, US, 33414  21-03-2020   \n",
              "23908     33022       77974                    New Zealand  05-04-2020   \n",
              "7490      12892       57844                     Dayton, OH  20-03-2020   \n",
              "4111       8799       53751                          Texas  18-03-2020   \n",
              "13129     19727       64679        Kawasaki City, Kanagawa  22-03-2020   \n",
              "6291      11432       56384                        Unknown  19-03-2020   \n",
              "28215     38401       83353                           Why?  08-04-2020   \n",
              "27666     37717       82669                     Elkton, MD  08-04-2020   \n",
              "13569     20265       65217        England, United Kingdom  22-03-2020   \n",
              "25767     35364       80316  Global As Needed(Atlanta, GA)  07-04-2020   \n",
              "31280     42277       87229             Kitchener, Ontario  11-04-2020   \n",
              "12675     19165       64117                     Austin, TX  22-03-2020   \n",
              "28080     38233       83185                 Washington, DC  08-04-2020   \n",
              "20192     28419       73371                        ???????  27-03-2020   \n",
              "\n",
              "                                           OriginalTweet  Sentiment  \n",
              "663    @HaileeSteinfeld IÃÂm good. Trying to keep m...          1  \n",
              "27905  Get creative while in confinement This week we...          1  \n",
              "1640   A pianist in Barcelona went to his balcony dur...          1  \n",
              "28104  One of the top priorities Trump had when consi...          1  \n",
              "30507  Let's be honest: #SocialDistancing sucks. Maki...          1  \n",
              "4139   @BoyersFood #COVID19 #WeAreInThisTogether \\r\\r...          1  \n",
              "17274  IF you can even FIND hand sanitizer the prices...          1  \n",
              "16392  Earlier this month, we completed Five Below in...          1  \n",
              "12783  its corona time Merch OUT NOW World wide shipp...          1  \n",
              "10890  Happy Saturday everyone!! We thought we'd ligh...          1  \n",
              "23908  This is awesome! #supermarket #COVID19 #corona...          1  \n",
              "7490   ThatÃÂs such an awesome idea! Through the #c...          1  \n",
              "4111   This couple is pretty awesome. CanÃÂt say en...          1  \n",
              "13129  Reposting @awesomealexis1: \\r\\r\\n...\\r\\r\\n\"The...          1  \n",
              "6291   $DRVD awesome news here. Mainstream food deliv...          1  \n",
              "28215  I see a lot of people wearing masks into the g...          1  \n",
              "27666  Thank you Thank you Thank you to Port House Gr...          1  \n",
              "13569  @BorisJohnson @Conservatives canÃÂt get hold...          1  \n",
              "25767  So awesome to see how big business is coming t...          1  \n",
              "31280  Has anyone in #kwawesome seen hand sanitizer o...          1  \n",
              "12675  Just back from @ZilkerBeer who are making hand...          1  \n",
              "28080  Want to know the intersection between COVID-19...          1  \n",
              "20192  Some awesome member of the public put this sig...          1  "
            ],
            "text/html": [
              "\n",
              "  <div id=\"df-1f46bde3-ffbd-493c-a4e6-c1a1d3ac16df\" class=\"colab-df-container\">\n",
              "    <div>\n",
              "<style scoped>\n",
              "    .dataframe tbody tr th:only-of-type {\n",
              "        vertical-align: middle;\n",
              "    }\n",
              "\n",
              "    .dataframe tbody tr th {\n",
              "        vertical-align: top;\n",
              "    }\n",
              "\n",
              "    .dataframe thead th {\n",
              "        text-align: right;\n",
              "    }\n",
              "</style>\n",
              "<table border=\"1\" class=\"dataframe\">\n",
              "  <thead>\n",
              "    <tr style=\"text-align: right;\">\n",
              "      <th></th>\n",
              "      <th>UserName</th>\n",
              "      <th>ScreenName</th>\n",
              "      <th>Location</th>\n",
              "      <th>TweetAt</th>\n",
              "      <th>OriginalTweet</th>\n",
              "      <th>Sentiment</th>\n",
              "    </tr>\n",
              "  </thead>\n",
              "  <tbody>\n",
              "    <tr>\n",
              "      <th>663</th>\n",
              "      <td>4588</td>\n",
              "      <td>49540</td>\n",
              "      <td>954</td>\n",
              "      <td>17-03-2020</td>\n",
              "      <td>@HaileeSteinfeld IÃÂm good. Trying to keep m...</td>\n",
              "      <td>1</td>\n",
              "    </tr>\n",
              "    <tr>\n",
              "      <th>27905</th>\n",
              "      <td>38011</td>\n",
              "      <td>82963</td>\n",
              "      <td>Bafoussam, Cameroon</td>\n",
              "      <td>08-04-2020</td>\n",
              "      <td>Get creative while in confinement This week we...</td>\n",
              "      <td>1</td>\n",
              "    </tr>\n",
              "    <tr>\n",
              "      <th>1640</th>\n",
              "      <td>5793</td>\n",
              "      <td>50745</td>\n",
              "      <td>Global</td>\n",
              "      <td>17-03-2020</td>\n",
              "      <td>A pianist in Barcelona went to his balcony dur...</td>\n",
              "      <td>1</td>\n",
              "    </tr>\n",
              "    <tr>\n",
              "      <th>28104</th>\n",
              "      <td>38260</td>\n",
              "      <td>83212</td>\n",
              "      <td>Unknown</td>\n",
              "      <td>08-04-2020</td>\n",
              "      <td>One of the top priorities Trump had when consi...</td>\n",
              "      <td>1</td>\n",
              "    </tr>\n",
              "    <tr>\n",
              "      <th>30507</th>\n",
              "      <td>41316</td>\n",
              "      <td>86268</td>\n",
              "      <td>Campbell River</td>\n",
              "      <td>10-04-2020</td>\n",
              "      <td>Let's be honest: #SocialDistancing sucks. Maki...</td>\n",
              "      <td>1</td>\n",
              "    </tr>\n",
              "    <tr>\n",
              "      <th>4139</th>\n",
              "      <td>8832</td>\n",
              "      <td>53784</td>\n",
              "      <td>Unknown</td>\n",
              "      <td>18-03-2020</td>\n",
              "      <td>@BoyersFood #COVID19 #WeAreInThisTogether \\r\\r...</td>\n",
              "      <td>1</td>\n",
              "    </tr>\n",
              "    <tr>\n",
              "      <th>17274</th>\n",
              "      <td>24818</td>\n",
              "      <td>69770</td>\n",
              "      <td>Unknown</td>\n",
              "      <td>25-03-2020</td>\n",
              "      <td>IF you can even FIND hand sanitizer the prices...</td>\n",
              "      <td>1</td>\n",
              "    </tr>\n",
              "    <tr>\n",
              "      <th>16392</th>\n",
              "      <td>23760</td>\n",
              "      <td>68712</td>\n",
              "      <td>New Orleans, LA</td>\n",
              "      <td>24-03-2020</td>\n",
              "      <td>Earlier this month, we completed Five Below in...</td>\n",
              "      <td>1</td>\n",
              "    </tr>\n",
              "    <tr>\n",
              "      <th>12783</th>\n",
              "      <td>19296</td>\n",
              "      <td>64248</td>\n",
              "      <td>Essen, Germany</td>\n",
              "      <td>22-03-2020</td>\n",
              "      <td>its corona time Merch OUT NOW World wide shipp...</td>\n",
              "      <td>1</td>\n",
              "    </tr>\n",
              "    <tr>\n",
              "      <th>10890</th>\n",
              "      <td>17009</td>\n",
              "      <td>61961</td>\n",
              "      <td>Wellington, FL, US, 33414</td>\n",
              "      <td>21-03-2020</td>\n",
              "      <td>Happy Saturday everyone!! We thought we'd ligh...</td>\n",
              "      <td>1</td>\n",
              "    </tr>\n",
              "    <tr>\n",
              "      <th>23908</th>\n",
              "      <td>33022</td>\n",
              "      <td>77974</td>\n",
              "      <td>New Zealand</td>\n",
              "      <td>05-04-2020</td>\n",
              "      <td>This is awesome! #supermarket #COVID19 #corona...</td>\n",
              "      <td>1</td>\n",
              "    </tr>\n",
              "    <tr>\n",
              "      <th>7490</th>\n",
              "      <td>12892</td>\n",
              "      <td>57844</td>\n",
              "      <td>Dayton, OH</td>\n",
              "      <td>20-03-2020</td>\n",
              "      <td>ThatÃÂs such an awesome idea! Through the #c...</td>\n",
              "      <td>1</td>\n",
              "    </tr>\n",
              "    <tr>\n",
              "      <th>4111</th>\n",
              "      <td>8799</td>\n",
              "      <td>53751</td>\n",
              "      <td>Texas</td>\n",
              "      <td>18-03-2020</td>\n",
              "      <td>This couple is pretty awesome. CanÃÂt say en...</td>\n",
              "      <td>1</td>\n",
              "    </tr>\n",
              "    <tr>\n",
              "      <th>13129</th>\n",
              "      <td>19727</td>\n",
              "      <td>64679</td>\n",
              "      <td>Kawasaki City, Kanagawa</td>\n",
              "      <td>22-03-2020</td>\n",
              "      <td>Reposting @awesomealexis1: \\r\\r\\n...\\r\\r\\n\"The...</td>\n",
              "      <td>1</td>\n",
              "    </tr>\n",
              "    <tr>\n",
              "      <th>6291</th>\n",
              "      <td>11432</td>\n",
              "      <td>56384</td>\n",
              "      <td>Unknown</td>\n",
              "      <td>19-03-2020</td>\n",
              "      <td>$DRVD awesome news here. Mainstream food deliv...</td>\n",
              "      <td>1</td>\n",
              "    </tr>\n",
              "    <tr>\n",
              "      <th>28215</th>\n",
              "      <td>38401</td>\n",
              "      <td>83353</td>\n",
              "      <td>Why?</td>\n",
              "      <td>08-04-2020</td>\n",
              "      <td>I see a lot of people wearing masks into the g...</td>\n",
              "      <td>1</td>\n",
              "    </tr>\n",
              "    <tr>\n",
              "      <th>27666</th>\n",
              "      <td>37717</td>\n",
              "      <td>82669</td>\n",
              "      <td>Elkton, MD</td>\n",
              "      <td>08-04-2020</td>\n",
              "      <td>Thank you Thank you Thank you to Port House Gr...</td>\n",
              "      <td>1</td>\n",
              "    </tr>\n",
              "    <tr>\n",
              "      <th>13569</th>\n",
              "      <td>20265</td>\n",
              "      <td>65217</td>\n",
              "      <td>England, United Kingdom</td>\n",
              "      <td>22-03-2020</td>\n",
              "      <td>@BorisJohnson @Conservatives canÃÂt get hold...</td>\n",
              "      <td>1</td>\n",
              "    </tr>\n",
              "    <tr>\n",
              "      <th>25767</th>\n",
              "      <td>35364</td>\n",
              "      <td>80316</td>\n",
              "      <td>Global As Needed(Atlanta, GA)</td>\n",
              "      <td>07-04-2020</td>\n",
              "      <td>So awesome to see how big business is coming t...</td>\n",
              "      <td>1</td>\n",
              "    </tr>\n",
              "    <tr>\n",
              "      <th>31280</th>\n",
              "      <td>42277</td>\n",
              "      <td>87229</td>\n",
              "      <td>Kitchener, Ontario</td>\n",
              "      <td>11-04-2020</td>\n",
              "      <td>Has anyone in #kwawesome seen hand sanitizer o...</td>\n",
              "      <td>1</td>\n",
              "    </tr>\n",
              "    <tr>\n",
              "      <th>12675</th>\n",
              "      <td>19165</td>\n",
              "      <td>64117</td>\n",
              "      <td>Austin, TX</td>\n",
              "      <td>22-03-2020</td>\n",
              "      <td>Just back from @ZilkerBeer who are making hand...</td>\n",
              "      <td>1</td>\n",
              "    </tr>\n",
              "    <tr>\n",
              "      <th>28080</th>\n",
              "      <td>38233</td>\n",
              "      <td>83185</td>\n",
              "      <td>Washington, DC</td>\n",
              "      <td>08-04-2020</td>\n",
              "      <td>Want to know the intersection between COVID-19...</td>\n",
              "      <td>1</td>\n",
              "    </tr>\n",
              "    <tr>\n",
              "      <th>20192</th>\n",
              "      <td>28419</td>\n",
              "      <td>73371</td>\n",
              "      <td>???????</td>\n",
              "      <td>27-03-2020</td>\n",
              "      <td>Some awesome member of the public put this sig...</td>\n",
              "      <td>1</td>\n",
              "    </tr>\n",
              "  </tbody>\n",
              "</table>\n",
              "</div>\n",
              "    <div class=\"colab-df-buttons\">\n",
              "\n",
              "  <div class=\"colab-df-container\">\n",
              "    <button class=\"colab-df-convert\" onclick=\"convertToInteractive('df-1f46bde3-ffbd-493c-a4e6-c1a1d3ac16df')\"\n",
              "            title=\"Convert this dataframe to an interactive table.\"\n",
              "            style=\"display:none;\">\n",
              "\n",
              "  <svg xmlns=\"http://www.w3.org/2000/svg\" height=\"24px\" viewBox=\"0 -960 960 960\">\n",
              "    <path d=\"M120-120v-720h720v720H120Zm60-500h600v-160H180v160Zm220 220h160v-160H400v160Zm0 220h160v-160H400v160ZM180-400h160v-160H180v160Zm440 0h160v-160H620v160ZM180-180h160v-160H180v160Zm440 0h160v-160H620v160Z\"/>\n",
              "  </svg>\n",
              "    </button>\n",
              "\n",
              "  <style>\n",
              "    .colab-df-container {\n",
              "      display:flex;\n",
              "      gap: 12px;\n",
              "    }\n",
              "\n",
              "    .colab-df-convert {\n",
              "      background-color: #E8F0FE;\n",
              "      border: none;\n",
              "      border-radius: 50%;\n",
              "      cursor: pointer;\n",
              "      display: none;\n",
              "      fill: #1967D2;\n",
              "      height: 32px;\n",
              "      padding: 0 0 0 0;\n",
              "      width: 32px;\n",
              "    }\n",
              "\n",
              "    .colab-df-convert:hover {\n",
              "      background-color: #E2EBFA;\n",
              "      box-shadow: 0px 1px 2px rgba(60, 64, 67, 0.3), 0px 1px 3px 1px rgba(60, 64, 67, 0.15);\n",
              "      fill: #174EA6;\n",
              "    }\n",
              "\n",
              "    .colab-df-buttons div {\n",
              "      margin-bottom: 4px;\n",
              "    }\n",
              "\n",
              "    [theme=dark] .colab-df-convert {\n",
              "      background-color: #3B4455;\n",
              "      fill: #D2E3FC;\n",
              "    }\n",
              "\n",
              "    [theme=dark] .colab-df-convert:hover {\n",
              "      background-color: #434B5C;\n",
              "      box-shadow: 0px 1px 3px 1px rgba(0, 0, 0, 0.15);\n",
              "      filter: drop-shadow(0px 1px 2px rgba(0, 0, 0, 0.3));\n",
              "      fill: #FFFFFF;\n",
              "    }\n",
              "  </style>\n",
              "\n",
              "    <script>\n",
              "      const buttonEl =\n",
              "        document.querySelector('#df-1f46bde3-ffbd-493c-a4e6-c1a1d3ac16df button.colab-df-convert');\n",
              "      buttonEl.style.display =\n",
              "        google.colab.kernel.accessAllowed ? 'block' : 'none';\n",
              "\n",
              "      async function convertToInteractive(key) {\n",
              "        const element = document.querySelector('#df-1f46bde3-ffbd-493c-a4e6-c1a1d3ac16df');\n",
              "        const dataTable =\n",
              "          await google.colab.kernel.invokeFunction('convertToInteractive',\n",
              "                                                    [key], {});\n",
              "        if (!dataTable) return;\n",
              "\n",
              "        const docLinkHtml = 'Like what you see? Visit the ' +\n",
              "          '<a target=\"_blank\" href=https://colab.research.google.com/notebooks/data_table.ipynb>data table notebook</a>'\n",
              "          + ' to learn more about interactive tables.';\n",
              "        element.innerHTML = '';\n",
              "        dataTable['output_type'] = 'display_data';\n",
              "        await google.colab.output.renderOutput(dataTable, element);\n",
              "        const docLink = document.createElement('div');\n",
              "        docLink.innerHTML = docLinkHtml;\n",
              "        element.appendChild(docLink);\n",
              "      }\n",
              "    </script>\n",
              "  </div>\n",
              "\n",
              "\n",
              "<div id=\"df-c64cdb55-2552-4667-906c-85eb0fe486d4\">\n",
              "  <button class=\"colab-df-quickchart\" onclick=\"quickchart('df-c64cdb55-2552-4667-906c-85eb0fe486d4')\"\n",
              "            title=\"Suggest charts\"\n",
              "            style=\"display:none;\">\n",
              "\n",
              "<svg xmlns=\"http://www.w3.org/2000/svg\" height=\"24px\"viewBox=\"0 0 24 24\"\n",
              "     width=\"24px\">\n",
              "    <g>\n",
              "        <path d=\"M19 3H5c-1.1 0-2 .9-2 2v14c0 1.1.9 2 2 2h14c1.1 0 2-.9 2-2V5c0-1.1-.9-2-2-2zM9 17H7v-7h2v7zm4 0h-2V7h2v10zm4 0h-2v-4h2v4z\"/>\n",
              "    </g>\n",
              "</svg>\n",
              "  </button>\n",
              "\n",
              "<style>\n",
              "  .colab-df-quickchart {\n",
              "      --bg-color: #E8F0FE;\n",
              "      --fill-color: #1967D2;\n",
              "      --hover-bg-color: #E2EBFA;\n",
              "      --hover-fill-color: #174EA6;\n",
              "      --disabled-fill-color: #AAA;\n",
              "      --disabled-bg-color: #DDD;\n",
              "  }\n",
              "\n",
              "  [theme=dark] .colab-df-quickchart {\n",
              "      --bg-color: #3B4455;\n",
              "      --fill-color: #D2E3FC;\n",
              "      --hover-bg-color: #434B5C;\n",
              "      --hover-fill-color: #FFFFFF;\n",
              "      --disabled-bg-color: #3B4455;\n",
              "      --disabled-fill-color: #666;\n",
              "  }\n",
              "\n",
              "  .colab-df-quickchart {\n",
              "    background-color: var(--bg-color);\n",
              "    border: none;\n",
              "    border-radius: 50%;\n",
              "    cursor: pointer;\n",
              "    display: none;\n",
              "    fill: var(--fill-color);\n",
              "    height: 32px;\n",
              "    padding: 0;\n",
              "    width: 32px;\n",
              "  }\n",
              "\n",
              "  .colab-df-quickchart:hover {\n",
              "    background-color: var(--hover-bg-color);\n",
              "    box-shadow: 0 1px 2px rgba(60, 64, 67, 0.3), 0 1px 3px 1px rgba(60, 64, 67, 0.15);\n",
              "    fill: var(--button-hover-fill-color);\n",
              "  }\n",
              "\n",
              "  .colab-df-quickchart-complete:disabled,\n",
              "  .colab-df-quickchart-complete:disabled:hover {\n",
              "    background-color: var(--disabled-bg-color);\n",
              "    fill: var(--disabled-fill-color);\n",
              "    box-shadow: none;\n",
              "  }\n",
              "\n",
              "  .colab-df-spinner {\n",
              "    border: 2px solid var(--fill-color);\n",
              "    border-color: transparent;\n",
              "    border-bottom-color: var(--fill-color);\n",
              "    animation:\n",
              "      spin 1s steps(1) infinite;\n",
              "  }\n",
              "\n",
              "  @keyframes spin {\n",
              "    0% {\n",
              "      border-color: transparent;\n",
              "      border-bottom-color: var(--fill-color);\n",
              "      border-left-color: var(--fill-color);\n",
              "    }\n",
              "    20% {\n",
              "      border-color: transparent;\n",
              "      border-left-color: var(--fill-color);\n",
              "      border-top-color: var(--fill-color);\n",
              "    }\n",
              "    30% {\n",
              "      border-color: transparent;\n",
              "      border-left-color: var(--fill-color);\n",
              "      border-top-color: var(--fill-color);\n",
              "      border-right-color: var(--fill-color);\n",
              "    }\n",
              "    40% {\n",
              "      border-color: transparent;\n",
              "      border-right-color: var(--fill-color);\n",
              "      border-top-color: var(--fill-color);\n",
              "    }\n",
              "    60% {\n",
              "      border-color: transparent;\n",
              "      border-right-color: var(--fill-color);\n",
              "    }\n",
              "    80% {\n",
              "      border-color: transparent;\n",
              "      border-right-color: var(--fill-color);\n",
              "      border-bottom-color: var(--fill-color);\n",
              "    }\n",
              "    90% {\n",
              "      border-color: transparent;\n",
              "      border-bottom-color: var(--fill-color);\n",
              "    }\n",
              "  }\n",
              "</style>\n",
              "\n",
              "  <script>\n",
              "    async function quickchart(key) {\n",
              "      const quickchartButtonEl =\n",
              "        document.querySelector('#' + key + ' button');\n",
              "      quickchartButtonEl.disabled = true;  // To prevent multiple clicks.\n",
              "      quickchartButtonEl.classList.add('colab-df-spinner');\n",
              "      try {\n",
              "        const charts = await google.colab.kernel.invokeFunction(\n",
              "            'suggestCharts', [key], {});\n",
              "      } catch (error) {\n",
              "        console.error('Error during call to suggestCharts:', error);\n",
              "      }\n",
              "      quickchartButtonEl.classList.remove('colab-df-spinner');\n",
              "      quickchartButtonEl.classList.add('colab-df-quickchart-complete');\n",
              "    }\n",
              "    (() => {\n",
              "      let quickchartButtonEl =\n",
              "        document.querySelector('#df-c64cdb55-2552-4667-906c-85eb0fe486d4 button');\n",
              "      quickchartButtonEl.style.display =\n",
              "        google.colab.kernel.accessAllowed ? 'block' : 'none';\n",
              "    })();\n",
              "  </script>\n",
              "</div>\n",
              "    </div>\n",
              "  </div>\n"
            ],
            "application/vnd.google.colaboratory.intrinsic+json": {
              "type": "dataframe",
              "repr_error": "0"
            }
          },
          "metadata": {},
          "execution_count": 33
        }
      ],
      "source": [
        "train[train['OriginalTweet'].apply(lambda x: ('awesome' in x)) & (train['Sentiment'] == 1)]"
      ]
    },
    {
      "cell_type": "code",
      "source": [
        "tmp_ind = 25767\n",
        "tweet = train[train.index == tmp_ind]['OriginalTweet']\n",
        "print(tweet.values[0])\n",
        "\n",
        "# Находим индекс результата векторизации данного твитта.\n",
        "tmp = list(enumerate(train.index))\n",
        "ind = list(filter(lambda x: x[1] == tmp_ind, tmp))[0][0]\n",
        "\n",
        "# Определяем самый важный токен.\n",
        "tmp = list(enumerate(X[ind].toarray()[0]))\n",
        "max_value = tfidf_vec.get_feature_names_out()[max(tmp, key = lambda x: x[1])[0]]\n",
        "\n",
        "print(\"\\nImportant token:\")\n",
        "print(max_value)"
      ],
      "metadata": {
        "id": "jSjbKPCWk87K",
        "colab": {
          "base_uri": "https://localhost:8080/"
        },
        "outputId": "d09bb579-814f-42c7-95fe-5e543d019cc5"
      },
      "execution_count": 34,
      "outputs": [
        {
          "output_type": "stream",
          "name": "stdout",
          "text": [
            "So awesome to see how big business is coming together to contribute to the solution to beat #coronavirus #Ikea is making masks and sanitizer to help fight COVID-19 https://t.co/H8JJRnNb4X @IKEAUSA #coronavirus #Masks4All #Masks #MasksSaveLives https://t.co/yzPyfFXvP6\n",
            "\n",
            "Important token:\n",
            "#maskssavelives\n"
          ]
        }
      ]
    },
    {
      "cell_type": "markdown",
      "metadata": {
        "id": "JTv9ST2_U6NA"
      },
      "source": [
        "**Ответ:** В твитте по индексу 25767 пишется о том, что крупные компании объединяются для борьбы с коронавирусом. TfidfVectorizer выделил хештег #maskssavelives как самый важный токен для определения окраса твитта, с чем можно согласиться: этот тег имеет большой вес для данного твита (он не входит в 10 самых популярных тегов из словаря) и несёт положительный смысловой оттенок."
      ]
    },
    {
      "cell_type": "markdown",
      "metadata": {
        "id": "JVEuZm8BHms6"
      },
      "source": [
        "## Задание 4 Обучение первых моделей (1 балл)"
      ]
    },
    {
      "cell_type": "markdown",
      "metadata": {
        "id": "JADkO3sfXdOG"
      },
      "source": [
        "Примените оба векторайзера для получения матриц с признаками текстов.  Выделите целевую переменную."
      ]
    },
    {
      "cell_type": "code",
      "execution_count": 35,
      "metadata": {
        "id": "DguoiXhCX2oN",
        "colab": {
          "base_uri": "https://localhost:8080/"
        },
        "outputId": "1265515d-8aaa-493e-d8bc-01ac9c84bea5"
      },
      "outputs": [
        {
          "output_type": "stream",
          "name": "stderr",
          "text": [
            "/usr/local/lib/python3.10/dist-packages/sklearn/feature_extraction/text.py:528: UserWarning: The parameter 'token_pattern' will not be used since 'tokenizer' is not None'\n",
            "  warnings.warn(\n"
          ]
        }
      ],
      "source": [
        "cnt_vec = CountVectorizer(tokenizer=custom_tokenizer)\n",
        "tfidf_vec = TfidfVectorizer(tokenizer=custom_tokenizer)\n",
        "\n",
        "X_train_cnt_vec = cnt_vec.fit_transform(train[\"OriginalTweet\"])\n",
        "X_train_tfidf_vec = tfidf_vec.fit_transform(train[\"OriginalTweet\"])\n",
        "\n",
        "X_test_cnt_vec = cnt_vec.transform(test[\"OriginalTweet\"])\n",
        "X_test_tfidf_vec = tfidf_vec.transform(test[\"OriginalTweet\"])\n",
        "\n",
        "y_train = train['Sentiment']\n",
        "y_test = test['Sentiment']"
      ]
    },
    {
      "cell_type": "markdown",
      "metadata": {
        "id": "_FX1KSOfYSx4"
      },
      "source": [
        "Обучите логистическую регрессию на векторах из обоих векторайзеров. Посчитайте долю правильных ответов на обучающих и тестовых данных. Какой векторайзер показал лучший результат? Что можно сказать о моделях?"
      ]
    },
    {
      "cell_type": "code",
      "execution_count": 36,
      "metadata": {
        "id": "-Tb3eh8UXJ6v",
        "colab": {
          "base_uri": "https://localhost:8080/"
        },
        "outputId": "4bfd7034-6d60-40e6-e887-b0761d28d4ba"
      },
      "outputs": [
        {
          "output_type": "stream",
          "name": "stdout",
          "text": [
            "Logistic regression, CountVectorizer:\n",
            "Accuracy on train = 0.9844510892780863\n",
            "Accuracy on test = 0.8672513454255532\n",
            "\n",
            "Logistic regression, TfidfVectorizer:\n",
            "Accuracy on train = 0.9254592054677488\n",
            "Accuracy on test = 0.8533984452860275\n"
          ]
        }
      ],
      "source": [
        "from sklearn.linear_model import LogisticRegression\n",
        "from sklearn.metrics import accuracy_score\n",
        "\n",
        "# CountVectorizer.\n",
        "# Обучаем логистическую регрессию.\n",
        "clf_cnt_vec = LogisticRegression(max_iter=200, random_state=42)\n",
        "clf_cnt_vec.fit(X_train_cnt_vec, y_train)\n",
        "\n",
        "# Изучаем accuracy предсказания.\n",
        "print('Logistic regression, CountVectorizer:')\n",
        "print(f'Accuracy on train = {accuracy_score(y_train, clf_cnt_vec.predict(X_train_cnt_vec))}')\n",
        "print(f'Accuracy on test = {accuracy_score(y_test, clf_cnt_vec.predict(X_test_cnt_vec))}')\n",
        "\n",
        "# TfidfVectorizer.\n",
        "# Обучаем логистическую регрессию.\n",
        "clf_tfidf_vec = LogisticRegression(max_iter=200, random_state=42)\n",
        "clf_tfidf_vec.fit(X_train_tfidf_vec, y_train)\n",
        "\n",
        "# Изучаем accuracy предсказания.\n",
        "print('\\nLogistic regression, TfidfVectorizer:')\n",
        "print(f'Accuracy on train = {accuracy_score(y_train, clf_tfidf_vec.predict(X_train_tfidf_vec))}')\n",
        "print(f'Accuracy on test = {accuracy_score(y_test, clf_tfidf_vec.predict(X_test_tfidf_vec))}')"
      ]
    },
    {
      "cell_type": "markdown",
      "metadata": {
        "id": "8y_wO7rCmv7K"
      },
      "source": [
        "**Ответ:** Обе модели выдают примерно одинаковую доль правильных ответов на обучающей и тестовой выборках: accuracy у CountVectorizer на тестовой выборке - 86,7%, что на 1,4% лучше, чем у TfidfVectorizer, а на обучающей - 98,4%, что на 5,9% лучше, чем у TfidfVectorizer. Результаты на тестовых выборках у обеих моделей > 85% ⇒ ultra very nice модели!"
      ]
    },
    {
      "cell_type": "markdown",
      "metadata": {
        "id": "rSOR1i3mjrys"
      },
      "source": [
        "## Задание 5 Стемминг (0.5 балла)"
      ]
    },
    {
      "cell_type": "markdown",
      "metadata": {
        "id": "i6ONBWNPjuq-"
      },
      "source": [
        "Для уменьшения словаря можно использовать стемминг.\n",
        "\n",
        "Модифицируйте написанный токенайзер, добавив в него стемминг с использованием SnowballStemmer. Обучите Count- и Tfidf- векторайзеры. Как изменился размер словаря?"
      ]
    },
    {
      "cell_type": "code",
      "source": [
        "from nltk.stem.snowball import SnowballStemmer\n",
        "\n",
        "def custom_stem_tokenizer(text):\n",
        "  tmp_tokens = custom_tokenizer(text)\n",
        "\n",
        "  stemmer = SnowballStemmer(\"english\")\n",
        "  tokens = [stemmer.stem(w) for w in tmp_tokens]\n",
        "\n",
        "  return tokens"
      ],
      "metadata": {
        "id": "nIF3WYZSZKZi"
      },
      "execution_count": 37,
      "outputs": []
    },
    {
      "cell_type": "code",
      "execution_count": 38,
      "metadata": {
        "colab": {
          "base_uri": "https://localhost:8080/"
        },
        "id": "9QmrjYtqnlPd",
        "outputId": "4570a697-7ff5-4c6a-e4b6-1942043b39dd"
      },
      "outputs": [
        {
          "output_type": "execute_result",
          "data": {
            "text/plain": [
              "['sampl', 'text', '@sample_text', '#sampletext', 'ad', 'word', 'check', 'stem']"
            ]
          },
          "metadata": {},
          "execution_count": 38
        }
      ],
      "source": [
        "custom_stem_tokenizer('This is sample text!!!! @Sample_text I, \\x92\\x92 https://t.co/sample  #sampletext adding more words to check stemming')"
      ]
    },
    {
      "cell_type": "code",
      "execution_count": 39,
      "metadata": {
        "colab": {
          "base_uri": "https://localhost:8080/"
        },
        "id": "zAvUTmaplzOS",
        "outputId": "6e9ca99c-cdea-4623-8f7f-bff6f0ab57c3"
      },
      "outputs": [
        {
          "output_type": "stream",
          "name": "stderr",
          "text": [
            "/usr/local/lib/python3.10/dist-packages/sklearn/feature_extraction/text.py:528: UserWarning: The parameter 'token_pattern' will not be used since 'tokenizer' is not None'\n",
            "  warnings.warn(\n"
          ]
        },
        {
          "output_type": "stream",
          "name": "stdout",
          "text": [
            "36652\n"
          ]
        }
      ],
      "source": [
        "cnt_vec = CountVectorizer(tokenizer=custom_stem_tokenizer)\n",
        "tfidf_vec = TfidfVectorizer(tokenizer=custom_stem_tokenizer)\n",
        "\n",
        "X_train_cnt_vec = cnt_vec.fit_transform(train[\"OriginalTweet\"])\n",
        "X_train_tfidf_vec = tfidf_vec.fit_transform(train[\"OriginalTweet\"])\n",
        "\n",
        "X_test_cnt_vec = cnt_vec.transform(test[\"OriginalTweet\"])\n",
        "X_test_tfidf_vec = tfidf_vec.transform(test[\"OriginalTweet\"])\n",
        "\n",
        "y_train = train['Sentiment']\n",
        "y_test = test['Sentiment']\n",
        "\n",
        "print(len(cnt_vec.vocabulary_))"
      ]
    },
    {
      "cell_type": "markdown",
      "metadata": {
        "id": "Oyzs5TaAoHP6"
      },
      "source": [
        "**Ответ:** Размер словаря уменьшился на 8656 (≈20%), это хороший результат."
      ]
    },
    {
      "cell_type": "markdown",
      "metadata": {
        "id": "1OkncHI8oRmd"
      },
      "source": [
        "Обучите логистическую регрессию с использованием обоих векторайзеров. Изменилось ли качество? Есть ли смысл применять стемминг?"
      ]
    },
    {
      "cell_type": "code",
      "execution_count": 40,
      "metadata": {
        "id": "ykZJPphEoZ5W",
        "colab": {
          "base_uri": "https://localhost:8080/"
        },
        "outputId": "2b7b840a-8569-4d14-9b3d-ec6d2890f407"
      },
      "outputs": [
        {
          "output_type": "stream",
          "name": "stdout",
          "text": [
            "Logistic regression, CountVectorizer:\n",
            "Accuracy on train = 0.9718923536950022\n",
            "Accuracy on test = 0.8672513454255532\n",
            "\n",
            "Logistic regression, TfidfVectorizer:\n",
            "Accuracy on train = 0.9158906450234943\n",
            "Accuracy on test = 0.8560892963922663\n"
          ]
        }
      ],
      "source": [
        "# CountVectorizer.\n",
        "# Обучаем логистическую регрессию.\n",
        "clf_cnt_vec = LogisticRegression(max_iter=200, random_state=42)\n",
        "clf_cnt_vec.fit(X_train_cnt_vec, y_train)\n",
        "\n",
        "# Изучаем accuracy предсказания.\n",
        "print('Logistic regression, CountVectorizer:')\n",
        "print(f'Accuracy on train = {accuracy_score(y_train, clf_cnt_vec.predict(X_train_cnt_vec))}')\n",
        "print(f'Accuracy on test = {accuracy_score(y_test, clf_cnt_vec.predict(X_test_cnt_vec))}')\n",
        "\n",
        "# TfidfVectorizer.\n",
        "# Обучаем логистическую регрессию.\n",
        "clf_tfidf_vec = LogisticRegression(max_iter=200, random_state=42)\n",
        "clf_tfidf_vec.fit(X_train_tfidf_vec, y_train)\n",
        "\n",
        "# Изучаем accuracy предсказания.\n",
        "print('\\nLogistic regression, TfidfVectorizer:')\n",
        "print(f'Accuracy on train = {accuracy_score(y_train, clf_tfidf_vec.predict(X_train_tfidf_vec))}')\n",
        "print(f'Accuracy on test = {accuracy_score(y_test, clf_tfidf_vec.predict(X_test_tfidf_vec))}')"
      ]
    },
    {
      "cell_type": "markdown",
      "metadata": {
        "id": "bCRlrODro0h8"
      },
      "source": [
        "**Ответ:** Обе модели потеряли 1% в доле правильных ответов на обучающей выборке при применении стемминга, но на тестовой выборке accuracy у CountVectorizer не изменился, а у TfidfVectorizer - вырос на 0,3%. Благодаря стеммингу мы уменьшили словарь и не приобрели значительного преимущества в улучшении качества моделей ⇒ применять стемминг не имеет особого смысла."
      ]
    },
    {
      "cell_type": "markdown",
      "metadata": {
        "id": "hYWGQNEDqLC-"
      },
      "source": [
        "## Задание  6 Работа с частотами (1.5 балла)"
      ]
    },
    {
      "cell_type": "markdown",
      "metadata": {
        "id": "8Hq-tl5mqUSn"
      },
      "source": [
        "Еще один способ уменьшить количество признаков - это использовать параметры min_df и max_df при построении векторайзера  эти параметры помогают ограничить требуемую частоту встречаемости токена в документах.\n",
        "\n",
        "По умолчанию берутся все токены, которые встретились хотя бы один раз.\n",
        "\n"
      ]
    },
    {
      "cell_type": "markdown",
      "metadata": {
        "id": "m1SiD4DE3WZ2"
      },
      "source": [
        "Подберите max_df такой, что размер словаря будет 36651 (на 1 меньше, чем было). Почему параметр получился такой большой/маленький?"
      ]
    },
    {
      "cell_type": "code",
      "source": [
        "cv_df = CountVectorizer(tokenizer=custom_stem_tokenizer, max_df=8000).fit(train[\"OriginalTweet\"])\n",
        "print(len(cv_df.vocabulary_))"
      ],
      "metadata": {
        "colab": {
          "base_uri": "https://localhost:8080/"
        },
        "id": "ms_yOGn_gUmP",
        "outputId": "922c4960-bf74-4ab9-86b5-05980afe0798"
      },
      "execution_count": 41,
      "outputs": [
        {
          "output_type": "stream",
          "name": "stderr",
          "text": [
            "/usr/local/lib/python3.10/dist-packages/sklearn/feature_extraction/text.py:528: UserWarning: The parameter 'token_pattern' will not be used since 'tokenizer' is not None'\n",
            "  warnings.warn(\n"
          ]
        },
        {
          "output_type": "stream",
          "name": "stdout",
          "text": [
            "36651\n"
          ]
        }
      ]
    },
    {
      "cell_type": "markdown",
      "metadata": {
        "id": "UdZYoGZR4UsA"
      },
      "source": [
        "**Ответ:** подобранный max_df отсеивает токен, если он присутсвует больше, чем в 8000 текстов из 33444 (≈25%). Такое большое значение параметра обусловлено тем, что по умолчанию берутся все слова, а нам необходимо отсеить ровно одно из них (при меньших значениях параметра мы рискуем отсеить слишком много слов, которые имеют большой вес для отдельных твиттов)."
      ]
    },
    {
      "cell_type": "markdown",
      "metadata": {
        "id": "_gRIUaB1u32f"
      },
      "source": [
        "Подберите min_df (используйте дефолтное значение max_df) в CountVectorizer таким образом, чтобы размер словаря был 3700 токенов (при использовании токенайзера со стеммингом), а качество осталось таким же, как и было. Что можно сказать о результатах?"
      ]
    },
    {
      "cell_type": "code",
      "source": [
        "cv_df = CountVectorizer(tokenizer=custom_stem_tokenizer, min_df=11).fit(train[\"OriginalTweet\"])\n",
        "print(len(cv_df.vocabulary_))"
      ],
      "metadata": {
        "colab": {
          "base_uri": "https://localhost:8080/"
        },
        "id": "n94T-N9lgWv6",
        "outputId": "07d4ac71-39ac-4243-8fd8-d67655cd7deb"
      },
      "execution_count": 42,
      "outputs": [
        {
          "output_type": "stream",
          "name": "stdout",
          "text": [
            "3700\n"
          ]
        }
      ]
    },
    {
      "cell_type": "markdown",
      "metadata": {
        "id": "3fGYpUIZx0fk"
      },
      "source": [
        "**Ответ:** подобранный min_df отсеивает токен, если он присутсвует меньше, чем в 11 текстах из 33444 (≈0,0003%). Такое маленькое значение параметра обусловлено тем, что при его даже небольшом увеличении мы исключаем много слов, которые имеют большой вес для отдельных твиттов."
      ]
    },
    {
      "cell_type": "markdown",
      "source": [
        "В предыдущих заданиях признаки не скалировались. Отскалируйте данные (при словаре размера 3.7 тысяч, векторизованные CountVectorizer), обучите логистическую регрессию, посмотрите качество и выведите `berplot` содержащий по 10 токенов, с наибольшим по модулю положительными/отрицательными весами. Что можно сказать об этих токенах?"
      ],
      "metadata": {
        "id": "Gx_h_-inKbBl"
      }
    },
    {
      "cell_type": "code",
      "source": [
        "from sklearn.preprocessing import StandardScaler\n",
        "\n",
        "y_train = train['Sentiment']\n",
        "y_test = test['Sentiment']\n",
        "\n",
        "cnt_vec_df = CountVectorizer(tokenizer=custom_stem_tokenizer, min_df=11)\n",
        "\n",
        "X_train_cnt_vec_df = cnt_vec_df.fit_transform(train[\"OriginalTweet\"])\n",
        "X_test_cnt_vec_df = cnt_vec_df.transform(test[\"OriginalTweet\"])\n",
        "\n",
        "# Скалируем данные.\n",
        "scaler = StandardScaler(with_mean=False)\n",
        "X_train_cnt_vec_df = scaler.fit_transform(X_train_cnt_vec_df)\n",
        "X_test_cnt_vec_df = scaler.transform(X_test_cnt_vec_df)\n",
        "\n",
        "# CountVectorizer.\n",
        "# Обучаем логистическую регрессию.\n",
        "clf_cnt_vec_df = LogisticRegression(max_iter=200, random_state=42)\n",
        "clf_cnt_vec_df.fit(X_train_cnt_vec_df, y_train)\n",
        "\n",
        "# Изучаем accuracy предсказания.\n",
        "print('Logistic regression, CountVectorizer + Scaler:')\n",
        "print(f'Accuracy on train = {accuracy_score(y_train, clf_cnt_vec_df.predict(X_train_cnt_vec_df))}')\n",
        "print(f'Accuracy on test = {accuracy_score(y_test, clf_cnt_vec_df.predict(X_test_cnt_vec_df))}')"
      ],
      "metadata": {
        "id": "KBATXJX6LG9q",
        "colab": {
          "base_uri": "https://localhost:8080/"
        },
        "outputId": "b296fd3a-fa29-41ef-950b-705da35cff49"
      },
      "execution_count": 43,
      "outputs": [
        {
          "output_type": "stream",
          "name": "stdout",
          "text": [
            "Logistic regression, CountVectorizer + Scaler:\n",
            "Accuracy on train = 0.9416915847928236\n",
            "Accuracy on test = 0.8446282639027307\n"
          ]
        },
        {
          "output_type": "stream",
          "name": "stderr",
          "text": [
            "/usr/local/lib/python3.10/dist-packages/sklearn/linear_model/_logistic.py:458: ConvergenceWarning: lbfgs failed to converge (status=1):\n",
            "STOP: TOTAL NO. of ITERATIONS REACHED LIMIT.\n",
            "\n",
            "Increase the number of iterations (max_iter) or scale the data as shown in:\n",
            "    https://scikit-learn.org/stable/modules/preprocessing.html\n",
            "Please also refer to the documentation for alternative solver options:\n",
            "    https://scikit-learn.org/stable/modules/linear_model.html#logistic-regression\n",
            "  n_iter_i = _check_optimize_result(\n"
          ]
        }
      ]
    },
    {
      "cell_type": "code",
      "source": [
        "tmp = list(enumerate(clf_cnt_vec_df.coef_[0]))\n",
        "\n",
        "# Получаем 10 наибольших по модулю весов.\n",
        "top10_weights = sorted(tmp, key=lambda x: abs(x[1]), reverse=True)[:10]\n",
        "\n",
        "# Определяем по ним искомые токены.\n",
        "top10_tokens = cnt_vec_df.get_feature_names_out()[list(x[0] for x in top10_weights)]\n",
        "\n",
        "sns.barplot(x=top10_tokens, y=list(x[1] for x in top10_weights))"
      ],
      "metadata": {
        "colab": {
          "base_uri": "https://localhost:8080/",
          "height": 447
        },
        "id": "zttTiyoZmsnb",
        "outputId": "5a9269b0-d87b-4b43-c054-93b9d4639ea0"
      },
      "execution_count": 44,
      "outputs": [
        {
          "output_type": "execute_result",
          "data": {
            "text/plain": [
              "<Axes: >"
            ]
          },
          "metadata": {},
          "execution_count": 44
        },
        {
          "output_type": "display_data",
          "data": {
            "text/plain": [
              "<Figure size 640x480 with 1 Axes>"
            ],
            "image/png": "[encoded data removed]"
          },
          "metadata": {}
        }
      ]
    },
    {
      "cell_type": "markdown",
      "source": [
        "**Ответ:** Доля правильных ответов упала на 4% на обучающей и на 2% на тестовой выборках. Токены с большими отрицательными весами несут резко негативный смысловой оттенок (panic, scam...), в то время как токены с большими положительными весами имеют позитивное значение (help, pleas, best...)."
      ],
      "metadata": {
        "id": "ThcEfzY1LHET"
      }
    },
    {
      "cell_type": "markdown",
      "metadata": {
        "id": "ktJVOdrIHq7B"
      },
      "source": [
        "## Задание 7 Другие признаки (1.5 балла)"
      ]
    },
    {
      "cell_type": "markdown",
      "metadata": {
        "id": "Yt3jRCZ2H0Og"
      },
      "source": [
        "Мы были сконцентрированы на работе с текстами твиттов и не использовали другие признаки - имена пользователя, дату и местоположение"
      ]
    },
    {
      "cell_type": "markdown",
      "metadata": {
        "id": "52wjewCCo_di"
      },
      "source": [
        "Изучите признаки UserName и ScreenName. полезны ли они? Если полезны, то закодируйте их, добавьте к матрице с отскалированными признаками, обучите логистическую регрессию, замерьте качество."
      ]
    },
    {
      "cell_type": "code",
      "execution_count": 47,
      "metadata": {
        "id": "63thouYZptj6",
        "colab": {
          "base_uri": "https://localhost:8080/"
        },
        "outputId": "b8f250cf-b31a-458b-8fbb-449a61c791c0"
      },
      "outputs": [
        {
          "output_type": "stream",
          "name": "stdout",
          "text": [
            "Total: 23410\n",
            "UserName: 23410\n",
            "ScreenName: 23410\n"
          ]
        }
      ],
      "source": [
        "print(\"Total:\", train.shape[0])\n",
        "print(\"UserName:\", train[\"UserName\"].nunique())\n",
        "print(\"ScreenName:\", train[\"ScreenName\"].nunique())"
      ]
    },
    {
      "cell_type": "markdown",
      "metadata": {
        "id": "r8_qR-gnpT3a"
      },
      "source": [
        "**Ответ:** Число уникальных значений в признаках UserName и ScreenName в train совпадает с размером обучающей выборки, т.е. каждому пользователю соответствует только один твитт ⇒ эти признаки не будут полезны для обучения: если значение этих признаков на тестовой выборке совпадет со значением какого-то объекта, на котором проходило обучение модели, то оно в общем случае не будет сильно влиять на конечный результат."
      ]
    },
    {
      "cell_type": "markdown",
      "metadata": {
        "id": "ythEcFSkt7y3"
      },
      "source": [
        "Изучите признак TweetAt в обучающей выборке: преобразуйте его к типу datetime и нарисуйте его гистограмму с разделением по цвету на оспнове целевой переменной. Полезен ли он? Если полезен, то закодируйте его, добавьте к матрице с отскалированными признаками, обучите логистическую регрессию, замерьте качество."
      ]
    },
    {
      "cell_type": "code",
      "source": [
        "train['TweetAt'] = pd.to_datetime(df['TweetAt'], dayfirst=True)\n",
        "\n",
        "fig, ax = plt.subplots(figsize=(12, 5))\n",
        "sns.histplot(data=train, x=\"TweetAt\", hue=\"Sentiment\", ax=ax)\n",
        "plt.show()"
      ],
      "metadata": {
        "id": "Lxb_k0JLirNv",
        "colab": {
          "base_uri": "https://localhost:8080/",
          "height": 465
        },
        "outputId": "56dcd5d8-48b3-4fcc-9b28-7c47321eb793"
      },
      "execution_count": 48,
      "outputs": [
        {
          "output_type": "display_data",
          "data": {
            "text/plain": [
              "<Figure size 1200x500 with 1 Axes>"
            ],
            "image/png": "[encoded data removed]"
          },
          "metadata": {}
        }
      ]
    },
    {
      "cell_type": "markdown",
      "metadata": {
        "id": "4IdLBdpQxM-G"
      },
      "source": [
        "**Ответ:** Исходя из построенной гистограммы при делении по признаку TweetAt каждому промежутку времени соответсвует примерно одинаковое число объектов из обоих целевых классов ⇒ признак TweetAt не будет иметь большого влияния на определения целевого значения.\n",
        "\n"
      ]
    },
    {
      "cell_type": "markdown",
      "source": [
        "Поработайте с признаком Location в обучающей выборке. Сколько уникальных значений?"
      ],
      "metadata": {
        "id": "r2JtRPhNP6qx"
      }
    },
    {
      "cell_type": "code",
      "source": [
        "print(\"Location:\", train[\"Location\"].nunique())"
      ],
      "metadata": {
        "id": "xYQZQ1FRNpoe",
        "colab": {
          "base_uri": "https://localhost:8080/"
        },
        "outputId": "2677cf57-f11b-4be9-fc4e-7e81d631c003"
      },
      "execution_count": 49,
      "outputs": [
        {
          "output_type": "stream",
          "name": "stdout",
          "text": [
            "Location: 7949\n"
          ]
        }
      ]
    },
    {
      "cell_type": "markdown",
      "source": [
        "Постройте гистограмму топ-10 по популярности местоположений (исключая Unknown)"
      ],
      "metadata": {
        "id": "6k4JwpRTQISa"
      }
    },
    {
      "cell_type": "code",
      "source": [
        "dictionary = {}\n",
        "tmp = list(train[train[\"Location\"] != \"Unknown\"][\"Location\"])\n",
        "\n",
        "for w in tmp:\n",
        "  dictionary[w] = dictionary.get(w, 0) + 1\n",
        "\n",
        "# Получаем 10 самых популярных местоположений.\n",
        "top10_locations = sorted(dictionary, key=dictionary.get, reverse=True)[:10]\n",
        "\n",
        "fig, ax = plt.subplots(figsize=(15, 5))\n",
        "sns.barplot(x=top10_locations, y=[dictionary[x] for x in top10_locations], ax=ax)\n",
        "plt.show()"
      ],
      "metadata": {
        "id": "J91YkhegJ0mz",
        "colab": {
          "base_uri": "https://localhost:8080/",
          "height": 445
        },
        "outputId": "30f66683-3669-494e-83b3-6ef5ead24abb"
      },
      "execution_count": 50,
      "outputs": [
        {
          "output_type": "display_data",
          "data": {
            "text/plain": [
              "<Figure size 1500x500 with 1 Axes>"
            ],
            "image/png": "[encoded data removed]"
          },
          "metadata": {}
        }
      ]
    },
    {
      "cell_type": "markdown",
      "source": [
        "Видно, что многие местоположения включают в себя более точное название места, чем другие (Например, у некоторых стоит London, UK; а у некоторых просто UK или United Kingdom).\n",
        "\n",
        "Создайте новый признак WiderLocation, который содержит самое широкое местоположение (например, из London, UK должно получиться UK). Сколько уникальных категорий теперь? Постройте аналогичную гистограмму."
      ],
      "metadata": {
        "id": "ZOsv3lODTfYB"
      }
    },
    {
      "cell_type": "code",
      "source": [
        "import re\n",
        "\n",
        "# Вспомогательная функция.\n",
        "def fun(x):\n",
        "  if \",\" in x:\n",
        "    return re.split(',|, ', x)[-1]\n",
        "  return x\n",
        "\n",
        "train['WiderLocation'] = train['Location'].map(fun)\n",
        "\n",
        "# Число уникальных значений.\n",
        "print(\"WiderLocation:\", train[\"WiderLocation\"].nunique())\n",
        "\n",
        "dictionary = {}\n",
        "tmp = list(train[train[\"WiderLocation\"] != \"Unknown\"][\"WiderLocation\"])\n",
        "\n",
        "for w in tmp:\n",
        "  dictionary[w] = dictionary.get(w, 0) + 1\n",
        "\n",
        "# Получаем 10 самых популярных общих местоположений.\n",
        "top10_widerLocations = sorted(dictionary, key=dictionary.get, reverse=True)[:10]\n",
        "\n",
        "fig, ax = plt.subplots(figsize=(15, 5))\n",
        "sns.barplot(x=top10_widerLocations, y=[dictionary[x] for x in top10_widerLocations], ax=ax)\n",
        "plt.show()"
      ],
      "metadata": {
        "id": "mSkow6acOMyD",
        "colab": {
          "base_uri": "https://localhost:8080/",
          "height": 462
        },
        "outputId": "08179de8-4556-4b75-b58e-56fe79fe2fab"
      },
      "execution_count": 55,
      "outputs": [
        {
          "output_type": "stream",
          "name": "stdout",
          "text": [
            "WiderLocation: 5163\n"
          ]
        },
        {
          "output_type": "display_data",
          "data": {
            "text/plain": [
              "<Figure size 1500x500 with 1 Axes>"
            ],
            "image/png": "[encoded data removed]"
          },
          "metadata": {}
        }
      ]
    },
    {
      "cell_type": "markdown",
      "source": [
        "Закодируйте признак WiderLocation с помощью OHE таким образом, чтобы создались только столбцы для местоположений, которые встречаются более одного раза. Сколько таких значений?\n"
      ],
      "metadata": {
        "id": "cgyWrD2eVfff"
      }
    },
    {
      "cell_type": "code",
      "source": [
        "from sklearn.preprocessing import OneHotEncoder\n",
        "\n",
        "i = train[\"WiderLocation\"].unique()\n",
        "tmp = np.select([train[\"WiderLocation\"].value_counts()[i] > 1], [i])\n",
        "tmp = list(tmp[tmp != 0])\n",
        "\n",
        "# Число закодированных значений.\n",
        "print(\"Encoded WiderLocation:\", len(tmp))\n",
        "\n",
        "# Танцы с бубнами для OHE.\n",
        "encoder = OneHotEncoder(categories=[tmp], handle_unknown ='ignore')\n",
        "df_oe = train.copy()\n",
        "df_oe = encoder.fit_transform(df_oe['WiderLocation'].to_numpy().reshape(-1, 1))\n",
        "\n",
        "tmp2 = train.reset_index()\n",
        "ohe_df = pd.DataFrame(df_oe.toarray(), columns=encoder.get_feature_names_out())\n",
        "\n",
        "train_ohe = pd.concat([tmp2, ohe_df], axis=1).set_index('index').drop(['WiderLocation'], axis=1)\n",
        "\n",
        "train_ohe.head(5)"
      ],
      "metadata": {
        "colab": {
          "base_uri": "https://localhost:8080/",
          "height": 617
        },
        "id": "YoAIQlONN5nq",
        "outputId": "79d9e21f-622f-42fc-b577-bf323017abda"
      },
      "execution_count": 204,
      "outputs": [
        {
          "output_type": "stream",
          "name": "stdout",
          "text": [
            "Encoded WiderLocation: 1159\n"
          ]
        },
        {
          "output_type": "execute_result",
          "data": {
            "text/plain": [
              "       UserName  ScreenName             Location    TweetAt  \\\n",
              "index                                                         \n",
              "25621     35178       80130              Unknown 2020-04-06   \n",
              "30135     40819       85771        Boston, MA HQ 2020-04-10   \n",
              "28899     39249       84201                India 2020-04-09   \n",
              "5989      11068       56020  Mayfair, London, UK 2020-03-19   \n",
              "4367       9109       54061                  WNC 2020-03-18   \n",
              "\n",
              "                                           OriginalTweet  Sentiment  \\\n",
              "index                                                                 \n",
              "25621  Why we still want to buy so much stuff during ...          1   \n",
              "30135  With driving even more usage a strong strategy...          1   \n",
              "28899  @Canon_India I am very happy.. Great job by @C...          1   \n",
              "5989   The U.S national debt will likely exceed $30 T...          0   \n",
              "4367   Finally got to the grocery store. Honestly, wh...          1   \n",
              "\n",
              "       x0_Unknown  x0_India  x0_ UK  x0_ MD  ...  x0_ Australia.  x0_Libya  \\\n",
              "index                                        ...                             \n",
              "25621         1.0       0.0     0.0     0.0  ...             0.0       0.0   \n",
              "30135         0.0       0.0     0.0     0.0  ...             0.0       0.0   \n",
              "28899         0.0       1.0     0.0     0.0  ...             0.0       0.0   \n",
              "5989          0.0       0.0     1.0     0.0  ...             0.0       0.0   \n",
              "4367          0.0       0.0     0.0     0.0  ...             0.0       0.0   \n",
              "\n",
              "       x0_Nanning  x0_#WeAreThePatriots  x0_ Mercury & Jupiter  \\\n",
              "index                                                            \n",
              "25621         0.0                   0.0                    0.0   \n",
              "30135         0.0                   0.0                    0.0   \n",
              "28899         0.0                   0.0                    0.0   \n",
              "5989          0.0                   0.0                    0.0   \n",
              "4367          0.0                   0.0                    0.0   \n",
              "\n",
              "       x0_Brighton & Hove  x0_Home  x0_U.S.A  x0_Republic of Korea  \\\n",
              "index                                                                \n",
              "25621                 0.0      0.0       0.0                   0.0   \n",
              "30135                 0.0      0.0       0.0                   0.0   \n",
              "28899                 0.0      0.0       0.0                   0.0   \n",
              "5989                  0.0      0.0       0.0                   0.0   \n",
              "4367                  0.0      0.0       0.0                   0.0   \n",
              "\n",
              "       x0_IMAGINATION  \n",
              "index                  \n",
              "25621             0.0  \n",
              "30135             0.0  \n",
              "28899             0.0  \n",
              "5989              0.0  \n",
              "4367              0.0  \n",
              "\n",
              "[5 rows x 1165 columns]"
            ],
            "text/html": [
              "\n",
              "  <div id=\"df-9823116f-dd32-4384-aeec-35d035568057\" class=\"colab-df-container\">\n",
              "    <div>\n",
              "<style scoped>\n",
              "    .dataframe tbody tr th:only-of-type {\n",
              "        vertical-align: middle;\n",
              "    }\n",
              "\n",
              "    .dataframe tbody tr th {\n",
              "        vertical-align: top;\n",
              "    }\n",
              "\n",
              "    .dataframe thead th {\n",
              "        text-align: right;\n",
              "    }\n",
              "</style>\n",
              "<table border=\"1\" class=\"dataframe\">\n",
              "  <thead>\n",
              "    <tr style=\"text-align: right;\">\n",
              "      <th></th>\n",
              "      <th>UserName</th>\n",
              "      <th>ScreenName</th>\n",
              "      <th>Location</th>\n",
              "      <th>TweetAt</th>\n",
              "      <th>OriginalTweet</th>\n",
              "      <th>Sentiment</th>\n",
              "      <th>x0_Unknown</th>\n",
              "      <th>x0_India</th>\n",
              "      <th>x0_ UK</th>\n",
              "      <th>x0_ MD</th>\n",
              "      <th>...</th>\n",
              "      <th>x0_ Australia.</th>\n",
              "      <th>x0_Libya</th>\n",
              "      <th>x0_Nanning</th>\n",
              "      <th>x0_#WeAreThePatriots</th>\n",
              "      <th>x0_ Mercury &amp; Jupiter</th>\n",
              "      <th>x0_Brighton &amp; Hove</th>\n",
              "      <th>x0_Home</th>\n",
              "      <th>x0_U.S.A</th>\n",
              "      <th>x0_Republic of Korea</th>\n",
              "      <th>x0_IMAGINATION</th>\n",
              "    </tr>\n",
              "    <tr>\n",
              "      <th>index</th>\n",
              "      <th></th>\n",
              "      <th></th>\n",
              "      <th></th>\n",
              "      <th></th>\n",
              "      <th></th>\n",
              "      <th></th>\n",
              "      <th></th>\n",
              "      <th></th>\n",
              "      <th></th>\n",
              "      <th></th>\n",
              "      <th></th>\n",
              "      <th></th>\n",
              "      <th></th>\n",
              "      <th></th>\n",
              "      <th></th>\n",
              "      <th></th>\n",
              "      <th></th>\n",
              "      <th></th>\n",
              "      <th></th>\n",
              "      <th></th>\n",
              "      <th></th>\n",
              "    </tr>\n",
              "  </thead>\n",
              "  <tbody>\n",
              "    <tr>\n",
              "      <th>25621</th>\n",
              "      <td>35178</td>\n",
              "      <td>80130</td>\n",
              "      <td>Unknown</td>\n",
              "      <td>2020-04-06</td>\n",
              "      <td>Why we still want to buy so much stuff during ...</td>\n",
              "      <td>1</td>\n",
              "      <td>1.0</td>\n",
              "      <td>0.0</td>\n",
              "      <td>0.0</td>\n",
              "      <td>0.0</td>\n",
              "      <td>...</td>\n",
              "      <td>0.0</td>\n",
              "      <td>0.0</td>\n",
              "      <td>0.0</td>\n",
              "      <td>0.0</td>\n",
              "      <td>0.0</td>\n",
              "      <td>0.0</td>\n",
              "      <td>0.0</td>\n",
              "      <td>0.0</td>\n",
              "      <td>0.0</td>\n",
              "      <td>0.0</td>\n",
              "    </tr>\n",
              "    <tr>\n",
              "      <th>30135</th>\n",
              "      <td>40819</td>\n",
              "      <td>85771</td>\n",
              "      <td>Boston, MA HQ</td>\n",
              "      <td>2020-04-10</td>\n",
              "      <td>With driving even more usage a strong strategy...</td>\n",
              "      <td>1</td>\n",
              "      <td>0.0</td>\n",
              "      <td>0.0</td>\n",
              "      <td>0.0</td>\n",
              "      <td>0.0</td>\n",
              "      <td>...</td>\n",
              "      <td>0.0</td>\n",
              "      <td>0.0</td>\n",
              "      <td>0.0</td>\n",
              "      <td>0.0</td>\n",
              "      <td>0.0</td>\n",
              "      <td>0.0</td>\n",
              "      <td>0.0</td>\n",
              "      <td>0.0</td>\n",
              "      <td>0.0</td>\n",
              "      <td>0.0</td>\n",
              "    </tr>\n",
              "    <tr>\n",
              "      <th>28899</th>\n",
              "      <td>39249</td>\n",
              "      <td>84201</td>\n",
              "      <td>India</td>\n",
              "      <td>2020-04-09</td>\n",
              "      <td>@Canon_India I am very happy.. Great job by @C...</td>\n",
              "      <td>1</td>\n",
              "      <td>0.0</td>\n",
              "      <td>1.0</td>\n",
              "      <td>0.0</td>\n",
              "      <td>0.0</td>\n",
              "      <td>...</td>\n",
              "      <td>0.0</td>\n",
              "      <td>0.0</td>\n",
              "      <td>0.0</td>\n",
              "      <td>0.0</td>\n",
              "      <td>0.0</td>\n",
              "      <td>0.0</td>\n",
              "      <td>0.0</td>\n",
              "      <td>0.0</td>\n",
              "      <td>0.0</td>\n",
              "      <td>0.0</td>\n",
              "    </tr>\n",
              "    <tr>\n",
              "      <th>5989</th>\n",
              "      <td>11068</td>\n",
              "      <td>56020</td>\n",
              "      <td>Mayfair, London, UK</td>\n",
              "      <td>2020-03-19</td>\n",
              "      <td>The U.S national debt will likely exceed $30 T...</td>\n",
              "      <td>0</td>\n",
              "      <td>0.0</td>\n",
              "      <td>0.0</td>\n",
              "      <td>1.0</td>\n",
              "      <td>0.0</td>\n",
              "      <td>...</td>\n",
              "      <td>0.0</td>\n",
              "      <td>0.0</td>\n",
              "      <td>0.0</td>\n",
              "      <td>0.0</td>\n",
              "      <td>0.0</td>\n",
              "      <td>0.0</td>\n",
              "      <td>0.0</td>\n",
              "      <td>0.0</td>\n",
              "      <td>0.0</td>\n",
              "      <td>0.0</td>\n",
              "    </tr>\n",
              "    <tr>\n",
              "      <th>4367</th>\n",
              "      <td>9109</td>\n",
              "      <td>54061</td>\n",
              "      <td>WNC</td>\n",
              "      <td>2020-03-18</td>\n",
              "      <td>Finally got to the grocery store. Honestly, wh...</td>\n",
              "      <td>1</td>\n",
              "      <td>0.0</td>\n",
              "      <td>0.0</td>\n",
              "      <td>0.0</td>\n",
              "      <td>0.0</td>\n",
              "      <td>...</td>\n",
              "      <td>0.0</td>\n",
              "      <td>0.0</td>\n",
              "      <td>0.0</td>\n",
              "      <td>0.0</td>\n",
              "      <td>0.0</td>\n",
              "      <td>0.0</td>\n",
              "      <td>0.0</td>\n",
              "      <td>0.0</td>\n",
              "      <td>0.0</td>\n",
              "      <td>0.0</td>\n",
              "    </tr>\n",
              "  </tbody>\n",
              "</table>\n",
              "<p>5 rows × 1165 columns</p>\n",
              "</div>\n",
              "    <div class=\"colab-df-buttons\">\n",
              "\n",
              "  <div class=\"colab-df-container\">\n",
              "    <button class=\"colab-df-convert\" onclick=\"convertToInteractive('df-9823116f-dd32-4384-aeec-35d035568057')\"\n",
              "            title=\"Convert this dataframe to an interactive table.\"\n",
              "            style=\"display:none;\">\n",
              "\n",
              "  <svg xmlns=\"http://www.w3.org/2000/svg\" height=\"24px\" viewBox=\"0 -960 960 960\">\n",
              "    <path d=\"M120-120v-720h720v720H120Zm60-500h600v-160H180v160Zm220 220h160v-160H400v160Zm0 220h160v-160H400v160ZM180-400h160v-160H180v160Zm440 0h160v-160H620v160ZM180-180h160v-160H180v160Zm440 0h160v-160H620v160Z\"/>\n",
              "  </svg>\n",
              "    </button>\n",
              "\n",
              "  <style>\n",
              "    .colab-df-container {\n",
              "      display:flex;\n",
              "      gap: 12px;\n",
              "    }\n",
              "\n",
              "    .colab-df-convert {\n",
              "      background-color: #E8F0FE;\n",
              "      border: none;\n",
              "      border-radius: 50%;\n",
              "      cursor: pointer;\n",
              "      display: none;\n",
              "      fill: #1967D2;\n",
              "      height: 32px;\n",
              "      padding: 0 0 0 0;\n",
              "      width: 32px;\n",
              "    }\n",
              "\n",
              "    .colab-df-convert:hover {\n",
              "      background-color: #E2EBFA;\n",
              "      box-shadow: 0px 1px 2px rgba(60, 64, 67, 0.3), 0px 1px 3px 1px rgba(60, 64, 67, 0.15);\n",
              "      fill: #174EA6;\n",
              "    }\n",
              "\n",
              "    .colab-df-buttons div {\n",
              "      margin-bottom: 4px;\n",
              "    }\n",
              "\n",
              "    [theme=dark] .colab-df-convert {\n",
              "      background-color: #3B4455;\n",
              "      fill: #D2E3FC;\n",
              "    }\n",
              "\n",
              "    [theme=dark] .colab-df-convert:hover {\n",
              "      background-color: #434B5C;\n",
              "      box-shadow: 0px 1px 3px 1px rgba(0, 0, 0, 0.15);\n",
              "      filter: drop-shadow(0px 1px 2px rgba(0, 0, 0, 0.3));\n",
              "      fill: #FFFFFF;\n",
              "    }\n",
              "  </style>\n",
              "\n",
              "    <script>\n",
              "      const buttonEl =\n",
              "        document.querySelector('#df-9823116f-dd32-4384-aeec-35d035568057 button.colab-df-convert');\n",
              "      buttonEl.style.display =\n",
              "        google.colab.kernel.accessAllowed ? 'block' : 'none';\n",
              "\n",
              "      async function convertToInteractive(key) {\n",
              "        const element = document.querySelector('#df-9823116f-dd32-4384-aeec-35d035568057');\n",
              "        const dataTable =\n",
              "          await google.colab.kernel.invokeFunction('convertToInteractive',\n",
              "                                                    [key], {});\n",
              "        if (!dataTable) return;\n",
              "\n",
              "        const docLinkHtml = 'Like what you see? Visit the ' +\n",
              "          '<a target=\"_blank\" href=https://colab.research.google.com/notebooks/data_table.ipynb>data table notebook</a>'\n",
              "          + ' to learn more about interactive tables.';\n",
              "        element.innerHTML = '';\n",
              "        dataTable['output_type'] = 'display_data';\n",
              "        await google.colab.output.renderOutput(dataTable, element);\n",
              "        const docLink = document.createElement('div');\n",
              "        docLink.innerHTML = docLinkHtml;\n",
              "        element.appendChild(docLink);\n",
              "      }\n",
              "    </script>\n",
              "  </div>\n",
              "\n",
              "\n",
              "<div id=\"df-884d0d40-1c33-40a8-b523-864ea2839be7\">\n",
              "  <button class=\"colab-df-quickchart\" onclick=\"quickchart('df-884d0d40-1c33-40a8-b523-864ea2839be7')\"\n",
              "            title=\"Suggest charts\"\n",
              "            style=\"display:none;\">\n",
              "\n",
              "<svg xmlns=\"http://www.w3.org/2000/svg\" height=\"24px\"viewBox=\"0 0 24 24\"\n",
              "     width=\"24px\">\n",
              "    <g>\n",
              "        <path d=\"M19 3H5c-1.1 0-2 .9-2 2v14c0 1.1.9 2 2 2h14c1.1 0 2-.9 2-2V5c0-1.1-.9-2-2-2zM9 17H7v-7h2v7zm4 0h-2V7h2v10zm4 0h-2v-4h2v4z\"/>\n",
              "    </g>\n",
              "</svg>\n",
              "  </button>\n",
              "\n",
              "<style>\n",
              "  .colab-df-quickchart {\n",
              "      --bg-color: #E8F0FE;\n",
              "      --fill-color: #1967D2;\n",
              "      --hover-bg-color: #E2EBFA;\n",
              "      --hover-fill-color: #174EA6;\n",
              "      --disabled-fill-color: #AAA;\n",
              "      --disabled-bg-color: #DDD;\n",
              "  }\n",
              "\n",
              "  [theme=dark] .colab-df-quickchart {\n",
              "      --bg-color: #3B4455;\n",
              "      --fill-color: #D2E3FC;\n",
              "      --hover-bg-color: #434B5C;\n",
              "      --hover-fill-color: #FFFFFF;\n",
              "      --disabled-bg-color: #3B4455;\n",
              "      --disabled-fill-color: #666;\n",
              "  }\n",
              "\n",
              "  .colab-df-quickchart {\n",
              "    background-color: var(--bg-color);\n",
              "    border: none;\n",
              "    border-radius: 50%;\n",
              "    cursor: pointer;\n",
              "    display: none;\n",
              "    fill: var(--fill-color);\n",
              "    height: 32px;\n",
              "    padding: 0;\n",
              "    width: 32px;\n",
              "  }\n",
              "\n",
              "  .colab-df-quickchart:hover {\n",
              "    background-color: var(--hover-bg-color);\n",
              "    box-shadow: 0 1px 2px rgba(60, 64, 67, 0.3), 0 1px 3px 1px rgba(60, 64, 67, 0.15);\n",
              "    fill: var(--button-hover-fill-color);\n",
              "  }\n",
              "\n",
              "  .colab-df-quickchart-complete:disabled,\n",
              "  .colab-df-quickchart-complete:disabled:hover {\n",
              "    background-color: var(--disabled-bg-color);\n",
              "    fill: var(--disabled-fill-color);\n",
              "    box-shadow: none;\n",
              "  }\n",
              "\n",
              "  .colab-df-spinner {\n",
              "    border: 2px solid var(--fill-color);\n",
              "    border-color: transparent;\n",
              "    border-bottom-color: var(--fill-color);\n",
              "    animation:\n",
              "      spin 1s steps(1) infinite;\n",
              "  }\n",
              "\n",
              "  @keyframes spin {\n",
              "    0% {\n",
              "      border-color: transparent;\n",
              "      border-bottom-color: var(--fill-color);\n",
              "      border-left-color: var(--fill-color);\n",
              "    }\n",
              "    20% {\n",
              "      border-color: transparent;\n",
              "      border-left-color: var(--fill-color);\n",
              "      border-top-color: var(--fill-color);\n",
              "    }\n",
              "    30% {\n",
              "      border-color: transparent;\n",
              "      border-left-color: var(--fill-color);\n",
              "      border-top-color: var(--fill-color);\n",
              "      border-right-color: var(--fill-color);\n",
              "    }\n",
              "    40% {\n",
              "      border-color: transparent;\n",
              "      border-right-color: var(--fill-color);\n",
              "      border-top-color: var(--fill-color);\n",
              "    }\n",
              "    60% {\n",
              "      border-color: transparent;\n",
              "      border-right-color: var(--fill-color);\n",
              "    }\n",
              "    80% {\n",
              "      border-color: transparent;\n",
              "      border-right-color: var(--fill-color);\n",
              "      border-bottom-color: var(--fill-color);\n",
              "    }\n",
              "    90% {\n",
              "      border-color: transparent;\n",
              "      border-bottom-color: var(--fill-color);\n",
              "    }\n",
              "  }\n",
              "</style>\n",
              "\n",
              "  <script>\n",
              "    async function quickchart(key) {\n",
              "      const quickchartButtonEl =\n",
              "        document.querySelector('#' + key + ' button');\n",
              "      quickchartButtonEl.disabled = true;  // To prevent multiple clicks.\n",
              "      quickchartButtonEl.classList.add('colab-df-spinner');\n",
              "      try {\n",
              "        const charts = await google.colab.kernel.invokeFunction(\n",
              "            'suggestCharts', [key], {});\n",
              "      } catch (error) {\n",
              "        console.error('Error during call to suggestCharts:', error);\n",
              "      }\n",
              "      quickchartButtonEl.classList.remove('colab-df-spinner');\n",
              "      quickchartButtonEl.classList.add('colab-df-quickchart-complete');\n",
              "    }\n",
              "    (() => {\n",
              "      let quickchartButtonEl =\n",
              "        document.querySelector('#df-884d0d40-1c33-40a8-b523-864ea2839be7 button');\n",
              "      quickchartButtonEl.style.display =\n",
              "        google.colab.kernel.accessAllowed ? 'block' : 'none';\n",
              "    })();\n",
              "  </script>\n",
              "</div>\n",
              "    </div>\n",
              "  </div>\n"
            ],
            "application/vnd.google.colaboratory.intrinsic+json": {
              "type": "dataframe",
              "variable_name": "train_ohe"
            }
          },
          "metadata": {},
          "execution_count": 204
        }
      ]
    },
    {
      "cell_type": "markdown",
      "source": [
        "Добавьте этот признак к матрице отскалированных текстовых признаков, обучите логистическую регрессию, замерьте качество. Как оно изменилось? Оказался ли признак полезным?\n",
        "\n",
        "\n",
        "*Подсказка:* используйте параметр `categories` в энкодере."
      ],
      "metadata": {
        "id": "ZyMX5kZuimPK"
      }
    },
    {
      "cell_type": "code",
      "source": [
        "# Склеиваем матрицы признаков в тренировочной выборке.\n",
        "array1 = X_train_cnt_vec_df.toarray()\n",
        "array2 = train_ohe[train_ohe.columns[6:]].to_numpy()\n",
        "X_train_cnt_vec_df_loc = np.concatenate((array1, array2), axis=1)\n",
        "\n",
        "# CountVectorizer.\n",
        "# Обучаем логистическую регрессию.\n",
        "clf_cnt_vec_df = LogisticRegression(max_iter=200, random_state=42)\n",
        "clf_cnt_vec_df.fit(X_train_cnt_vec_df_loc, y_train)\n",
        "\n",
        "# OHE для тестовой выборки.\n",
        "test['WiderLocation'] = test['Location'].map(fun)\n",
        "df_oe = test.copy()\n",
        "df_oe = encoder.transform(df_oe['WiderLocation'].to_numpy().reshape(-1, 1))\n",
        "df_oe = pd.DataFrame(df_oe.toarray(), columns=encoder.get_feature_names_out())\n",
        "\n",
        "array1 = X_test_cnt_vec_df.toarray()\n",
        "array2 = df_oe.to_numpy()\n",
        "X_test_cnt_vec_df_loc = np.concatenate((array1, array2), axis=1)\n",
        "\n",
        "# Изучаем accuracy предсказания.\n",
        "print('Logistic regression, CountVectorizer + Scaler:')\n",
        "print(f'Accuracy on train = {accuracy_score(y_train, clf_cnt_vec_df.predict(X_train_cnt_vec_df_loc))}')\n",
        "print(f'Accuracy on test = {accuracy_score(y_test, clf_cnt_vec_df.predict(X_test_cnt_vec_df_loc))}')"
      ],
      "metadata": {
        "id": "EO1jNPeeim7A",
        "colab": {
          "base_uri": "https://localhost:8080/"
        },
        "outputId": "7885cdbb-ae16-4283-d08d-0f6c8a805b9c"
      },
      "execution_count": 205,
      "outputs": [
        {
          "output_type": "stream",
          "name": "stderr",
          "text": [
            "/usr/local/lib/python3.10/dist-packages/sklearn/linear_model/_logistic.py:458: ConvergenceWarning: lbfgs failed to converge (status=1):\n",
            "STOP: TOTAL NO. of ITERATIONS REACHED LIMIT.\n",
            "\n",
            "Increase the number of iterations (max_iter) or scale the data as shown in:\n",
            "    https://scikit-learn.org/stable/modules/preprocessing.html\n",
            "Please also refer to the documentation for alternative solver options:\n",
            "    https://scikit-learn.org/stable/modules/linear_model.html#logistic-regression\n",
            "  n_iter_i = _check_optimize_result(\n"
          ]
        },
        {
          "output_type": "stream",
          "name": "stdout",
          "text": [
            "Logistic regression, CountVectorizer + Scaler:\n",
            "Accuracy on train = 0.9461341307133704\n",
            "Accuracy on test = 0.844229619294399\n"
          ]
        }
      ]
    },
    {
      "cell_type": "markdown",
      "source": [
        "**Ответ:** Доля правильных ответов на обучающей выборке увеличилась на 0,5%, а на тестовой - уменьшилась на 0,4% по сравнению с просто отскалированными признаками. Показатели все еще хуже, чем при векторизации без шаманских фокусов ⇒ использовать признак местоположения не имеет особого смысла для улучшения модели."
      ],
      "metadata": {
        "id": "7dHsGlDRYUQt"
      }
    },
    {
      "cell_type": "markdown",
      "source": [
        "## Задание 8 Хорошее качество (Бонус 1 балл)"
      ],
      "metadata": {
        "id": "IWn6h4W9eD3S"
      }
    },
    {
      "cell_type": "markdown",
      "source": [
        "Добейтесь accuracy=0.9 на тестовой выборке (можно сменить токенайзер, векторайзер, модель и т.д.)"
      ],
      "metadata": {
        "id": "-HDI0SU6eLgi"
      }
    },
    {
      "cell_type": "code",
      "source": [
        "# Not today..."
      ],
      "metadata": {
        "id": "k3WMbE8edhlW"
      },
      "execution_count": null,
      "outputs": []
    }
  ],
  "metadata": {
    "colab": {
      "provenance": []
    },
    "kernelspec": {
      "display_name": "Python 3",
      "name": "python3"
    },
    "language_info": {
      "name": "python"
    }
  },
  "nbformat": 4,
  "nbformat_minor": 0
}